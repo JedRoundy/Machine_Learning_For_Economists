{
  "cells": [
    {
      "cell_type": "markdown",
      "metadata": {
        "id": "view-in-github",
        "colab_type": "text"
      },
      "source": [
        "<a href=\"https://colab.research.google.com/github/JedRoundy/Machine_Learning_For_Economists/blob/main/PSET_1/01_pset1coding_BF_TEMPLATE.ipynb\" target=\"_parent\"><img src=\"https://colab.research.google.com/assets/colab-badge.svg\" alt=\"Open In Colab\"/></a>"
      ]
    },
    {
      "cell_type": "markdown",
      "metadata": {
        "id": "Wf8cW5Mf18Yz"
      },
      "source": [
        "# Basics of Python Tutorial\n",
        "I realize that a lot or you have not had a lot of programming experience so I made this to give a general introduction to the types of things that might be useful.  \n",
        "Follow allong the notes and you can press shift and enter to run the code in the cell (the parts of the notebook) to see the output below the selected cell. This cell is what is called a markdown cell that runs a simple typesetting language instead of python code. You might need to run the cell to make it render like regular text."
      ]
    },
    {
      "cell_type": "markdown",
      "metadata": {
        "id": "WcmdTE8J18Y1"
      },
      "source": [
        "Variable assigment works using the '=' operator in python and just like in math, the variable names are just placeholders for some information that can change."
      ]
    },
    {
      "cell_type": "code",
      "execution_count": null,
      "metadata": {
        "id": "6cZt2zan18Y2"
      },
      "outputs": [],
      "source": [
        "x = 5\n",
        "print(x)\n",
        "x = 6\n",
        "print(x)\n",
        "x = 6 + 1\n",
        "print(x)\n",
        "x += 1\n",
        "print(x)"
      ]
    },
    {
      "cell_type": "markdown",
      "metadata": {
        "id": "LRvjoSGM18Y3"
      },
      "source": [
        "It is important to remember that computers only ever do what you tell them, not what you want them to. The trick is to get those two things to be the coincide."
      ]
    },
    {
      "cell_type": "code",
      "execution_count": null,
      "metadata": {
        "id": "fPTjl5PM18Y4"
      },
      "outputs": [],
      "source": [
        "print(name_of_a_variable_that_does_not_exist)"
      ]
    },
    {
      "cell_type": "markdown",
      "metadata": {
        "id": "0A8SB5WZ18Y4"
      },
      "source": [
        "You will likely see a lot of error messages like this throughout your experience programming and especially while you are learning. Understanding what the error message is saying can help you diagnose the issue.\n",
        "Each error has a type, in the example above it is a `NameError` which is a problem with a variable name. It is often that a varibale name does not have a value associated with it so if you see this you probably need to check the spelling of the variable to make sure it lines up with the references that happen above in the code.\n",
        "The second portion after the name type is called the traceback, it will help you find where the error occured. Remember that the real problem could have been something before it was detected so you may need to look at code you ran previously for the root of the issue.\n",
        "The final line will give you a brief description of the problem and should give you a clue as to what the problem is. In this case it tells us pretty clearly what the problem is but that is not always the case. Even if it does not make the problem perfctly clear you should be able to get a pretty good clue.\n",
        "\n",
        "Some other common errors are `IndexError` and `KeyError` which happens when you try to access an element of an object by an index that does not exist; `TypeError` which means the process expected some other type of python object than it was given."
      ]
    },
    {
      "cell_type": "markdown",
      "metadata": {
        "id": "4jijoNYr18Y5"
      },
      "source": [
        "## Object types\n",
        "There are several basic types of objects in python among them are strings, ints, floats, lists, and functions.\n",
        "### strings\n",
        "This is the way that text is represented. In python, a string can be denoted by text being surrounded by '' or \"\""
      ]
    },
    {
      "cell_type": "code",
      "execution_count": null,
      "metadata": {
        "id": "hYbDWKyT18Y5"
      },
      "outputs": [],
      "source": [
        "\"this is a string\"\n",
        "'so is this'\n",
        "my_string = 'this string is being assigned to a variable'\n",
        "print(my_string) # this will display the contents of the variable"
      ]
    },
    {
      "cell_type": "code",
      "execution_count": null,
      "metadata": {
        "id": "IL2EXNDS18Y5"
      },
      "outputs": [],
      "source": [
        "print('you can' + ' add strings together')\n",
        "print('you can multiply them ' * 2)\n",
        "var = 5\n",
        "print(f'you can put numbers and stuff in them like this {var}')"
      ]
    },
    {
      "cell_type": "markdown",
      "metadata": {
        "id": "MXGw4UWl18Y7"
      },
      "source": [
        "### bool\n",
        "bool or boolean balues are True or False. Other objects have a representation as this type and conditional expressions are evaluated to one of the two possibilities, True of False."
      ]
    },
    {
      "cell_type": "code",
      "execution_count": null,
      "metadata": {
        "id": "wbAkBapS18Y8"
      },
      "outputs": [],
      "source": [
        "print(bool(0))\n",
        "print(bool(1))\n",
        "print(bool(0) == False)\n",
        "print('3'.isdigit())\n",
        "print(len('bear'))"
      ]
    },
    {
      "cell_type": "markdown",
      "metadata": {
        "id": "7xgoIr3I18Y8"
      },
      "source": [
        "### ints\n",
        "These are the most basic ways to store numbers in python. They are a lot like the mathematical object integers"
      ]
    },
    {
      "cell_type": "code",
      "execution_count": null,
      "metadata": {
        "id": "efH7UWHA18Y9"
      },
      "outputs": [],
      "source": [
        "print(4+5) # you can add them\n",
        "print(3-5) # you can subtract them\n",
        "print(3*5) # you can multiply them\n",
        "print(3/5) # you can divide them"
      ]
    },
    {
      "cell_type": "markdown",
      "metadata": {
        "id": "5dCZM_Hp18Y9"
      },
      "source": [
        "### floats\n",
        "these are numbers with decimals, they take more memory because they contain more information tha just and integer but you can do the same things with them"
      ]
    },
    {
      "cell_type": "code",
      "execution_count": null,
      "metadata": {
        "id": "AGvgxxoO18Y9"
      },
      "outputs": [],
      "source": [
        "print(4.2+5.3) # you can add them\n",
        "print(3.-5.5) # you can subtract them\n",
        "print(3.7*5.1) # you can multiply them\n",
        "print(3.2/5.4) # you can divide them"
      ]
    },
    {
      "cell_type": "markdown",
      "metadata": {
        "id": "nifehkgx18Y9"
      },
      "source": [
        "### lists\n",
        "lists contain other object types, even lists can be in them."
      ]
    },
    {
      "cell_type": "code",
      "execution_count": null,
      "metadata": {
        "id": "VSoOFYKF18Y9"
      },
      "outputs": [],
      "source": [
        "a = [1,2,3,4,5] # they can all be of the same type\n",
        "b = ['a','b','c','d']\n",
        "c = [2.4,5.0,5.]\n",
        "[2.,1,'bear',[1,2,3]] # they can be of different types"
      ]
    },
    {
      "cell_type": "code",
      "execution_count": null,
      "metadata": {
        "id": "NML1FDgq18Y9"
      },
      "outputs": [],
      "source": [
        "print(c + a) # you can add them\n",
        "c.extend(a) # this way is another choice\n",
        "print(b)\n",
        "a.append(6) # you can put single elements in\n",
        "print(a)\n",
        "print(' '.join(b)) # you can put them together in a string"
      ]
    },
    {
      "cell_type": "markdown",
      "metadata": {
        "id": "urccMKfb18Y-"
      },
      "source": [
        "### slicing\n",
        "You can access one or several of the elements of a list using a concept called slicing"
      ]
    },
    {
      "cell_type": "code",
      "execution_count": null,
      "metadata": {
        "id": "LlVWg1Z018Y-"
      },
      "outputs": [],
      "source": [
        "my_list = ['a','b','c','d','e','f','g']\n",
        "print(my_list[0])\n",
        "print(my_list[3])\n",
        "print(my_list[6])\n",
        "print(my_list[-1])\n",
        "print(my_list[2:4])\n",
        "print(my_list[4:])\n",
        "print(my_list[:3])\n",
        "print(my_list[::2]) # the third number is the step size\n",
        "print(my_list[::-1]) # you can make things go in reverse order with a negative value"
      ]
    },
    {
      "cell_type": "markdown",
      "metadata": {
        "id": "EARvF4eY18Y_"
      },
      "source": [
        "## Practice\n",
        "Assign what is decribed in the comments to the variables directly below, if applicable. If an error is thrown in the assert statement then you did something incorrectly"
      ]
    },
    {
      "cell_type": "code",
      "execution_count": null,
      "metadata": {
        "id": "KALFRX5918Y_"
      },
      "outputs": [],
      "source": [
        "# EXAMPLE\n",
        "# the string bear\n",
        "bear = 'bear'"
      ]
    },
    {
      "cell_type": "code",
      "execution_count": null,
      "metadata": {
        "id": "bpJkDR6M18ZA"
      },
      "outputs": [],
      "source": [
        "# use list slicing to get these answers\n",
        "clever_list_name = ['a','b','c','d','e','f']\n",
        "# the first element of the list\n",
        "a1 =\n",
        "# the third element of the list\n",
        "a2 =\n",
        "# a slice of elements 2,3 and 4\n",
        "a3 =\n",
        "# the last element of the list\n",
        "a4 =\n",
        "# every other element in reverse order\n",
        "a5 ="
      ]
    },
    {
      "cell_type": "code",
      "execution_count": null,
      "metadata": {
        "id": "24fd0aOS18ZA"
      },
      "outputs": [],
      "source": [
        "# don't edit this just run the code to confirm you did the problems correctly\n",
        "assert a1 == 'a', 'Remember that the list index starts at 0'\n",
        "assert a2 == 'c', 'Remember that the list index starts at 0'\n",
        "assert a3 == ['b','c','d'], 'remember that the second number is not inclusive'\n",
        "assert a4 == 'f', 'try using the index -1'\n",
        "assert a5 == ['f','d','b'], 'try using the index -1'"
      ]
    },
    {
      "cell_type": "markdown",
      "metadata": {
        "id": "fikIZZsh18ZA"
      },
      "source": [
        "### functions\n",
        "functions are a predefined set of code that can be used. print is an example of this. it displays a string."
      ]
    },
    {
      "cell_type": "code",
      "execution_count": null,
      "metadata": {
        "id": "gnadzYqj18ZA"
      },
      "outputs": [],
      "source": [
        "print('bear')\n",
        "cat = 'bear'\n",
        "print(cat)"
      ]
    },
    {
      "cell_type": "markdown",
      "metadata": {
        "id": "p2k0kAGI18ZB"
      },
      "source": [
        "The function len returns the length of the object. This can be handy when you are working with large lists or vectors and a variety of other situations"
      ]
    },
    {
      "cell_type": "code",
      "execution_count": null,
      "metadata": {
        "id": "DEDZjMQ818ZB"
      },
      "outputs": [],
      "source": [
        "print(len([1,2,3,4,5]))\n",
        "print(len('insert name here'))"
      ]
    },
    {
      "cell_type": "markdown",
      "metadata": {
        "id": "H8bUrpQU18ZB"
      },
      "source": [
        "some other useful functions"
      ]
    },
    {
      "cell_type": "code",
      "execution_count": null,
      "metadata": {
        "id": "vn12cKzP18ZB"
      },
      "outputs": [],
      "source": [
        "my_list = [1,3,2,5,4]\n",
        "print(sum(my_list))\n",
        "print(max(my_list))\n",
        "print(min(my_list))\n",
        "print(sorted(my_list))"
      ]
    },
    {
      "cell_type": "code",
      "execution_count": null,
      "metadata": {
        "id": "3tyl94Xm18ZB"
      },
      "outputs": [],
      "source": [
        "# practice\n",
        "my_list = [1,2,3,4,5,6,7]\n",
        "# use the functions given to calculate the mean of the given\n",
        "avg =\n",
        "assert avg == 4 and type(avg == float)"
      ]
    },
    {
      "cell_type": "markdown",
      "metadata": {
        "id": "RCG3DTuZ18ZC"
      },
      "source": [
        "You can also define your own functions to do pretty much anything. Everything in the indented block is a part of the function"
      ]
    },
    {
      "cell_type": "code",
      "execution_count": null,
      "metadata": {
        "id": "dtB4GU8-18ZC"
      },
      "outputs": [],
      "source": [
        "def print_bear():\n",
        "    print('bear')\n",
        "\n",
        "print_bear()"
      ]
    },
    {
      "cell_type": "markdown",
      "metadata": {
        "id": "MLQGSoCw18ZC"
      },
      "source": [
        "functions can take variables with the names in the definitions as placeholders for the input"
      ]
    },
    {
      "cell_type": "code",
      "execution_count": null,
      "metadata": {
        "id": "Dc1uegl018ZC"
      },
      "outputs": [],
      "source": [
        "def do_math(x,y):\n",
        "    print(x + y)\n",
        "    print(x - y)\n",
        "    print(x * y)\n",
        "    print(x / y)\n",
        "do_math(3,1)"
      ]
    },
    {
      "cell_type": "markdown",
      "metadata": {
        "id": "0YgLf0fq18ZD"
      },
      "source": [
        "Variables in a fucntion call can be set to have default values by assigning them in the function definition"
      ]
    },
    {
      "cell_type": "code",
      "execution_count": null,
      "metadata": {
        "id": "J5SuwD2A18ZD"
      },
      "outputs": [],
      "source": [
        "def do_math_again(x, y=3):\n",
        "    print(x + y)\n",
        "    print(x - y)\n",
        "    print(x * y)\n",
        "    print(x / y)\n",
        "do_math_again(1)"
      ]
    },
    {
      "cell_type": "markdown",
      "metadata": {
        "id": "whVwueC-18ZD"
      },
      "source": [
        "Variables defined and used in the function only exist inside the function and will not change the values of variables outside of the function"
      ]
    },
    {
      "cell_type": "code",
      "execution_count": null,
      "metadata": {
        "id": "bFPEHKoV18ZD"
      },
      "outputs": [],
      "source": [
        "def define_bear_as_grizzly():\n",
        "    bear = 'grizzly'\n",
        "bear = 'polar'\n",
        "define_bear_as_grizzly()\n",
        "print(bear)"
      ]
    },
    {
      "cell_type": "markdown",
      "metadata": {
        "id": "Y8ltNJrW18ZE"
      },
      "source": [
        "Functions can also return objects. A return statement instantly ends the function so anything after that will not execute"
      ]
    },
    {
      "cell_type": "code",
      "execution_count": null,
      "metadata": {
        "id": "6-zZbiHl18ZE"
      },
      "outputs": [],
      "source": [
        "def add(x,y):\n",
        "    return x + y"
      ]
    },
    {
      "cell_type": "code",
      "execution_count": null,
      "metadata": {
        "id": "vpfFI_Nf18ZE"
      },
      "outputs": [],
      "source": [
        "# practice\n",
        "my_list = [1,2,3,4,5,6,7]\n",
        "# make a function called cool_func_name that calculates and returns the average of a list of integers\n",
        "def cool_func_name():\n",
        "\n",
        "assert cool_func_name(my_list) == 4"
      ]
    },
    {
      "cell_type": "markdown",
      "metadata": {
        "id": "crhNhd3u18ZE"
      },
      "source": [
        "## Loops\n",
        "Loops are one of the most powerful things about computer programming as they are a way to systematically perform tasks several times. The most common one that you will use in python is a for loop but there are also while loops that you can use. When you are using a for loop you are doing a series of operations on successive elements of a class of objects called iterables. These could be strings, lists, tuples, arrays, vectors, series, or generators. If it looks like a list in python it is probably an iterable"
      ]
    },
    {
      "cell_type": "code",
      "execution_count": null,
      "metadata": {
        "id": "scbRdAun18ZF"
      },
      "outputs": [],
      "source": [
        "# looping over a string\n",
        "for character in 'string to loop over':\n",
        "    print(character)"
      ]
    },
    {
      "cell_type": "code",
      "execution_count": null,
      "metadata": {
        "id": "Maav64q-18ZF"
      },
      "outputs": [],
      "source": [
        "for n in [3,-1,7]: # looping over a list\n",
        "    print(n)\n",
        "for i in range(10,19,3): # looping over another iterable\n",
        "    print(i)"
      ]
    },
    {
      "cell_type": "code",
      "execution_count": null,
      "metadata": {
        "id": "hgbnXYG118ZF"
      },
      "outputs": [],
      "source": [
        "# practice\n",
        "# write a loop that prints a range of numbers from 14 to 24 in steps of 2"
      ]
    },
    {
      "cell_type": "code",
      "execution_count": null,
      "metadata": {
        "id": "35rZzQJ918ZG"
      },
      "outputs": [],
      "source": [
        "# practice\n",
        "# define a function that takes a list and uses a loop to print its cumulative sum and returns the total sum of the list"
      ]
    },
    {
      "cell_type": "markdown",
      "metadata": {
        "id": "5Xe82nu_18ZG"
      },
      "source": [
        "Another important concept is if else statements and the boolean logic that comes with it. An if block executes only if the condition evaluates to True."
      ]
    },
    {
      "cell_type": "code",
      "execution_count": null,
      "metadata": {
        "id": "L0sJ6Kb118ZG"
      },
      "outputs": [],
      "source": [
        "if False:\n",
        "    print(\"it won't print this\")\n",
        "if True:\n",
        "    print('it will print this')\n",
        "if 4 < 5:\n",
        "    print('4 is less than 5')\n",
        "if len('batman') >= 7: # greater than or equal to\n",
        "    print('batman has more than seven letters')"
      ]
    },
    {
      "cell_type": "code",
      "execution_count": null,
      "metadata": {
        "id": "bjcE3iXw18ZH"
      },
      "outputs": [],
      "source": [
        "# practice\n",
        "# define a function that loops over a list and prints the cumulative sum of\n",
        "# the numbers that are less than 5 and greater than or equal to 2"
      ]
    },
    {
      "cell_type": "markdown",
      "metadata": {
        "id": "m5iVl7W118ZH"
      },
      "source": [
        "If statements can be combined with elif and else to check multiple conditions. Once a condition is met python will ignore the rest of the conditions so the order can matter"
      ]
    },
    {
      "cell_type": "code",
      "execution_count": null,
      "metadata": {
        "id": "Abpv8rXG18ZH"
      },
      "outputs": [],
      "source": [
        "if 7 <= 6 and type('abc') == str:\n",
        "    print('both conditions were met')\n",
        "elif 7 <= 6 or type('abc') == str:\n",
        "    print('one condition was met')\n",
        "else:\n",
        "    print(\"no conditions were met\")\n",
        "\n",
        "x = 5\n",
        "if x < 10:\n",
        "    print('this one will happen')\n",
        "elif x > 3:\n",
        "    print('this one will not')"
      ]
    },
    {
      "cell_type": "markdown",
      "metadata": {
        "id": "8s_Ig5WY18ZI"
      },
      "source": [
        "If a function has a return statement it creates a new object. It is often the case that a function uses inputs to create and return new output"
      ]
    },
    {
      "cell_type": "code",
      "execution_count": null,
      "metadata": {
        "id": "xS_AE8nC18ZI"
      },
      "outputs": [],
      "source": [
        "def list_average(input_list):\n",
        "    return sum(input_list) / len(input_list)\n",
        "x = list_average([1,2,3,4,5])\n",
        "print(x)"
      ]
    },
    {
      "cell_type": "markdown",
      "metadata": {
        "id": "z0gSwUN318ZI"
      },
      "source": [
        "If you ever want to know the type of an abject you can use the type function"
      ]
    },
    {
      "cell_type": "code",
      "execution_count": null,
      "metadata": {
        "id": "Dx9EQBPQ18ZI"
      },
      "outputs": [],
      "source": [
        "print(type(1))\n",
        "print(type(1.))\n",
        "print(type('1'))\n",
        "print(True)\n",
        "print(type(print_bear))"
      ]
    },
    {
      "cell_type": "code",
      "execution_count": null,
      "metadata": {
        "id": "9Z9cFGUb18ZJ"
      },
      "outputs": [],
      "source": [
        "# practice\n",
        "# define a function named dwight that loops over a list of inputs and prints 'bears' if the element is an int\n",
        "# prints 'beets' if the element is a float\n",
        "# and prints 'battlestar galactica' if it is any other object"
      ]
    },
    {
      "cell_type": "code",
      "execution_count": null,
      "metadata": {
        "id": "qffLwWSq18ZJ"
      },
      "outputs": [],
      "source": [
        "# practice\n",
        "my_list = [[1,2,3],['1',2,3],[1,2,3.5]]\n",
        "# define a function called int_averages that takes an iterable of lists as an input and returns a list with\n",
        "# the average of all the integers in the lists\n",
        "\n",
        "assert int_averages() == [2,2.5,1.5]"
      ]
    },
    {
      "cell_type": "markdown",
      "metadata": {
        "id": "mBHw2hbh18ZJ"
      },
      "source": [
        "Fortunately for us, we do not need to build everything from scratch. As an open source language, we can access the files that other people make available to us. We access the files that we have installed using the import statement"
      ]
    },
    {
      "cell_type": "code",
      "execution_count": null,
      "metadata": {
        "id": "hps6O1i318ZJ"
      },
      "outputs": [],
      "source": [
        "import math # import a whole module\n",
        "import pandas as pd # import a module or function with an alias\n",
        "from math import sqrt # import a single function from a module\n",
        "import matplotlib.pyplot as plt # another way to import a single function from a module"
      ]
    },
    {
      "cell_type": "markdown",
      "metadata": {
        "id": "K2v8HUzw18ZK"
      },
      "source": [
        "These are literally files save don your computer and pip, conda and easy_install are ways of getting these files from the standard repositories that make these available online. You can also write your own functions and import them  \n",
        "You need to tell the interpreter where the thigns are coming from so if you import a module you need to make it explicit in the import or use it in the form module.function. Once a moduel is imported it can be used throught the file so it is best to do all of you imports at the top of the file, usuallly the first code cell, to prevent redundancy"
      ]
    },
    {
      "cell_type": "code",
      "execution_count": null,
      "metadata": {
        "id": "UEqCBTPC18ZK"
      },
      "outputs": [],
      "source": [
        "# each of these are different ways of letting the interpreter know where the functions are coming from\n",
        "import math\n",
        "print(math.floor(1.34))\n",
        "from math import floor\n",
        "print(floor(1.34))\n",
        "from math import floor as f\n",
        "print(f(1.34))\n",
        "print(f == floor) # True if these things evaluate to the same thing\n",
        "print(floor == math.floor)"
      ]
    },
    {
      "cell_type": "code",
      "execution_count": null,
      "metadata": {
        "id": "5jfPJmp518ZK"
      },
      "outputs": [],
      "source": [
        "# find some of the classifiers and regressors on the scikit-learn documentation aand import them"
      ]
    },
    {
      "cell_type": "markdown",
      "metadata": {
        "id": "Mwn1nZxc18ZK"
      },
      "source": [
        "## Object attributes\n",
        "Every object in python has attributes. We access and use these by using the format parent.child the period indicating we want a subpart of of the parent and then the name after it decalres which piece we would like to get."
      ]
    },
    {
      "cell_type": "code",
      "execution_count": null,
      "metadata": {
        "id": "OLusfQ5J18ZK"
      },
      "outputs": [],
      "source": [
        "math.floor"
      ]
    },
    {
      "cell_type": "code",
      "execution_count": null,
      "metadata": {
        "id": "g-LGXUm918ZL"
      },
      "outputs": [],
      "source": [
        "import pandas as pd\n",
        "df = pd.DataFrame([[1,2],[3,4]], columns=['bears','cats'])\n",
        "df"
      ]
    },
    {
      "cell_type": "code",
      "execution_count": null,
      "metadata": {
        "id": "zYhqFwvS18ZM"
      },
      "outputs": [],
      "source": [
        "df.bears"
      ]
    },
    {
      "cell_type": "code",
      "execution_count": null,
      "metadata": {
        "id": "AKxMY0Fh18ZM"
      },
      "outputs": [],
      "source": [
        "# this is another way to access columns\n",
        "df['cats']"
      ]
    },
    {
      "cell_type": "code",
      "execution_count": null,
      "metadata": {
        "id": "BiNTdIQA18ZM"
      },
      "outputs": [],
      "source": [
        "df.columns"
      ]
    },
    {
      "cell_type": "code",
      "execution_count": null,
      "metadata": {
        "id": "g4qxvP9n18ZM"
      },
      "outputs": [],
      "source": [
        "df.index"
      ]
    },
    {
      "cell_type": "code",
      "execution_count": null,
      "metadata": {
        "id": "K42W65SW18ZN"
      },
      "outputs": [],
      "source": [
        "# you can use these to loop over the values in a dataframe\n",
        "for col in df.columns:\n",
        "    print(sum(df[col])/len(df[col]))"
      ]
    },
    {
      "cell_type": "markdown",
      "metadata": {
        "id": "1GJBqj5018ZN"
      },
      "source": [
        "### methods\n",
        "Print and type are standalone functions but some functions are connected directly to abjects and are accessed as attributes of the object to which they are tied. These special functions are often referred to as methods. Remeber to use () to use the function because without that it will just be a function object lying around and not realize you want it do do something."
      ]
    },
    {
      "cell_type": "code",
      "execution_count": null,
      "metadata": {
        "id": "53n4WGRM18ZN"
      },
      "outputs": [],
      "source": [
        "print('strings have the split method'.split(' '))\n",
        "x = ['lists','have','the','append']\n",
        "x.append('method') # this modifies the object without returning it so we don't need to assign it ot a variable\n",
        "print(x)"
      ]
    },
    {
      "cell_type": "code",
      "execution_count": null,
      "metadata": {
        "id": "0uAI9C9H18ZN"
      },
      "outputs": [],
      "source": [
        "df.mean() # this does the same thing as the example loop a couple cells up"
      ]
    },
    {
      "cell_type": "markdown",
      "metadata": {
        "id": "08hxgrIq18ZO"
      },
      "source": [
        "### list comprehensions\n",
        "This is a concept that you will likely see if you are looking for help online. It is a python specific thing that can be really powerful. Instead of adding elements iteratively you can make large lists much faster with these comprehensions"
      ]
    },
    {
      "cell_type": "code",
      "execution_count": null,
      "metadata": {
        "id": "8Gwn1khd18ZO"
      },
      "outputs": [],
      "source": [
        "# traditional loop\n",
        "my_list = []\n",
        "for x in range(10):\n",
        "    my_list.append(x)\n",
        "\n",
        "# list comprehension\n",
        "my_other_list = [x for x in range(10)]\n",
        "print(my_list)\n",
        "print(my_other_list)\n",
        "print(my_list == my_other_list)"
      ]
    },
    {
      "cell_type": "code",
      "execution_count": null,
      "metadata": {
        "id": "nnrRwwrj18ZO"
      },
      "outputs": [],
      "source": [
        "import numpy as np\n",
        "random_list = [np.random.randint(-10,10,1)[0] for x in range(10)]\n",
        "print(random_list)\n",
        "random_list2 = [rand_num/2 for rand_num in random_list]\n",
        "print(random_list2)\n",
        "random_list3 = [f'{i}th element is {x}' for i, x in enumerate(random_list2)]\n",
        "print(random_list3)"
      ]
    },
    {
      "cell_type": "code",
      "execution_count": null,
      "metadata": {
        "id": "Hig9t_Zq18ZO"
      },
      "outputs": [],
      "source": [
        "# the function in the practice that returns a list of averages of the integers between 2 and 5 of lists can be done this way in one line\n",
        "my_list = [[1,2,3],['1',2,3],[1,2,3.5]] # you don't have to understand this I just wanted to show you what is possible\n",
        "[sum([x if (x >= 2 and x < 5) else 0 for x in y if type(x) == int])/len([0 for x in y if type(x) == int and x < 5 and x >= 2]) for y in my_list]"
      ]
    },
    {
      "cell_type": "markdown",
      "metadata": {
        "id": "5gFcMq1R18ZO"
      },
      "source": [
        "# Homework Assignment\n",
        "Every question below this line is going to be graded, so pay attention and try your best"
      ]
    },
    {
      "cell_type": "markdown",
      "metadata": {
        "id": "8MIwIbcM18ZO"
      },
      "source": [
        "### Welcome to the first coding assignment!\n",
        "\n",
        "Learn to google questions! For example, if you want to know how to add elements to a list, use Google to search \"add elements to list python\". Stackoverflow tends to have good concise content.\n",
        "\n",
        "Grade Note: Max points are specified for questions. These inform how questions are weighted in your final score for the assignment. <br>\n",
        "I.e. `my_score / max_pts * ls_pts = my_ls_score`"
      ]
    },
    {
      "cell_type": "code",
      "execution_count": null,
      "metadata": {
        "id": "E0yvmr5018ZP"
      },
      "outputs": [],
      "source": [
        "# import the functions/libraries you will need here\n",
        "import numpy as np\n",
        "import matplotlib.pyplot as plt\n",
        "import pandas as pd"
      ]
    },
    {
      "cell_type": "markdown",
      "metadata": {
        "id": "a-5CJI_c18ZP"
      },
      "source": [
        "### 1\n",
        "$(a)$ Define a list, call it `a`, containing the numbers 1,1,2,3,5,8, 13, 21, 34, 55, 89. <br>\n",
        "**1/2pt**"
      ]
    },
    {
      "cell_type": "code",
      "execution_count": null,
      "metadata": {
        "id": "wnsHnQkg18ZP"
      },
      "outputs": [],
      "source": []
    },
    {
      "cell_type": "markdown",
      "metadata": {
        "id": "i1_blAsy18ZP"
      },
      "source": [
        "$(b)$ Using a `for` loop (google it!), print each of the elements in `a`.<br>\n",
        "**1/2pt**"
      ]
    },
    {
      "cell_type": "code",
      "execution_count": null,
      "metadata": {
        "id": "B4QkkpJ118ZQ"
      },
      "outputs": [],
      "source": []
    },
    {
      "cell_type": "markdown",
      "metadata": {
        "id": "6QT2FLC418ZQ"
      },
      "source": [
        "$(c)$ Using a `for` loop with an `if` condition nested inside (google it!), print each of the elements in `a` that are less than 10.<br>\n",
        "**1/2pt**"
      ]
    },
    {
      "cell_type": "code",
      "execution_count": null,
      "metadata": {
        "id": "cFE6hsqO18ZQ"
      },
      "outputs": [],
      "source": []
    },
    {
      "cell_type": "markdown",
      "metadata": {
        "id": "Ds31l4BD18ZQ"
      },
      "source": [
        "$(d)$ Now using the same list `a` create a new list named `b` that contains all of the values greater than or equal to 10. Hint: there are several ways to do this, but a slick way uses *list comprehension* (google it!)  <br>\n",
        "**1/2pt**"
      ]
    },
    {
      "cell_type": "code",
      "execution_count": null,
      "metadata": {
        "id": "FBegj_aF18ZQ"
      },
      "outputs": [],
      "source": []
    },
    {
      "cell_type": "markdown",
      "metadata": {
        "id": "1Dau5CQP18ZR"
      },
      "source": [
        "$(e)$ Define a function, call it `printthis` that prints the argument given as an input. Then call the function using the input \"this is fun\". Hint: google \"define function in python.\"<br>\n",
        "**1/2pt**"
      ]
    },
    {
      "cell_type": "code",
      "execution_count": null,
      "metadata": {
        "id": "Lmr8agVZ18ZR"
      },
      "outputs": [],
      "source": []
    },
    {
      "cell_type": "markdown",
      "metadata": {
        "id": "lA1TvDZF18ZR"
      },
      "source": [
        "$(f)$ Now define functions that will perform the processes decribed in $c$ and $d$ that can take any list of integers as an input. Hint: part $d$ produces a new list, so your function will need a `return` statement.  <br>\n",
        "**1/2pt**"
      ]
    },
    {
      "cell_type": "code",
      "execution_count": null,
      "metadata": {
        "id": "Ly1QzFqT18ZR"
      },
      "outputs": [],
      "source": []
    },
    {
      "cell_type": "markdown",
      "metadata": {
        "id": "ekoM_4zm18ZR"
      },
      "source": [
        "$(g)$ Define a list, call it `c`, that itself is composed of the following lists of numbers: [1,1,12],[2,3,7,23],[54,12,17,90],[43,52,67,9] (that is, `c` will be a list with four elements, each of which is a list). Then create yet another list, call it `d`, that contains all of the numbers between 5 and 45 that appear in any of the lists. Use nested *list comprehension*. Print out `d` to confirm you got it right. <br> <br>\n",
        "**1/2pt**"
      ]
    },
    {
      "cell_type": "code",
      "execution_count": null,
      "metadata": {
        "id": "dA7Se0EI18ZS"
      },
      "outputs": [],
      "source": []
    },
    {
      "cell_type": "markdown",
      "metadata": {
        "id": "MWuNLc7y18ZS"
      },
      "source": [
        "$(h)$ Define a function that will do the process in $g$ for any given list of lists of integers, then call that function with `c` as an input. <br>\n",
        "**1/2pt**"
      ]
    },
    {
      "cell_type": "code",
      "execution_count": null,
      "metadata": {
        "id": "ekk6H-ai18ZS"
      },
      "outputs": [],
      "source": []
    },
    {
      "cell_type": "markdown",
      "metadata": {
        "id": "prLNoJgc18ZS"
      },
      "source": [
        "$(i)$ Define a function that takes a list of integers and prints the sum of the elements that are greater than or equal to 10. You should be able to use a function you made previously to help if you wish. Call the function using `a` as an input.<br>\n",
        "**1/2pt**"
      ]
    },
    {
      "cell_type": "code",
      "execution_count": null,
      "metadata": {
        "id": "zmaK70nG18ZT"
      },
      "outputs": [],
      "source": []
    },
    {
      "cell_type": "markdown",
      "metadata": {
        "id": "4h20WDVx18ZT"
      },
      "source": [
        "### 2\n",
        "Based on excercise 12 chapter 4 in ISLR.  \n",
        "$(a)$ write a function called `power` that raises the input to 3rd power. Use the function to calculate $10^3$<br>\n",
        "**1/2pt**"
      ]
    },
    {
      "cell_type": "code",
      "execution_count": null,
      "metadata": {
        "id": "SEJKVP7518ZT"
      },
      "outputs": [],
      "source": []
    },
    {
      "cell_type": "markdown",
      "metadata": {
        "id": "MHyW9blN18ZU"
      },
      "source": [
        "$(b)$ write a function called `power2` that takes two inputs and raises the first number to the power of the second number. Use this function to calculate and print $10^3$, $8^{17}$ and $131^3$ <br>\n",
        "**1/2pt**"
      ]
    },
    {
      "cell_type": "code",
      "execution_count": null,
      "metadata": {
        "id": "5wtZ27Cn18ZU"
      },
      "outputs": [],
      "source": []
    },
    {
      "cell_type": "markdown",
      "metadata": {
        "id": "s3RP8tS118ZU"
      },
      "source": [
        "$(c)$ Plot the list [1,2,4,8,16,32] on the y axis against [0,1,2,3,4,5] on the x axis. You can use the code below to import a common plotting package.\n",
        "```python\n",
        "from matplotlib import pyplot as plt\n",
        "```\n",
        "`plt.plot` and `plt.legend` will likely come in handy later on.<br>\n"
      ]
    },
    {
      "cell_type": "code",
      "execution_count": null,
      "metadata": {
        "id": "RGYB4-O718ZU"
      },
      "outputs": [],
      "source": []
    },
    {
      "cell_type": "markdown",
      "metadata": {
        "id": "Bs4wlHM_18ZU"
      },
      "source": [
        "$(d)$ Create lists of values of squared and cubed values of integers from 1 to 5 using the function you defined above. You can use loops or list comprehensions to do this. Plot the lists you created. <br>\n",
        "**2pts (lines, correct x-axis)**"
      ]
    },
    {
      "cell_type": "code",
      "execution_count": null,
      "metadata": {
        "id": "GztKzvSv18ZU"
      },
      "outputs": [],
      "source": []
    },
    {
      "cell_type": "markdown",
      "metadata": {
        "id": "L5_bUzjg18ZV"
      },
      "source": [
        "$(e)$ Add a legend to the plot that shows which color corresponds to the power<br>\n",
        "**1pt**"
      ]
    },
    {
      "cell_type": "code",
      "execution_count": null,
      "metadata": {
        "id": "qDLMjs4V18ZV"
      },
      "outputs": [],
      "source": []
    },
    {
      "cell_type": "markdown",
      "metadata": {
        "id": "3L7XpzXV18ZV"
      },
      "source": [
        "### 3\n",
        "I have read the accompanying file name `python_intro.ipynb` located on *Learning Suite* <br>\n",
        "(yes or no) <br>\n",
        "**1/2pt**"
      ]
    },
    {
      "cell_type": "markdown",
      "metadata": {
        "id": "lzerThZv18ZV"
      },
      "source": [
        "### 4\n",
        "\n",
        "Thanks to Karl Diether in the Finance Department for this section\n",
        "\n",
        "**Pandas**\n",
        "\n",
        "Pandas is a data manipulation library in python. Some of the aspects we will use in thsi course are listed below\n",
        "\n",
        "1. *Pandas core data structures*: the `DataFrame` and `Series`. Understanding that dataframes store mixed type data (strings, integers, floating point, etc) in a rectangular array. Understanding how to call methods (functions available to the datframe such as `mean`, `describe`, or `shift`), and access the dataframe's attributes (i.e. the underlying data) <br><br>\n",
        "\n",
        "2. *Getting data into DataFrames*. Getting data into a `Pandas'` dataframe is usually straight forward and easy. Pandas easily reads many different data formats: csv files, Excel files, SAS data files, Stata data files, etc. In this class, we will mainly read data in form csv files. Still, I will cover other methods. In addition, you will learn how to create `dataframes` from more primitive python datatypes: `lists`, `dictonaries`, and numpy arrays.<br><br>\n",
        "\n",
        "3. *Data creation.* How to create new columns in a dataframe based on a existing column (e.g, computing the log of a column and storing the result as a new column).<br><br>\n",
        "\n",
        "4. *Data selection*. You will learn how to select only the rows or columns of a `dataframe` that you need for your analysis. For example, how to remove missing values, or select only observations where the lagged price is greater than \\$5<br><br>\n",
        "\n",
        "5. *Merging data*. You will learn how to merge dataframes together based on a single key or multiple keys. Furthermore, we will explore the set logic if different merge types: 'left', 'right', 'inner', and 'outer' merges.<br><br>\n",
        "\n",
        "\n",
        "**II. Why Python/Pandas?**\n",
        "\n",
        "Why Python/Pandas? Why not Stata, R, or SAS? Certainly, each of those languages are used in empirical finance research. I think there are some important advantages to using `Python/Pandas`. One of the important reasons is that Python is a well designed a popular general purpose programming language. I think this makes Python/Pandas relatively easily to learn. I also think it provide `Pandas` with a more elegant syntax than the other languages (but that's obviously a subjective judgment on my part). Additionally, I think this general purpose base yields a side benefit to you. Specifically, learning a general purpose programming language has potentially large benefits for you even if you don't decide to pursue a PhD in Finance. Python is used in lots of different domains; it's not narrowly confined to the domain of quantitative finance or even scientific computing or data science.\n",
        "\n",
        "The main purpose of this `Jupyter` `notebook` is to introduce the `Pandas` `library` (the most important library for this course) and the `dataframe` (the main data object we rely on do to empirical work in the course). A secondary purpose of this notebook is to briefly show off the high level nature of `Pandas`; by high level, I mean you can get a lot done with a only a few commands.\n",
        "\n",
        "\n",
        "**III. Introducing the Dataframe**\n",
        "\n",
        "What does `Pandas'` provide that helps with data analysis? The core object Pandas' provides is a container for holding rectangular array of mixed type data called a **dataframe**. You can think of a dataframe as the programming equivalent of a spreadsheet. The `dataframe` contains rows and columns of data where each column can be a different fundamental datatype: integers, floats, imaginary numbers, or strings. Analogous to a spreadsheet, Pandas' provides programmers with many ways to create new data, transform and combine data, aggregate data, or display data. For example, Pandas' has a built in operator (it's the standard division symbol, `/`) that allows one to divide one column into the other element by element. It also has much higher level functions that, for example, allow us to easily create graphs or plots of data. Many of these functions are built into the dataframe (these built in functions are typically called `methods` or `member` `functions` in the parlance of object oriented programming). So a dataframe isn't just a container for data; it also holds many functions that allow us to perform data analysis. That's why a dataframe is considering an object; it holds mix type data and it provides functions (methods) that allow us to manipulate, transform, and analyze data. The data an object can store, and the functions that can operate on the data define the object's identity (a dataframe in this case).\n",
        "\n",
        "**II. Accessing the Pandas Library**\n",
        "\n",
        "To use Pandas we have to tell Python that we want access to it. This is accomplished with Python's `import` command. As part of the import command I will also give the `Pandas` `library` a namespace. It's convention to use `pd` as the namespace (you can use a different name than `pd` but `pd` is a really strong convention for Pandas in the Python world ... most people will think you're weird if you use any other namespace convention). Given the `pd` namespace, Pandas' functions that we call will take the following form: `pd.function` (for example, `pd.read_csv`). Using namespaces is a good programming practice (habit) because it keeps your code tidier. It's makes it clearer what library a certain function or command comes from if each library you use has it's own namespace."
      ]
    },
    {
      "cell_type": "markdown",
      "metadata": {
        "id": "4L_vgD0718ZW"
      },
      "source": [
        "**III. Reading in the data and creating a `dataframe`**\n",
        "\n",
        "Let's read in some data, and create a `dataframe` object. The data we wish to read into a `dataframe` are annual balance sheet data from Amazon. The data are in a csv file so we can read in the data using the `read_csv` function. The `read_csv` function will automatically create a `dataframe` object containing the data from the csv file. The `read_csv` function has a lot of options and flexibility (take a look at the [help page for it in Pandas' documentation](https://pandas.pydata.org/pandas-docs/stable/generated/pandas.read_csv.html)), but often you don't use any of them (particularly for well formed or non-messy csv files). Pandas can read many different datafile formats (e.g., Excel, SAS, SQL, and Stata), but in this class we will mainly work with csv files. Note, the csv file is actually stored on a web server. The `read_csv` function in `pandas`, of course, reads files stored on your local machine, but it also has no trouble reading file stored remotely; you just need to provide a URL."
      ]
    },
    {
      "cell_type": "code",
      "execution_count": null,
      "metadata": {
        "id": "olroo6uG18ZW"
      },
      "outputs": [],
      "source": [
        "df = pd.read_csv('https://raw.githubusercontent.com/brighamfrandsen/econ484/master/01-amazon.csv')"
      ]
    },
    {
      "cell_type": "markdown",
      "metadata": {
        "id": "h6idkgBk18ZW"
      },
      "source": [
        "Note (1): To read in data from non-csv formats you generally invoke a command very similar to `read_csv`. For example, you can read in a `Stata` datafile using the following:\n",
        "```python\n",
        "df = pandas.read_stata('filename.dta')\n",
        "```\n",
        "\n",
        "Note (2): There are many other ways to create dataframes. For example, you can convert core Python data structures (like `lists` or `dictionaries`) into `dataframes`."
      ]
    },
    {
      "cell_type": "markdown",
      "metadata": {
        "id": "Vzls-Jkr18ZW"
      },
      "source": [
        "**a. Displaying the data in a dataframe**\n",
        "\n",
        "The **Colab notebook** is a special environment where if you type the name of a dataframe (or other datatypes), it will display the default view of that object (e.g., if the dataframe is small it will display all the data in the dataframe, and if it's large only a truncated view of the data will be displayed). If you just write a python program and run it, then you need to use the `print` function to see any output. But since we are in a notebook, just type the name of the dataframe and run the cell:<br>\n",
        "**1/2pt**"
      ]
    },
    {
      "cell_type": "code",
      "execution_count": null,
      "metadata": {
        "id": "_A4f5oAc18ZW"
      },
      "outputs": [],
      "source": []
    },
    {
      "cell_type": "markdown",
      "metadata": {
        "id": "poTovDjk18ZX"
      },
      "source": [
        "Or we can use an explicit print command:"
      ]
    },
    {
      "cell_type": "code",
      "execution_count": null,
      "metadata": {
        "id": "mndFZwza18ZX"
      },
      "outputs": [],
      "source": [
        "print(df)"
      ]
    },
    {
      "cell_type": "markdown",
      "metadata": {
        "id": "D3i894M418ZY"
      },
      "source": [
        "**b. Dataframes and Series**\n",
        "\n",
        "Our `dataframe` is called `df`, but if we select a column from the `dataframe` it will be of type `Series`. `Dataframes` and `Series` behave very similarly; for our purposes, it will mostly just be a technical distinction between a one dimensional and two dimensional array.\n",
        "\n",
        "Note (1): we can select a column of a dataframe (a Series) by wrapping the column's name in quotes. For example,\n",
        "```python\n",
        "df['sales']\n",
        "```\n",
        "\n",
        "Note (2): you typically must wrap the column's name in ' ' because most column names are stored as strings. You will need to reference columns this way as long as the variable names you use aren't entirely numeric (e.g., an integer). In Python (and nearly every other general purpose programming language) strings are always delimited by either single or double quotes. In `Python` you can use either single (' ') or double (\" \") quotes.  \n",
        "\n",
        "Note (3):  In Python, there is a `type` function that returns the type of a variable or object.<br>\n",
        "**1pt (1/4pt for each: columns, select 1, select 2, display types)**"
      ]
    },
    {
      "cell_type": "code",
      "execution_count": null,
      "metadata": {
        "id": "KFQ6bz0k18ZY"
      },
      "outputs": [],
      "source": [
        "# display the columns attribute of the dataframe, which has has all of the column names\n"
      ]
    },
    {
      "cell_type": "code",
      "execution_count": null,
      "metadata": {
        "id": "EgGd5f2f18ZY"
      },
      "outputs": [],
      "source": [
        "# try displaying one column:\n"
      ]
    },
    {
      "cell_type": "code",
      "execution_count": null,
      "metadata": {
        "id": "lnsC3ene18ZY"
      },
      "outputs": [],
      "source": [
        "# select multiple columns to display by putting in a list of column names\n"
      ]
    },
    {
      "cell_type": "code",
      "execution_count": null,
      "metadata": {
        "id": "ZZ346K6618ZY"
      },
      "outputs": [],
      "source": [
        "# display the type of the columns you selected\n"
      ]
    },
    {
      "cell_type": "markdown",
      "metadata": {
        "id": "Q_beJD_l18ZZ"
      },
      "source": [
        "**IV. Creating a New Column of Data**\n",
        "\n",
        "We can create a new column in a dataframe using the assignment operator. Like most programming languages, the assignment operator is just the equal sign: `=`. For example, we might be interested in how Amazon's capital structure changes over time. Therefore, let's create a debt to assets (measured by `mktcap`) ratio. This ratio is called leverage\n",
        "\n",
        "Note (1): mathematical operations such as addition (+), subtraction (-), multiplication (*), or division (/) are all element by element operations between the dataframe columns that are referenced.\n",
        "\n",
        "**1pt (1/2 for each: new column, half for drop column)**"
      ]
    },
    {
      "cell_type": "code",
      "execution_count": null,
      "metadata": {
        "id": "prBoD5Ry18ZZ"
      },
      "outputs": [],
      "source": [
        "# create a new column called leverage that is the ratio of debt to assets (mktcap)\n"
      ]
    },
    {
      "cell_type": "markdown",
      "metadata": {
        "id": "YPRgCA_518ZZ"
      },
      "source": [
        "Note (2): mathematical operations between scalars and columns operate analogously. For example,\n",
        "```python\n",
        "df['leverage']*100\n",
        "```\n",
        "would multiply every element in the leverage column by 100."
      ]
    },
    {
      "cell_type": "markdown",
      "metadata": {
        "id": "0oG8vkOM18ZZ"
      },
      "source": [
        "**Deleting a Variable/Column of Data**"
      ]
    },
    {
      "cell_type": "code",
      "execution_count": null,
      "metadata": {
        "id": "0FyG26Uz18ZZ"
      },
      "outputs": [],
      "source": [
        "# delete the tick column with the drop method\n"
      ]
    },
    {
      "cell_type": "markdown",
      "metadata": {
        "id": "Jqi5jtAJ18Za"
      },
      "source": [
        "Not the above command (`drop`), created a new `dataframe` with the `tick` column removed. Most `pandas` commands with operate this way. To modify the original `dataframe` df we have to assign the `dataframe` created by the drop command to `df`. Many dataframe methods have the argument inplace that you can set to `True` to overwrite the old dataframe with the new one:"
      ]
    },
    {
      "cell_type": "code",
      "execution_count": null,
      "metadata": {
        "id": "XJtOf1jy18Za"
      },
      "outputs": [],
      "source": [
        "# save the new dataframe with the dropped column using one of the methods described above"
      ]
    },
    {
      "cell_type": "markdown",
      "metadata": {
        "id": "yP1BJwnI18Za"
      },
      "source": [
        "**V. Power of Pandas**\n",
        "\n",
        "To show off how the high level nature of `Pandas` (how much you can accomplish with a few commands), let's create some plots.<br>\n",
        "**2pts**\n",
        "\n",
        "a) First, a simple plot of sales/revenue as a function of year"
      ]
    },
    {
      "cell_type": "code",
      "execution_count": null,
      "metadata": {
        "id": "A6XKB7zc18Za"
      },
      "outputs": [],
      "source": [
        "%matplotlib inline\n"
      ]
    },
    {
      "cell_type": "markdown",
      "metadata": {
        "id": "Jjsnjj8x18Za"
      },
      "source": [
        "Note, how the plotting function is called; we call it using the `.` operator:\n",
        "```\n",
        "df.plot(y='revenue',x='year')\n",
        "```\n",
        "The `.plot()` function is part of any dataframe; plotting is one of the dataframe object's attributes or to talk like a programmer, it's one of the object's methods.\n",
        "\n",
        "Back to plotting\n",
        "\n",
        "b) Let's still do revenue as a function of year but as a bar barplot."
      ]
    },
    {
      "cell_type": "code",
      "execution_count": null,
      "metadata": {
        "id": "A8zD_z7y18Za"
      },
      "outputs": [],
      "source": [
        "# create a barplot of revenue on year\n"
      ]
    },
    {
      "cell_type": "markdown",
      "metadata": {
        "id": "GTv8bDTR18Za"
      },
      "source": [
        "c) Next, a plot of EBIT as a function of year as a barplot with a title"
      ]
    },
    {
      "cell_type": "code",
      "execution_count": null,
      "metadata": {
        "id": "L5Aj3Nc818Za"
      },
      "outputs": [],
      "source": [
        "# these are just some examples of things you can do\n",
        "df.plot.bar(y='ebit',x='year',title=\"Amazon's Earnings\",color='darkblue')"
      ]
    },
    {
      "cell_type": "markdown",
      "metadata": {
        "id": "s9CeiPF918Za"
      },
      "source": [
        "d) Finally, let's look at Amazon's leverage over time"
      ]
    },
    {
      "cell_type": "code",
      "execution_count": null,
      "metadata": {
        "id": "kGnZH0rF18Za"
      },
      "outputs": [],
      "source": []
    },
    {
      "cell_type": "markdown",
      "metadata": {
        "id": "MmPu3c_k18Zb"
      },
      "source": []
    }
  ],
  "metadata": {
    "kernelspec": {
      "display_name": "Python 3",
      "language": "python",
      "name": "python3"
    },
    "language_info": {
      "codemirror_mode": {
        "name": "ipython",
        "version": 3
      },
      "file_extension": ".py",
      "mimetype": "text/x-python",
      "name": "python",
      "nbconvert_exporter": "python",
      "pygments_lexer": "ipython3",
      "version": "3.7.4"
    },
    "colab": {
      "provenance": [],
      "include_colab_link": true
    }
  },
  "nbformat": 4,
  "nbformat_minor": 0
}