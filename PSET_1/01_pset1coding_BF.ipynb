{
  "cells": [
    {
      "cell_type": "markdown",
      "metadata": {
        "id": "view-in-github",
        "colab_type": "text"
      },
      "source": [
        "<a href=\"https://colab.research.google.com/github/JedRoundy/Machine_Learning_For_Economists/blob/main/PSET_1/01_pset1coding_BF.ipynb\" target=\"_parent\"><img src=\"https://colab.research.google.com/assets/colab-badge.svg\" alt=\"Open In Colab\"/></a>"
      ]
    },
    {
      "cell_type": "markdown",
      "metadata": {
        "id": "Wf8cW5Mf18Yz"
      },
      "source": [
        "# Basics of Python Tutorial\n",
        "I realize that a lot or you have not had a lot of programming experience so I made this to give a general introduction to the types of things that might be useful.  \n",
        "Follow allong the notes and you can press shift and enter to run the code in the cell (the parts of the notebook) to see the output below the selected cell. This cell is what is called a markdown cell that runs a simple typesetting language instead of python code. You might need to run the cell to make it render like regular text."
      ]
    },
    {
      "cell_type": "markdown",
      "metadata": {
        "id": "WcmdTE8J18Y1"
      },
      "source": [
        "Variable assigment works using the '=' operator in python and just like in math, the variable names are just placeholders for some information that can change."
      ]
    },
    {
      "cell_type": "code",
      "execution_count": 1,
      "metadata": {
        "colab": {
          "base_uri": "https://localhost:8080/"
        },
        "id": "6cZt2zan18Y2",
        "outputId": "979c0eec-f70d-41b6-84af-a5ce813ff6a6"
      },
      "outputs": [
        {
          "output_type": "stream",
          "name": "stdout",
          "text": [
            "5\n",
            "6\n",
            "7\n",
            "8\n"
          ]
        }
      ],
      "source": [
        "x = 5\n",
        "print(x)\n",
        "x = 6\n",
        "print(x)\n",
        "x = 6 + 1\n",
        "print(x)\n",
        "x += 1\n",
        "print(x)"
      ]
    },
    {
      "cell_type": "markdown",
      "metadata": {
        "id": "LRvjoSGM18Y3"
      },
      "source": [
        "It is important to remember that computers only ever do what you tell them, not what you want them to. The trick is to get those two things to be the coincide."
      ]
    },
    {
      "cell_type": "code",
      "execution_count": 2,
      "metadata": {
        "colab": {
          "base_uri": "https://localhost:8080/",
          "height": 181
        },
        "id": "fPTjl5PM18Y4",
        "outputId": "914fe333-f959-4bb9-8f02-5269d74cf002"
      },
      "outputs": [
        {
          "output_type": "error",
          "ename": "NameError",
          "evalue": "ignored",
          "traceback": [
            "\u001b[0;31m---------------------------------------------------------------------------\u001b[0m",
            "\u001b[0;31mNameError\u001b[0m                                 Traceback (most recent call last)",
            "\u001b[0;32m<ipython-input-2-edfa2388bac9>\u001b[0m in \u001b[0;36m<cell line: 1>\u001b[0;34m()\u001b[0m\n\u001b[0;32m----> 1\u001b[0;31m \u001b[0mprint\u001b[0m\u001b[0;34m(\u001b[0m\u001b[0mname_of_a_variable_that_does_not_exist\u001b[0m\u001b[0;34m)\u001b[0m\u001b[0;34m\u001b[0m\u001b[0;34m\u001b[0m\u001b[0m\n\u001b[0m",
            "\u001b[0;31mNameError\u001b[0m: name 'name_of_a_variable_that_does_not_exist' is not defined"
          ]
        }
      ],
      "source": [
        "#print(name_of_a_variable_that_does_not_exist)"
      ]
    },
    {
      "cell_type": "markdown",
      "metadata": {
        "id": "0A8SB5WZ18Y4"
      },
      "source": [
        "You will likely see a lot of error messages like this throughout your experience programming and especially while you are learning. Understanding what the error message is saying can help you diagnose the issue.\n",
        "Each error has a type, in the example above it is a `NameError` which is a problem with a variable name. It is often that a varibale name does not have a value associated with it so if you see this you probably need to check the spelling of the variable to make sure it lines up with the references that happen above in the code.\n",
        "The second portion after the name type is called the traceback, it will help you find where the error occured. Remember that the real problem could have been something before it was detected so you may need to look at code you ran previously for the root of the issue.\n",
        "The final line will give you a brief description of the problem and should give you a clue as to what the problem is. In this case it tells us pretty clearly what the problem is but that is not always the case. Even if it does not make the problem perfctly clear you should be able to get a pretty good clue.\n",
        "\n",
        "Some other common errors are `IndexError` and `KeyError` which happens when you try to access an element of an object by an index that does not exist; `TypeError` which means the process expected some other type of python object than it was given."
      ]
    },
    {
      "cell_type": "markdown",
      "metadata": {
        "id": "4jijoNYr18Y5"
      },
      "source": [
        "## Object types\n",
        "There are several basic types of objects in python among them are strings, ints, floats, lists, and functions.\n",
        "### strings\n",
        "This is the way that text is represented. In python, a string can be denoted by text being surrounded by '' or \"\""
      ]
    },
    {
      "cell_type": "code",
      "execution_count": 59,
      "metadata": {
        "colab": {
          "base_uri": "https://localhost:8080/"
        },
        "id": "hYbDWKyT18Y5",
        "outputId": "2b18e7c9-1147-4640-c0df-2a057887c312"
      },
      "outputs": [
        {
          "output_type": "stream",
          "name": "stdout",
          "text": [
            "this string is being assigned to a variable\n"
          ]
        }
      ],
      "source": [
        "\"this is a string\"\n",
        "'so is this'\n",
        "my_string = 'this string is being assigned to a variable'\n",
        "print(my_string) # this will display the contents of the variable"
      ]
    },
    {
      "cell_type": "code",
      "execution_count": 60,
      "metadata": {
        "colab": {
          "base_uri": "https://localhost:8080/"
        },
        "id": "IL2EXNDS18Y5",
        "outputId": "722b616c-2406-47ee-dd35-4ba9e64629ee"
      },
      "outputs": [
        {
          "output_type": "stream",
          "name": "stdout",
          "text": [
            "you can add strings together\n",
            "you can multiply them you can multiply them \n",
            "you can put numbers and stuff in them like this 5\n"
          ]
        }
      ],
      "source": [
        "print('you can' + ' add strings together')\n",
        "print('you can multiply them ' * 2)\n",
        "var = 5\n",
        "print(f'you can put numbers and stuff in them like this {var}')"
      ]
    },
    {
      "cell_type": "markdown",
      "metadata": {
        "id": "MXGw4UWl18Y7"
      },
      "source": [
        "### bool\n",
        "bool or boolean balues are True or False. Other objects have a representation as this type and conditional expressions are evaluated to one of the two possibilities, True of False."
      ]
    },
    {
      "cell_type": "code",
      "execution_count": 61,
      "metadata": {
        "colab": {
          "base_uri": "https://localhost:8080/"
        },
        "id": "wbAkBapS18Y8",
        "outputId": "38d5fd29-52c8-4f1e-ac65-7705353dba16"
      },
      "outputs": [
        {
          "output_type": "stream",
          "name": "stdout",
          "text": [
            "False\n",
            "True\n",
            "True\n",
            "True\n",
            "4\n"
          ]
        }
      ],
      "source": [
        "print(bool(0))\n",
        "print(bool(1))\n",
        "print(bool(0) == False)\n",
        "print('3'.isdigit())\n",
        "print(len('bear'))"
      ]
    },
    {
      "cell_type": "markdown",
      "metadata": {
        "id": "7xgoIr3I18Y8"
      },
      "source": [
        "### ints\n",
        "These are the most basic ways to store numbers in python. They are a lot like the mathematical object integers"
      ]
    },
    {
      "cell_type": "code",
      "execution_count": 62,
      "metadata": {
        "colab": {
          "base_uri": "https://localhost:8080/"
        },
        "id": "efH7UWHA18Y9",
        "outputId": "6a8d8720-2253-4de7-c140-b306aca03926"
      },
      "outputs": [
        {
          "output_type": "stream",
          "name": "stdout",
          "text": [
            "9\n",
            "-2\n",
            "15\n",
            "0.6\n"
          ]
        }
      ],
      "source": [
        "print(4+5) # you can add them\n",
        "print(3-5) # you can subtract them\n",
        "print(3*5) # you can multiply them\n",
        "print(3/5) # you can divide them"
      ]
    },
    {
      "cell_type": "markdown",
      "metadata": {
        "id": "5dCZM_Hp18Y9"
      },
      "source": [
        "### floats\n",
        "these are numbers with decimals, they take more memory because they contain more information tha just and integer but you can do the same things with them"
      ]
    },
    {
      "cell_type": "code",
      "execution_count": 63,
      "metadata": {
        "colab": {
          "base_uri": "https://localhost:8080/"
        },
        "id": "AGvgxxoO18Y9",
        "outputId": "419e25e0-77d1-4949-8308-57b530e32ec3"
      },
      "outputs": [
        {
          "output_type": "stream",
          "name": "stdout",
          "text": [
            "9.5\n",
            "-2.5\n",
            "18.87\n",
            "0.5925925925925926\n"
          ]
        }
      ],
      "source": [
        "print(4.2+5.3) # you can add them\n",
        "print(3.-5.5) # you can subtract them\n",
        "print(3.7*5.1) # you can multiply them\n",
        "print(3.2/5.4) # you can divide them"
      ]
    },
    {
      "cell_type": "markdown",
      "metadata": {
        "id": "nifehkgx18Y9"
      },
      "source": [
        "### lists\n",
        "lists contain other object types, even lists can be in them."
      ]
    },
    {
      "cell_type": "code",
      "execution_count": 64,
      "metadata": {
        "colab": {
          "base_uri": "https://localhost:8080/"
        },
        "id": "VSoOFYKF18Y9",
        "outputId": "37596502-3501-4f5e-a281-b99d431383c6"
      },
      "outputs": [
        {
          "output_type": "execute_result",
          "data": {
            "text/plain": [
              "[2.0, 1, 'bear', [1, 2, 3]]"
            ]
          },
          "metadata": {},
          "execution_count": 64
        }
      ],
      "source": [
        "a = [1,2,3,4,5] # they can all be of the same type\n",
        "b = ['a','b','c','d']\n",
        "c = [2.4,5.0,5.]\n",
        "[2.,1,'bear',[1,2,3]] # they can be of different types"
      ]
    },
    {
      "cell_type": "code",
      "execution_count": 65,
      "metadata": {
        "colab": {
          "base_uri": "https://localhost:8080/"
        },
        "id": "NML1FDgq18Y9",
        "outputId": "1e8dd0d2-4eb2-4833-b6b9-ffbb7e885adf"
      },
      "outputs": [
        {
          "output_type": "stream",
          "name": "stdout",
          "text": [
            "[2.4, 5.0, 5.0, 1, 2, 3, 4, 5]\n",
            "['a', 'b', 'c', 'd']\n",
            "[1, 2, 3, 4, 5, 6]\n",
            "a b c d\n"
          ]
        }
      ],
      "source": [
        "print(c + a) # you can add them\n",
        "c.extend(a) # this way is another choice\n",
        "print(b)\n",
        "a.append(6) # you can put single elements in\n",
        "print(a)\n",
        "print(' '.join(b)) # you can put them together in a string"
      ]
    },
    {
      "cell_type": "markdown",
      "metadata": {
        "id": "urccMKfb18Y-"
      },
      "source": [
        "### slicing\n",
        "You can access one or several of the elements of a list using a concept called slicing"
      ]
    },
    {
      "cell_type": "code",
      "execution_count": 66,
      "metadata": {
        "colab": {
          "base_uri": "https://localhost:8080/"
        },
        "id": "LlVWg1Z018Y-",
        "outputId": "2c9b0ef3-daec-4502-dc38-31f82380fded"
      },
      "outputs": [
        {
          "output_type": "stream",
          "name": "stdout",
          "text": [
            "a\n",
            "d\n",
            "g\n",
            "g\n",
            "['c', 'd']\n",
            "['e', 'f', 'g']\n",
            "['a', 'b', 'c']\n",
            "['a', 'c', 'e', 'g']\n",
            "['g', 'f', 'e', 'd', 'c', 'b', 'a']\n"
          ]
        }
      ],
      "source": [
        "my_list = ['a','b','c','d','e','f','g']\n",
        "print(my_list[0])\n",
        "print(my_list[3])\n",
        "print(my_list[6])\n",
        "print(my_list[-1])\n",
        "print(my_list[2:4])\n",
        "print(my_list[4:])\n",
        "print(my_list[:3])\n",
        "print(my_list[::2]) # the third number is the step size\n",
        "print(my_list[::-1]) # you can make things go in reverse order with a negative value"
      ]
    },
    {
      "cell_type": "markdown",
      "metadata": {
        "id": "EARvF4eY18Y_"
      },
      "source": [
        "## Practice\n",
        "Assign what is decribed in the comments to the variables directly below, if applicable. If an error is thrown in the assert statement then you did something incorrectly"
      ]
    },
    {
      "cell_type": "code",
      "execution_count": 67,
      "metadata": {
        "id": "KALFRX5918Y_"
      },
      "outputs": [],
      "source": [
        "# EXAMPLE\n",
        "# the string bear\n",
        "bear = 'bear'"
      ]
    },
    {
      "cell_type": "code",
      "execution_count": 68,
      "metadata": {
        "id": "bpJkDR6M18ZA"
      },
      "outputs": [],
      "source": [
        "# use list slicing to get these answers\n",
        "clever_list_name = ['a','b','c','d','e','f']\n",
        "# the first element of the list\n",
        "a1 = clever_list_name[0]\n",
        "# the third element of the list\n",
        "a2 = clever_list_name[2]\n",
        "# a slice of elements 2,3 and 4\n",
        "a3 = clever_list_name[1:4]\n",
        "# the last element of the list\n",
        "a4 = clever_list_name[-1]\n",
        "# every other element in reverse order\n",
        "a5 = clever_list_name[::-2]"
      ]
    },
    {
      "cell_type": "code",
      "execution_count": 69,
      "metadata": {
        "id": "24fd0aOS18ZA"
      },
      "outputs": [],
      "source": [
        "# don't edit this just run the code to confirm you did the problems correctly\n",
        "assert a1 == 'a', 'Remember that the list index starts at 0'\n",
        "assert a2 == 'c', 'Remember that the list index starts at 0'\n",
        "assert a3 == ['b','c','d'], 'remember that the second number is not inclusive'\n",
        "assert a4 == 'f', 'try using the index -1'\n",
        "assert a5 == ['f','d','b'], 'try using the index -1'"
      ]
    },
    {
      "cell_type": "markdown",
      "metadata": {
        "id": "fikIZZsh18ZA"
      },
      "source": [
        "### functions\n",
        "functions are a predefined set of code that can be used. print is an example of this. it displays a string."
      ]
    },
    {
      "cell_type": "code",
      "execution_count": 70,
      "metadata": {
        "colab": {
          "base_uri": "https://localhost:8080/"
        },
        "id": "gnadzYqj18ZA",
        "outputId": "31a4c641-567b-464d-99b6-addabd7253b6"
      },
      "outputs": [
        {
          "output_type": "stream",
          "name": "stdout",
          "text": [
            "bear\n",
            "bear\n"
          ]
        }
      ],
      "source": [
        "print('bear')\n",
        "cat = 'bear'\n",
        "print(cat)"
      ]
    },
    {
      "cell_type": "markdown",
      "metadata": {
        "id": "p2k0kAGI18ZB"
      },
      "source": [
        "The function len returns the length of the object. This can be handy when you are working with large lists or vectors and a variety of other situations"
      ]
    },
    {
      "cell_type": "code",
      "execution_count": 71,
      "metadata": {
        "colab": {
          "base_uri": "https://localhost:8080/"
        },
        "id": "DEDZjMQ818ZB",
        "outputId": "30fc0857-45b9-4592-e1ba-c4c5cd99f5fd"
      },
      "outputs": [
        {
          "output_type": "stream",
          "name": "stdout",
          "text": [
            "5\n",
            "16\n"
          ]
        }
      ],
      "source": [
        "print(len([1,2,3,4,5]))\n",
        "print(len('insert name here'))"
      ]
    },
    {
      "cell_type": "markdown",
      "metadata": {
        "id": "H8bUrpQU18ZB"
      },
      "source": [
        "some other useful functions"
      ]
    },
    {
      "cell_type": "code",
      "execution_count": 72,
      "metadata": {
        "colab": {
          "base_uri": "https://localhost:8080/"
        },
        "id": "vn12cKzP18ZB",
        "outputId": "3faa9ce9-9164-4c16-fa64-6641e0c86064"
      },
      "outputs": [
        {
          "output_type": "stream",
          "name": "stdout",
          "text": [
            "15\n",
            "5\n",
            "1\n",
            "[1, 2, 3, 4, 5]\n"
          ]
        }
      ],
      "source": [
        "my_list = [1,3,2,5,4]\n",
        "print(sum(my_list))\n",
        "print(max(my_list))\n",
        "print(min(my_list))\n",
        "print(sorted(my_list))"
      ]
    },
    {
      "cell_type": "code",
      "execution_count": 73,
      "metadata": {
        "id": "3tyl94Xm18ZB"
      },
      "outputs": [],
      "source": [
        "# practice\n",
        "my_list = [1,2,3,4,5,6,7]\n",
        "# use the functions given to calculate the mean of the given\n",
        "avg = sum(my_list)/len(my_list)\n",
        "assert avg == 4 and type(avg == float)"
      ]
    },
    {
      "cell_type": "markdown",
      "metadata": {
        "id": "RCG3DTuZ18ZC"
      },
      "source": [
        "You can also define your own functions to do pretty much anything. Everything in the indented block is a part of the function"
      ]
    },
    {
      "cell_type": "code",
      "execution_count": 74,
      "metadata": {
        "id": "dtB4GU8-18ZC",
        "colab": {
          "base_uri": "https://localhost:8080/"
        },
        "outputId": "927bb258-8464-4b2b-8e7a-3c90ba9f1160"
      },
      "outputs": [
        {
          "output_type": "stream",
          "name": "stdout",
          "text": [
            "bear\n"
          ]
        }
      ],
      "source": [
        "def print_bear():\n",
        "    print('bear')\n",
        "\n",
        "print_bear()"
      ]
    },
    {
      "cell_type": "markdown",
      "metadata": {
        "id": "MLQGSoCw18ZC"
      },
      "source": [
        "functions can take variables with the names in the definitions as placeholders for the input"
      ]
    },
    {
      "cell_type": "code",
      "execution_count": 75,
      "metadata": {
        "colab": {
          "base_uri": "https://localhost:8080/"
        },
        "id": "Dc1uegl018ZC",
        "outputId": "d98cfee8-e01f-4a88-820b-9b88048938b0"
      },
      "outputs": [
        {
          "output_type": "stream",
          "name": "stdout",
          "text": [
            "4\n",
            "2\n",
            "3\n",
            "3.0\n"
          ]
        }
      ],
      "source": [
        "def do_math(x,y):\n",
        "    print(x + y)\n",
        "    print(x - y)\n",
        "    print(x * y)\n",
        "    print(x / y)\n",
        "do_math(3,1)"
      ]
    },
    {
      "cell_type": "markdown",
      "metadata": {
        "id": "0YgLf0fq18ZD"
      },
      "source": [
        "Variables in a fucntion call can be set to have default values by assigning them in the function definition"
      ]
    },
    {
      "cell_type": "code",
      "execution_count": 76,
      "metadata": {
        "colab": {
          "base_uri": "https://localhost:8080/"
        },
        "id": "J5SuwD2A18ZD",
        "outputId": "ef3aa6e4-5983-47d8-9a79-979f79f11958"
      },
      "outputs": [
        {
          "output_type": "stream",
          "name": "stdout",
          "text": [
            "4\n",
            "-2\n",
            "3\n",
            "0.3333333333333333\n"
          ]
        }
      ],
      "source": [
        "def do_math_again(x, y=3):\n",
        "    print(x + y)\n",
        "    print(x - y)\n",
        "    print(x * y)\n",
        "    print(x / y)\n",
        "do_math_again(1)"
      ]
    },
    {
      "cell_type": "markdown",
      "metadata": {
        "id": "whVwueC-18ZD"
      },
      "source": [
        "Variables defined and used in the function only exist inside the function and will not change the values of variables outside of the function"
      ]
    },
    {
      "cell_type": "code",
      "execution_count": 77,
      "metadata": {
        "colab": {
          "base_uri": "https://localhost:8080/"
        },
        "id": "bFPEHKoV18ZD",
        "outputId": "4c0f8074-5e95-4a86-ea79-910a71647956"
      },
      "outputs": [
        {
          "output_type": "stream",
          "name": "stdout",
          "text": [
            "polar\n"
          ]
        }
      ],
      "source": [
        "def define_bear_as_grizzly():\n",
        "    bear = 'grizzly'\n",
        "bear = 'polar'\n",
        "define_bear_as_grizzly()\n",
        "print(bear)"
      ]
    },
    {
      "cell_type": "markdown",
      "metadata": {
        "id": "Y8ltNJrW18ZE"
      },
      "source": [
        "Functions can also return objects. A return statement instantly ends the function so anything after that will not execute"
      ]
    },
    {
      "cell_type": "code",
      "execution_count": 78,
      "metadata": {
        "id": "6-zZbiHl18ZE"
      },
      "outputs": [],
      "source": [
        "def add(x,y):\n",
        "    return x + y"
      ]
    },
    {
      "cell_type": "code",
      "execution_count": 79,
      "metadata": {
        "id": "vpfFI_Nf18ZE"
      },
      "outputs": [],
      "source": [
        "# practice\n",
        "my_list = [1,2,3,4,5,6,7]\n",
        "# make a function called cool_func_name that calculates and returns the average of a list of integers\n",
        "def cool_func_name(my_list):\n",
        "  list_avg = sum(my_list) / len(my_list)\n",
        "  return list_avg\n",
        "\n",
        "assert cool_func_name(my_list) == 4"
      ]
    },
    {
      "cell_type": "markdown",
      "metadata": {
        "id": "crhNhd3u18ZE"
      },
      "source": [
        "## Loops\n",
        "Loops are one of the most powerful things about computer programming as they are a way to systematically perform tasks several times. The most common one that you will use in python is a for loop but there are also while loops that you can use. When you are using a for loop you are doing a series of operations on successive elements of a class of objects called iterables. These could be strings, lists, tuples, arrays, vectors, series, or generators. If it looks like a list in python it is probably an iterable"
      ]
    },
    {
      "cell_type": "code",
      "execution_count": 80,
      "metadata": {
        "colab": {
          "base_uri": "https://localhost:8080/"
        },
        "id": "scbRdAun18ZF",
        "outputId": "a63bcca3-28e1-44d9-e63e-bd73a10d4ef1"
      },
      "outputs": [
        {
          "output_type": "stream",
          "name": "stdout",
          "text": [
            "s\n",
            "t\n",
            "r\n",
            "i\n",
            "n\n",
            "g\n",
            " \n",
            "t\n",
            "o\n",
            " \n",
            "l\n",
            "o\n",
            "o\n",
            "p\n",
            " \n",
            "o\n",
            "v\n",
            "e\n",
            "r\n"
          ]
        }
      ],
      "source": [
        "# looping over a string\n",
        "for character in 'string to loop over':\n",
        "    print(character)"
      ]
    },
    {
      "cell_type": "code",
      "execution_count": 81,
      "metadata": {
        "colab": {
          "base_uri": "https://localhost:8080/"
        },
        "id": "Maav64q-18ZF",
        "outputId": "60d1193d-8904-47a2-88d2-ba3bf651f35e"
      },
      "outputs": [
        {
          "output_type": "stream",
          "name": "stdout",
          "text": [
            "3\n",
            "-1\n",
            "7\n",
            "10\n",
            "13\n",
            "16\n"
          ]
        }
      ],
      "source": [
        "for n in [3,-1,7]: # looping over a list\n",
        "    print(n)\n",
        "for i in range(10,19,3): # looping over another iterable\n",
        "    print(i)"
      ]
    },
    {
      "cell_type": "code",
      "execution_count": 82,
      "metadata": {
        "colab": {
          "base_uri": "https://localhost:8080/"
        },
        "id": "hgbnXYG118ZF",
        "outputId": "745efa7e-fdb7-49b9-cea8-ab13d4ca9609"
      },
      "outputs": [
        {
          "output_type": "stream",
          "name": "stdout",
          "text": [
            "14\n",
            "16\n",
            "18\n",
            "20\n",
            "22\n",
            "24\n"
          ]
        }
      ],
      "source": [
        "# practice\n",
        "# write a loop that prints a range of numbers from 14 to 24 in steps of 2\n",
        "\n",
        "for i in range(14, 25, 2):\n",
        "  print(i)"
      ]
    },
    {
      "cell_type": "code",
      "execution_count": 83,
      "metadata": {
        "colab": {
          "base_uri": "https://localhost:8080/"
        },
        "id": "35rZzQJ918ZG",
        "outputId": "d64b9cf9-0514-42c7-9536-902bb2e6d372"
      },
      "outputs": [
        {
          "output_type": "stream",
          "name": "stdout",
          "text": [
            "1\n",
            "4\n",
            "8\n",
            "13\n",
            "19\n",
            "27\n"
          ]
        },
        {
          "output_type": "execute_result",
          "data": {
            "text/plain": [
              "27"
            ]
          },
          "metadata": {},
          "execution_count": 83
        }
      ],
      "source": [
        "# practice\n",
        "# define a function that takes a list and uses a loop to print its cumulative sum and returns the total sum of the list\n",
        "\n",
        "int_list = [1,3,4,5,6,8]\n",
        "\n",
        "def get_cumul_sum(int_list):\n",
        "  cumul_sum = 0\n",
        "  for i in int_list:\n",
        "    cumul_sum = i + cumul_sum\n",
        "    print(cumul_sum)\n",
        "  return cumul_sum\n",
        "\n",
        "\n",
        "get_cumul_sum(int_list)\n"
      ]
    },
    {
      "cell_type": "markdown",
      "metadata": {
        "id": "5Xe82nu_18ZG"
      },
      "source": [
        "Another important concept is if else statements and the boolean logic that comes with it. An if block executes only if the condition evaluates to True."
      ]
    },
    {
      "cell_type": "code",
      "execution_count": 84,
      "metadata": {
        "colab": {
          "base_uri": "https://localhost:8080/"
        },
        "id": "L0sJ6Kb118ZG",
        "outputId": "9de2d32f-238b-4fcc-fa54-abeca0b4324b"
      },
      "outputs": [
        {
          "output_type": "stream",
          "name": "stdout",
          "text": [
            "it will print this\n",
            "4 is less than 5\n"
          ]
        }
      ],
      "source": [
        "if False:\n",
        "    print(\"it won't print this\")\n",
        "if True:\n",
        "    print('it will print this')\n",
        "if 4 < 5:\n",
        "    print('4 is less than 5')\n",
        "if len('batman') >= 7: # greater than or equal to\n",
        "    print('batman has more than seven letters')"
      ]
    },
    {
      "cell_type": "code",
      "execution_count": 85,
      "metadata": {
        "colab": {
          "base_uri": "https://localhost:8080/"
        },
        "id": "bjcE3iXw18ZH",
        "outputId": "61845d00-1929-45cc-a38b-8f7c47eba8a2"
      },
      "outputs": [
        {
          "output_type": "stream",
          "name": "stdout",
          "text": [
            "0\n",
            "2\n",
            "5\n",
            "9\n",
            "9\n"
          ]
        },
        {
          "output_type": "execute_result",
          "data": {
            "text/plain": [
              "9"
            ]
          },
          "metadata": {},
          "execution_count": 85
        }
      ],
      "source": [
        "# practice\n",
        "# define a function that loops over a list and prints the cumulative sum of\n",
        "# the numbers that are less than 5 and greater than or equal to 2\n",
        "\n",
        "num_list = (1,2,3,4,5)\n",
        "\n",
        "def sum_two_to_four(num_list):\n",
        "  cumul_sum = 0\n",
        "  for i in num_list:\n",
        "    if(i >= 2 and i < 5):\n",
        "      cumul_sum = i + cumul_sum\n",
        "    print(cumul_sum)\n",
        "  return(cumul_sum)\n",
        "\n",
        "sum_two_to_four(num_list)"
      ]
    },
    {
      "cell_type": "markdown",
      "metadata": {
        "id": "m5iVl7W118ZH"
      },
      "source": [
        "If statements can be combined with elif and else to check multiple conditions. Once a condition is met python will ignore the rest of the conditions so the order can matter"
      ]
    },
    {
      "cell_type": "code",
      "execution_count": 86,
      "metadata": {
        "id": "Abpv8rXG18ZH",
        "colab": {
          "base_uri": "https://localhost:8080/"
        },
        "outputId": "868a11ee-fab1-43fc-88ff-bac166ce162c"
      },
      "outputs": [
        {
          "output_type": "stream",
          "name": "stdout",
          "text": [
            "one condition was met\n",
            "this one will happen\n"
          ]
        }
      ],
      "source": [
        "if 7 <= 6 and type('abc') == str:\n",
        "    print('both conditions were met')\n",
        "elif 7 <= 6 or type('abc') == str:\n",
        "    print('one condition was met')\n",
        "else:\n",
        "    print(\"no conditions were met\")\n",
        "\n",
        "x = 5\n",
        "if x < 10:\n",
        "    print('this one will happen')\n",
        "elif x > 3:\n",
        "    print('this one will not')"
      ]
    },
    {
      "cell_type": "markdown",
      "metadata": {
        "id": "8s_Ig5WY18ZI"
      },
      "source": [
        "If a function has a return statement it creates a new object. It is often the case that a function uses inputs to create and return new output"
      ]
    },
    {
      "cell_type": "code",
      "execution_count": 87,
      "metadata": {
        "id": "xS_AE8nC18ZI",
        "colab": {
          "base_uri": "https://localhost:8080/"
        },
        "outputId": "1cab2ad2-52f7-4d1b-a603-7b6b47d67bcc"
      },
      "outputs": [
        {
          "output_type": "stream",
          "name": "stdout",
          "text": [
            "3.0\n"
          ]
        }
      ],
      "source": [
        "def list_average(input_list):\n",
        "    return sum(input_list) / len(input_list)\n",
        "x = list_average([1,2,3,4,5])\n",
        "print(x)"
      ]
    },
    {
      "cell_type": "markdown",
      "metadata": {
        "id": "z0gSwUN318ZI"
      },
      "source": [
        "If you ever want to know the type of an abject you can use the type function"
      ]
    },
    {
      "cell_type": "code",
      "execution_count": 88,
      "metadata": {
        "id": "Dx9EQBPQ18ZI",
        "colab": {
          "base_uri": "https://localhost:8080/"
        },
        "outputId": "6563e253-a839-4254-f3de-53b07d9c244e"
      },
      "outputs": [
        {
          "output_type": "stream",
          "name": "stdout",
          "text": [
            "<class 'int'>\n",
            "<class 'float'>\n",
            "<class 'str'>\n",
            "True\n",
            "<class 'str'>\n"
          ]
        }
      ],
      "source": [
        "print(type(1))\n",
        "print(type(1.))\n",
        "print(type('1'))\n",
        "print(True)\n",
        "print(type('print_bear'))"
      ]
    },
    {
      "cell_type": "code",
      "execution_count": 89,
      "metadata": {
        "colab": {
          "base_uri": "https://localhost:8080/"
        },
        "id": "9Z9cFGUb18ZJ",
        "outputId": "d10aa3de-fd11-4c4e-c533-c0f8cb3c1d47"
      },
      "outputs": [
        {
          "output_type": "stream",
          "name": "stdout",
          "text": [
            "bears\n",
            "beets\n",
            "battlestar galactica\n"
          ]
        }
      ],
      "source": [
        "# practice\n",
        "# define a function named dwight that loops over a list of inputs and prints 'bears' if the element is an int\n",
        "# prints 'beets' if the element is a float\n",
        "# and prints 'battlestar galactica' if it is any other object\n",
        "\n",
        "my_list = [1, 2.0, True]\n",
        "\n",
        "\n",
        "def dwight(my_list):\n",
        "\n",
        "  for i in my_list:\n",
        "    if type(i) == int:\n",
        "      print('bears')\n",
        "    elif type(i) == float:\n",
        "      print('beets')\n",
        "    else:\n",
        "      print('battlestar galactica')\n",
        "\n",
        "\n",
        "dwight(my_list)"
      ]
    },
    {
      "cell_type": "code",
      "execution_count": 90,
      "metadata": {
        "id": "qffLwWSq18ZJ"
      },
      "outputs": [],
      "source": [
        "# practice\n",
        "my_list = [[1,2,3],['1',2,3],[1,2,3.5]]\n",
        "# define a function called int_averages that takes an iterable of lists as an input and returns a list with\n",
        "# the average of all the integers in the lists\n",
        "\n",
        "\n",
        "\n",
        "def int_averages(my_list):\n",
        "  list_sums = []\n",
        "  #Go through each list in my_list\n",
        "  for mini_list in my_list:\n",
        "\n",
        "    #reset the sum and int count to zero for new mini list\n",
        "    cumul_sum = 0\n",
        "    int_count = 0\n",
        "    #Loop through each item in the current mini list\n",
        "    for i in mini_list:\n",
        "      #Check if that item is an int or not\n",
        "      if (type(i) == int):\n",
        "      #if that item is an int, add to cumul_sum and increase int count\n",
        "        int_count += 1\n",
        "        cumul_sum = cumul_sum+ i\n",
        "    #append the cumul sum to list_sums\n",
        "    list_sums.append(cumul_sum / int_count)\n",
        "\n",
        "\n",
        "  return list_sums\n",
        "\n",
        "\n",
        "int_averages(my_list)\n",
        "\n",
        "\n",
        "assert int_averages(my_list) == [2,2.5,1.5]"
      ]
    },
    {
      "cell_type": "markdown",
      "metadata": {
        "id": "mBHw2hbh18ZJ"
      },
      "source": [
        "Fortunately for us, we do not need to build everything from scratch. As an open source language, we can access the files that other people make available to us. We access the files that we have installed using the import statement"
      ]
    },
    {
      "cell_type": "code",
      "execution_count": 91,
      "metadata": {
        "id": "hps6O1i318ZJ"
      },
      "outputs": [],
      "source": [
        "import math # import a whole module\n",
        "import pandas as pd # import a module or function with an alias\n",
        "from math import sqrt # import a single function from a module\n",
        "import matplotlib.pyplot as plt # another way to import a single function from a module"
      ]
    },
    {
      "cell_type": "markdown",
      "metadata": {
        "id": "K2v8HUzw18ZK"
      },
      "source": [
        "These are literally files save don your computer and pip, conda and easy_install are ways of getting these files from the standard repositories that make these available online. You can also write your own functions and import them  \n",
        "You need to tell the interpreter where the thigns are coming from so if you import a module you need to make it explicit in the import or use it in the form module.function. Once a moduel is imported it can be used throught the file so it is best to do all of you imports at the top of the file, usuallly the first code cell, to prevent redundancy"
      ]
    },
    {
      "cell_type": "code",
      "execution_count": 92,
      "metadata": {
        "id": "UEqCBTPC18ZK",
        "colab": {
          "base_uri": "https://localhost:8080/"
        },
        "outputId": "78c2a38c-2809-481b-faa9-4bef41640a64"
      },
      "outputs": [
        {
          "output_type": "stream",
          "name": "stdout",
          "text": [
            "1\n",
            "1\n",
            "1\n",
            "True\n",
            "True\n"
          ]
        }
      ],
      "source": [
        "# each of these are different ways of letting the interpreter know where the functions are coming from\n",
        "import math\n",
        "print(math.floor(1.34))\n",
        "from math import floor\n",
        "print(floor(1.34))\n",
        "from math import floor as f\n",
        "print(f(1.34))\n",
        "print(f == floor) # True if these things evaluate to the same thing\n",
        "print(floor == math.floor)"
      ]
    },
    {
      "cell_type": "code",
      "execution_count": 93,
      "metadata": {
        "id": "5jfPJmp518ZK"
      },
      "outputs": [],
      "source": [
        "# find some of the classifiers and regressors on the scikit-learn documentation aand import them\n",
        "\n",
        "from sklearn import linear_model\n",
        "from sklearn import svm\n",
        "from sklearn.naive_bayes import GaussianNB\n",
        "from sklearn import tree"
      ]
    },
    {
      "cell_type": "markdown",
      "metadata": {
        "id": "Mwn1nZxc18ZK"
      },
      "source": [
        "## Object attributes\n",
        "Every object in python has attributes. We access and use these by using the format parent.child the period indicating we want a subpart of of the parent and then the name after it decalres which piece we would like to get."
      ]
    },
    {
      "cell_type": "code",
      "execution_count": 94,
      "metadata": {
        "id": "OLusfQ5J18ZK",
        "colab": {
          "base_uri": "https://localhost:8080/"
        },
        "outputId": "91c8bfa6-d3dc-4086-f3d6-de0cdb67975e"
      },
      "outputs": [
        {
          "output_type": "execute_result",
          "data": {
            "text/plain": [
              "<function math.floor(x, /)>"
            ]
          },
          "metadata": {},
          "execution_count": 94
        }
      ],
      "source": [
        "math.floor"
      ]
    },
    {
      "cell_type": "code",
      "execution_count": 95,
      "metadata": {
        "id": "g-LGXUm918ZL",
        "colab": {
          "base_uri": "https://localhost:8080/",
          "height": 112
        },
        "outputId": "a70c7738-7480-4ec4-9cec-85a61cfdddc2"
      },
      "outputs": [
        {
          "output_type": "execute_result",
          "data": {
            "text/plain": [
              "   bears  cats\n",
              "0      1     2\n",
              "1      3     4"
            ],
            "text/html": [
              "\n",
              "  <div id=\"df-619c3d47-3058-4e4a-a170-cb3b578a0d9e\" class=\"colab-df-container\">\n",
              "    <div>\n",
              "<style scoped>\n",
              "    .dataframe tbody tr th:only-of-type {\n",
              "        vertical-align: middle;\n",
              "    }\n",
              "\n",
              "    .dataframe tbody tr th {\n",
              "        vertical-align: top;\n",
              "    }\n",
              "\n",
              "    .dataframe thead th {\n",
              "        text-align: right;\n",
              "    }\n",
              "</style>\n",
              "<table border=\"1\" class=\"dataframe\">\n",
              "  <thead>\n",
              "    <tr style=\"text-align: right;\">\n",
              "      <th></th>\n",
              "      <th>bears</th>\n",
              "      <th>cats</th>\n",
              "    </tr>\n",
              "  </thead>\n",
              "  <tbody>\n",
              "    <tr>\n",
              "      <th>0</th>\n",
              "      <td>1</td>\n",
              "      <td>2</td>\n",
              "    </tr>\n",
              "    <tr>\n",
              "      <th>1</th>\n",
              "      <td>3</td>\n",
              "      <td>4</td>\n",
              "    </tr>\n",
              "  </tbody>\n",
              "</table>\n",
              "</div>\n",
              "    <div class=\"colab-df-buttons\">\n",
              "\n",
              "  <div class=\"colab-df-container\">\n",
              "    <button class=\"colab-df-convert\" onclick=\"convertToInteractive('df-619c3d47-3058-4e4a-a170-cb3b578a0d9e')\"\n",
              "            title=\"Convert this dataframe to an interactive table.\"\n",
              "            style=\"display:none;\">\n",
              "\n",
              "  <svg xmlns=\"http://www.w3.org/2000/svg\" height=\"24px\" viewBox=\"0 -960 960 960\">\n",
              "    <path d=\"M120-120v-720h720v720H120Zm60-500h600v-160H180v160Zm220 220h160v-160H400v160Zm0 220h160v-160H400v160ZM180-400h160v-160H180v160Zm440 0h160v-160H620v160ZM180-180h160v-160H180v160Zm440 0h160v-160H620v160Z\"/>\n",
              "  </svg>\n",
              "    </button>\n",
              "\n",
              "  <style>\n",
              "    .colab-df-container {\n",
              "      display:flex;\n",
              "      gap: 12px;\n",
              "    }\n",
              "\n",
              "    .colab-df-convert {\n",
              "      background-color: #E8F0FE;\n",
              "      border: none;\n",
              "      border-radius: 50%;\n",
              "      cursor: pointer;\n",
              "      display: none;\n",
              "      fill: #1967D2;\n",
              "      height: 32px;\n",
              "      padding: 0 0 0 0;\n",
              "      width: 32px;\n",
              "    }\n",
              "\n",
              "    .colab-df-convert:hover {\n",
              "      background-color: #E2EBFA;\n",
              "      box-shadow: 0px 1px 2px rgba(60, 64, 67, 0.3), 0px 1px 3px 1px rgba(60, 64, 67, 0.15);\n",
              "      fill: #174EA6;\n",
              "    }\n",
              "\n",
              "    .colab-df-buttons div {\n",
              "      margin-bottom: 4px;\n",
              "    }\n",
              "\n",
              "    [theme=dark] .colab-df-convert {\n",
              "      background-color: #3B4455;\n",
              "      fill: #D2E3FC;\n",
              "    }\n",
              "\n",
              "    [theme=dark] .colab-df-convert:hover {\n",
              "      background-color: #434B5C;\n",
              "      box-shadow: 0px 1px 3px 1px rgba(0, 0, 0, 0.15);\n",
              "      filter: drop-shadow(0px 1px 2px rgba(0, 0, 0, 0.3));\n",
              "      fill: #FFFFFF;\n",
              "    }\n",
              "  </style>\n",
              "\n",
              "    <script>\n",
              "      const buttonEl =\n",
              "        document.querySelector('#df-619c3d47-3058-4e4a-a170-cb3b578a0d9e button.colab-df-convert');\n",
              "      buttonEl.style.display =\n",
              "        google.colab.kernel.accessAllowed ? 'block' : 'none';\n",
              "\n",
              "      async function convertToInteractive(key) {\n",
              "        const element = document.querySelector('#df-619c3d47-3058-4e4a-a170-cb3b578a0d9e');\n",
              "        const dataTable =\n",
              "          await google.colab.kernel.invokeFunction('convertToInteractive',\n",
              "                                                    [key], {});\n",
              "        if (!dataTable) return;\n",
              "\n",
              "        const docLinkHtml = 'Like what you see? Visit the ' +\n",
              "          '<a target=\"_blank\" href=https://colab.research.google.com/notebooks/data_table.ipynb>data table notebook</a>'\n",
              "          + ' to learn more about interactive tables.';\n",
              "        element.innerHTML = '';\n",
              "        dataTable['output_type'] = 'display_data';\n",
              "        await google.colab.output.renderOutput(dataTable, element);\n",
              "        const docLink = document.createElement('div');\n",
              "        docLink.innerHTML = docLinkHtml;\n",
              "        element.appendChild(docLink);\n",
              "      }\n",
              "    </script>\n",
              "  </div>\n",
              "\n",
              "\n",
              "<div id=\"df-990085a6-c555-4bd0-9611-8dbf8ae244f6\">\n",
              "  <button class=\"colab-df-quickchart\" onclick=\"quickchart('df-990085a6-c555-4bd0-9611-8dbf8ae244f6')\"\n",
              "            title=\"Suggest charts.\"\n",
              "            style=\"display:none;\">\n",
              "\n",
              "<svg xmlns=\"http://www.w3.org/2000/svg\" height=\"24px\"viewBox=\"0 0 24 24\"\n",
              "     width=\"24px\">\n",
              "    <g>\n",
              "        <path d=\"M19 3H5c-1.1 0-2 .9-2 2v14c0 1.1.9 2 2 2h14c1.1 0 2-.9 2-2V5c0-1.1-.9-2-2-2zM9 17H7v-7h2v7zm4 0h-2V7h2v10zm4 0h-2v-4h2v4z\"/>\n",
              "    </g>\n",
              "</svg>\n",
              "  </button>\n",
              "\n",
              "<style>\n",
              "  .colab-df-quickchart {\n",
              "      --bg-color: #E8F0FE;\n",
              "      --fill-color: #1967D2;\n",
              "      --hover-bg-color: #E2EBFA;\n",
              "      --hover-fill-color: #174EA6;\n",
              "      --disabled-fill-color: #AAA;\n",
              "      --disabled-bg-color: #DDD;\n",
              "  }\n",
              "\n",
              "  [theme=dark] .colab-df-quickchart {\n",
              "      --bg-color: #3B4455;\n",
              "      --fill-color: #D2E3FC;\n",
              "      --hover-bg-color: #434B5C;\n",
              "      --hover-fill-color: #FFFFFF;\n",
              "      --disabled-bg-color: #3B4455;\n",
              "      --disabled-fill-color: #666;\n",
              "  }\n",
              "\n",
              "  .colab-df-quickchart {\n",
              "    background-color: var(--bg-color);\n",
              "    border: none;\n",
              "    border-radius: 50%;\n",
              "    cursor: pointer;\n",
              "    display: none;\n",
              "    fill: var(--fill-color);\n",
              "    height: 32px;\n",
              "    padding: 0;\n",
              "    width: 32px;\n",
              "  }\n",
              "\n",
              "  .colab-df-quickchart:hover {\n",
              "    background-color: var(--hover-bg-color);\n",
              "    box-shadow: 0 1px 2px rgba(60, 64, 67, 0.3), 0 1px 3px 1px rgba(60, 64, 67, 0.15);\n",
              "    fill: var(--button-hover-fill-color);\n",
              "  }\n",
              "\n",
              "  .colab-df-quickchart-complete:disabled,\n",
              "  .colab-df-quickchart-complete:disabled:hover {\n",
              "    background-color: var(--disabled-bg-color);\n",
              "    fill: var(--disabled-fill-color);\n",
              "    box-shadow: none;\n",
              "  }\n",
              "\n",
              "  .colab-df-spinner {\n",
              "    border: 2px solid var(--fill-color);\n",
              "    border-color: transparent;\n",
              "    border-bottom-color: var(--fill-color);\n",
              "    animation:\n",
              "      spin 1s steps(1) infinite;\n",
              "  }\n",
              "\n",
              "  @keyframes spin {\n",
              "    0% {\n",
              "      border-color: transparent;\n",
              "      border-bottom-color: var(--fill-color);\n",
              "      border-left-color: var(--fill-color);\n",
              "    }\n",
              "    20% {\n",
              "      border-color: transparent;\n",
              "      border-left-color: var(--fill-color);\n",
              "      border-top-color: var(--fill-color);\n",
              "    }\n",
              "    30% {\n",
              "      border-color: transparent;\n",
              "      border-left-color: var(--fill-color);\n",
              "      border-top-color: var(--fill-color);\n",
              "      border-right-color: var(--fill-color);\n",
              "    }\n",
              "    40% {\n",
              "      border-color: transparent;\n",
              "      border-right-color: var(--fill-color);\n",
              "      border-top-color: var(--fill-color);\n",
              "    }\n",
              "    60% {\n",
              "      border-color: transparent;\n",
              "      border-right-color: var(--fill-color);\n",
              "    }\n",
              "    80% {\n",
              "      border-color: transparent;\n",
              "      border-right-color: var(--fill-color);\n",
              "      border-bottom-color: var(--fill-color);\n",
              "    }\n",
              "    90% {\n",
              "      border-color: transparent;\n",
              "      border-bottom-color: var(--fill-color);\n",
              "    }\n",
              "  }\n",
              "</style>\n",
              "\n",
              "  <script>\n",
              "    async function quickchart(key) {\n",
              "      const quickchartButtonEl =\n",
              "        document.querySelector('#' + key + ' button');\n",
              "      quickchartButtonEl.disabled = true;  // To prevent multiple clicks.\n",
              "      quickchartButtonEl.classList.add('colab-df-spinner');\n",
              "      try {\n",
              "        const charts = await google.colab.kernel.invokeFunction(\n",
              "            'suggestCharts', [key], {});\n",
              "      } catch (error) {\n",
              "        console.error('Error during call to suggestCharts:', error);\n",
              "      }\n",
              "      quickchartButtonEl.classList.remove('colab-df-spinner');\n",
              "      quickchartButtonEl.classList.add('colab-df-quickchart-complete');\n",
              "    }\n",
              "    (() => {\n",
              "      let quickchartButtonEl =\n",
              "        document.querySelector('#df-990085a6-c555-4bd0-9611-8dbf8ae244f6 button');\n",
              "      quickchartButtonEl.style.display =\n",
              "        google.colab.kernel.accessAllowed ? 'block' : 'none';\n",
              "    })();\n",
              "  </script>\n",
              "</div>\n",
              "    </div>\n",
              "  </div>\n"
            ]
          },
          "metadata": {},
          "execution_count": 95
        }
      ],
      "source": [
        "import pandas as pd\n",
        "df = pd.DataFrame([[1,2],[3,4]], columns=['bears','cats'])\n",
        "df"
      ]
    },
    {
      "cell_type": "code",
      "execution_count": 96,
      "metadata": {
        "id": "zYhqFwvS18ZM",
        "colab": {
          "base_uri": "https://localhost:8080/"
        },
        "outputId": "29a2c1c7-4e27-4c0f-a7da-8e24b399d286"
      },
      "outputs": [
        {
          "output_type": "execute_result",
          "data": {
            "text/plain": [
              "0    1\n",
              "1    3\n",
              "Name: bears, dtype: int64"
            ]
          },
          "metadata": {},
          "execution_count": 96
        }
      ],
      "source": [
        "df.bears"
      ]
    },
    {
      "cell_type": "code",
      "execution_count": 97,
      "metadata": {
        "id": "AKxMY0Fh18ZM",
        "colab": {
          "base_uri": "https://localhost:8080/"
        },
        "outputId": "c098eb49-9fe1-41e1-de35-34a44aa1e89d"
      },
      "outputs": [
        {
          "output_type": "execute_result",
          "data": {
            "text/plain": [
              "0    2\n",
              "1    4\n",
              "Name: cats, dtype: int64"
            ]
          },
          "metadata": {},
          "execution_count": 97
        }
      ],
      "source": [
        "# this is another way to access columns\n",
        "df['cats']"
      ]
    },
    {
      "cell_type": "code",
      "execution_count": 98,
      "metadata": {
        "id": "BiNTdIQA18ZM",
        "colab": {
          "base_uri": "https://localhost:8080/"
        },
        "outputId": "c352344b-f1e0-462b-d2b3-7fde6127600e"
      },
      "outputs": [
        {
          "output_type": "execute_result",
          "data": {
            "text/plain": [
              "Index(['bears', 'cats'], dtype='object')"
            ]
          },
          "metadata": {},
          "execution_count": 98
        }
      ],
      "source": [
        "df.columns"
      ]
    },
    {
      "cell_type": "code",
      "execution_count": 99,
      "metadata": {
        "id": "g4qxvP9n18ZM",
        "colab": {
          "base_uri": "https://localhost:8080/"
        },
        "outputId": "4de8f49d-acb9-4505-d17c-18b6eccd47bb"
      },
      "outputs": [
        {
          "output_type": "execute_result",
          "data": {
            "text/plain": [
              "RangeIndex(start=0, stop=2, step=1)"
            ]
          },
          "metadata": {},
          "execution_count": 99
        }
      ],
      "source": [
        "df.index"
      ]
    },
    {
      "cell_type": "code",
      "execution_count": 100,
      "metadata": {
        "id": "K42W65SW18ZN",
        "colab": {
          "base_uri": "https://localhost:8080/"
        },
        "outputId": "8130f1d9-122a-43e9-8da1-1efa49456f67"
      },
      "outputs": [
        {
          "output_type": "stream",
          "name": "stdout",
          "text": [
            "2.0\n",
            "3.0\n"
          ]
        }
      ],
      "source": [
        "# you can use these to loop over the values in a dataframe\n",
        "for col in df.columns:\n",
        "    print(sum(df[col])/len(df[col]))"
      ]
    },
    {
      "cell_type": "markdown",
      "metadata": {
        "id": "1GJBqj5018ZN"
      },
      "source": [
        "### methods\n",
        "Print and type are standalone functions but some functions are connected directly to abjects and are accessed as attributes of the object to which they are tied. These special functions are often referred to as methods. Remeber to use () to use the function because without that it will just be a function object lying around and not realize you want it do do something."
      ]
    },
    {
      "cell_type": "code",
      "execution_count": 101,
      "metadata": {
        "id": "53n4WGRM18ZN",
        "colab": {
          "base_uri": "https://localhost:8080/"
        },
        "outputId": "afc02f79-8b32-46ae-b68f-edd71680f026"
      },
      "outputs": [
        {
          "output_type": "stream",
          "name": "stdout",
          "text": [
            "['strings', 'have', 'the', 'split', 'method']\n",
            "['lists', 'have', 'the', 'append', 'method']\n"
          ]
        }
      ],
      "source": [
        "print('strings have the split method'.split(' '))\n",
        "x = ['lists','have','the','append']\n",
        "x.append('method') # this modifies the object without returning it so we don't need to assign it ot a variable\n",
        "print(x)"
      ]
    },
    {
      "cell_type": "code",
      "execution_count": 102,
      "metadata": {
        "id": "0uAI9C9H18ZN",
        "colab": {
          "base_uri": "https://localhost:8080/"
        },
        "outputId": "f031c812-81a5-4966-bd42-3b7b4f9112bc"
      },
      "outputs": [
        {
          "output_type": "execute_result",
          "data": {
            "text/plain": [
              "bears    2.0\n",
              "cats     3.0\n",
              "dtype: float64"
            ]
          },
          "metadata": {},
          "execution_count": 102
        }
      ],
      "source": [
        "df.mean() # this does the same thing as the example loop a couple cells up"
      ]
    },
    {
      "cell_type": "markdown",
      "metadata": {
        "id": "08hxgrIq18ZO"
      },
      "source": [
        "### list comprehensions\n",
        "This is a concept that you will likely see if you are looking for help online. It is a python specific thing that can be really powerful. Instead of adding elements iteratively you can make large lists much faster with these comprehensions"
      ]
    },
    {
      "cell_type": "code",
      "execution_count": 103,
      "metadata": {
        "id": "8Gwn1khd18ZO",
        "colab": {
          "base_uri": "https://localhost:8080/"
        },
        "outputId": "9db08ca7-f116-46f1-9aae-b1bfce229f7f"
      },
      "outputs": [
        {
          "output_type": "stream",
          "name": "stdout",
          "text": [
            "[0, 1, 2, 3, 4, 5, 6, 7, 8, 9]\n",
            "[0, 1, 2, 3, 4, 5, 6, 7, 8, 9]\n",
            "True\n"
          ]
        }
      ],
      "source": [
        "# traditional loop\n",
        "my_list = []\n",
        "for x in range(10):\n",
        "    my_list.append(x)\n",
        "\n",
        "# list comprehension\n",
        "my_other_list = [x for x in range(10)]\n",
        "print(my_list)\n",
        "print(my_other_list)\n",
        "print(my_list == my_other_list)"
      ]
    },
    {
      "cell_type": "code",
      "execution_count": 104,
      "metadata": {
        "id": "nnrRwwrj18ZO",
        "colab": {
          "base_uri": "https://localhost:8080/"
        },
        "outputId": "85f79c77-9545-4658-ff24-e8b06f649a8a"
      },
      "outputs": [
        {
          "output_type": "stream",
          "name": "stdout",
          "text": [
            "[5, 1, 4, 9, 8, 7, 1, 1, 0, -9]\n",
            "[2.5, 0.5, 2.0, 4.5, 4.0, 3.5, 0.5, 0.5, 0.0, -4.5]\n",
            "['0th element is 2.5', '1th element is 0.5', '2th element is 2.0', '3th element is 4.5', '4th element is 4.0', '5th element is 3.5', '6th element is 0.5', '7th element is 0.5', '8th element is 0.0', '9th element is -4.5']\n"
          ]
        }
      ],
      "source": [
        "import numpy as np\n",
        "random_list = [np.random.randint(-10,10,1)[0] for x in range(10)]\n",
        "print(random_list)\n",
        "random_list2 = [rand_num/2 for rand_num in random_list]\n",
        "print(random_list2)\n",
        "random_list3 = [f'{i}th element is {x}' for i, x in enumerate(random_list2)]\n",
        "print(random_list3)"
      ]
    },
    {
      "cell_type": "code",
      "execution_count": 105,
      "metadata": {
        "id": "Hig9t_Zq18ZO",
        "colab": {
          "base_uri": "https://localhost:8080/"
        },
        "outputId": "025a7d53-b1b6-4163-a57d-08e9a7d15cba"
      },
      "outputs": [
        {
          "output_type": "execute_result",
          "data": {
            "text/plain": [
              "[2.5, 2.5, 2.0]"
            ]
          },
          "metadata": {},
          "execution_count": 105
        }
      ],
      "source": [
        "# the function in the practice that returns a list of averages of the integers between 2 and 5 of lists can be done this way in one line\n",
        "my_list = [[1,2,3],['1',2,3],[1,2,3.5]] # you don't have to understand this I just wanted to show you what is possible\n",
        "[sum([x if (x >= 2 and x < 5) else 0 for x in y if type(x) == int])/len([0 for x in y if type(x) == int and x < 5 and x >= 2]) for y in my_list]"
      ]
    },
    {
      "cell_type": "markdown",
      "metadata": {
        "id": "5gFcMq1R18ZO"
      },
      "source": [
        "# Homework Assignment\n",
        "Every question below this line is going to be graded, so pay attention and try your best"
      ]
    },
    {
      "cell_type": "markdown",
      "metadata": {
        "id": "8MIwIbcM18ZO"
      },
      "source": [
        "### Welcome to the first coding assignment!\n",
        "\n",
        "Learn to google questions! For example, if you want to know how to add elements to a list, use Google to search \"add elements to list python\". Stackoverflow tends to have good concise content.\n",
        "\n",
        "Grade Note: Max points are specified for questions. These inform how questions are weighted in your final score for the assignment. <br>\n",
        "I.e. `my_score / max_pts * ls_pts = my_ls_score`"
      ]
    },
    {
      "cell_type": "code",
      "execution_count": 5,
      "metadata": {
        "id": "E0yvmr5018ZP"
      },
      "outputs": [],
      "source": [
        "# import the functions/libraries you will need here\n",
        "import numpy as np\n",
        "import matplotlib.pyplot as plt\n",
        "import pandas as pd"
      ]
    },
    {
      "cell_type": "markdown",
      "metadata": {
        "id": "a-5CJI_c18ZP"
      },
      "source": [
        "### 1\n",
        "$(a)$ Define a list, call it `a`, containing the numbers 1,1,2,3,5,8, 13, 21, 34, 55, 89. <br>\n",
        "**1/2pt**"
      ]
    },
    {
      "cell_type": "code",
      "execution_count": 107,
      "metadata": {
        "id": "wnsHnQkg18ZP"
      },
      "outputs": [],
      "source": [
        "a = [1,1,2,3,5,8,13,21,34,55,89]\n"
      ]
    },
    {
      "cell_type": "markdown",
      "metadata": {
        "id": "i1_blAsy18ZP"
      },
      "source": [
        "$(b)$ Using a `for` loop (google it!), print each of the elements in `a`.<br>\n",
        "**1/2pt**"
      ]
    },
    {
      "cell_type": "code",
      "execution_count": 108,
      "metadata": {
        "id": "B4QkkpJ118ZQ",
        "colab": {
          "base_uri": "https://localhost:8080/"
        },
        "outputId": "58c1d69a-9e1f-418d-a9cd-56bd6337ea70"
      },
      "outputs": [
        {
          "output_type": "stream",
          "name": "stdout",
          "text": [
            "1\n",
            "1\n",
            "2\n",
            "3\n",
            "5\n",
            "8\n",
            "13\n",
            "21\n",
            "34\n",
            "55\n",
            "89\n"
          ]
        }
      ],
      "source": [
        "for i in a:\n",
        "  print(i)"
      ]
    },
    {
      "cell_type": "markdown",
      "metadata": {
        "id": "6QT2FLC418ZQ"
      },
      "source": [
        "$(c)$ Using a `for` loop with an `if` condition nested inside (google it!), print each of the elements in `a` that are less than 10.<br>\n",
        "**1/2pt**"
      ]
    },
    {
      "cell_type": "code",
      "execution_count": 109,
      "metadata": {
        "id": "cFE6hsqO18ZQ",
        "colab": {
          "base_uri": "https://localhost:8080/"
        },
        "outputId": "70706bda-f36d-4bd1-ab76-839203a10d5d"
      },
      "outputs": [
        {
          "output_type": "stream",
          "name": "stdout",
          "text": [
            "1\n",
            "1\n",
            "2\n",
            "3\n",
            "5\n",
            "8\n"
          ]
        }
      ],
      "source": [
        "for i in a:\n",
        "\n",
        "  if i < 10:\n",
        "    print(i)"
      ]
    },
    {
      "cell_type": "markdown",
      "metadata": {
        "id": "Ds31l4BD18ZQ"
      },
      "source": [
        "$(d)$ Now using the same list `a` create a new list named `b` that contains all of the values greater than or equal to 10. Hint: there are several ways to do this, but a slick way uses *list comprehension* (google it!)  <br>\n",
        "**1/2pt**"
      ]
    },
    {
      "cell_type": "code",
      "execution_count": 110,
      "metadata": {
        "id": "FBegj_aF18ZQ"
      },
      "outputs": [],
      "source": [
        "b = [x for x in a if x >= 10]"
      ]
    },
    {
      "cell_type": "markdown",
      "metadata": {
        "id": "1Dau5CQP18ZR"
      },
      "source": [
        "$(e)$ Define a function, call it `printthis` that prints the argument given as an input. Then call the function using the input \"this is fun\". Hint: google \"define function in python.\"<br>\n",
        "**1/2pt**"
      ]
    },
    {
      "cell_type": "code",
      "execution_count": 111,
      "metadata": {
        "id": "Lmr8agVZ18ZR",
        "colab": {
          "base_uri": "https://localhost:8080/"
        },
        "outputId": "26d11beb-1646-4cd1-d33f-6dcc47ae104b"
      },
      "outputs": [
        {
          "output_type": "stream",
          "name": "stdout",
          "text": [
            "this is fun\n"
          ]
        }
      ],
      "source": [
        "def printthis(my_string):\n",
        "  print(my_string)\n",
        "\n",
        "printthis('this is fun')"
      ]
    },
    {
      "cell_type": "markdown",
      "metadata": {
        "id": "lA1TvDZF18ZR"
      },
      "source": [
        "$(f)$ Now define functions that will perform the processes decribed in $c$ and $d$ that can take any list of integers as an input. Hint: part $d$ produces a new list, so your function will need a `return` statement.  <br>\n",
        "**1/2pt**"
      ]
    },
    {
      "cell_type": "code",
      "execution_count": 112,
      "metadata": {
        "id": "Ly1QzFqT18ZR"
      },
      "outputs": [],
      "source": [
        "def less_ten(int_list):\n",
        "  for i in int_list:\n",
        "\n",
        "    if i < 10:\n",
        "      print(i)\n",
        "\n",
        "def more_ten(int_list):\n",
        "  new_list = [x for x in a if x >= 10]\n",
        "  return new_list\n"
      ]
    },
    {
      "cell_type": "markdown",
      "metadata": {
        "id": "ekoM_4zm18ZR"
      },
      "source": [
        "$(g)$ Define a list, call it `c`, that itself is composed of the following lists of numbers: [1,1,12],[2,3,7,23],[54,12,17,90],[43,52,67,9] (that is, `c` will be a list with four elements, each of which is a list). Then create yet another list, call it `d`, that contains all of the numbers between 5 and 45 that appear in any of the lists. Use nested *list comprehension*. Print out `d` to confirm you got it right. <br> <br>\n",
        "**1/2pt**"
      ]
    },
    {
      "cell_type": "code",
      "execution_count": 113,
      "metadata": {
        "id": "dA7Se0EI18ZS",
        "colab": {
          "base_uri": "https://localhost:8080/"
        },
        "outputId": "9729c2b6-9911-40b0-d05e-1623f690b0a0"
      },
      "outputs": [
        {
          "output_type": "stream",
          "name": "stdout",
          "text": [
            "[12, 7, 23, 12, 17, 43, 9]\n"
          ]
        }
      ],
      "source": [
        "c = [[1,1,12],[2,3,7,23],[54,12,17,90],[43,52,67,9]]\n",
        "\n",
        "#For each list i in c, if x in i is more than 5 and less than 45,\n",
        "d = [num for mini_list in c for num in mini_list if num < 45 and num > 5]\n",
        "\n",
        "print(d)\n",
        "\n"
      ]
    },
    {
      "cell_type": "markdown",
      "metadata": {
        "id": "MWuNLc7y18ZS"
      },
      "source": [
        "$(h)$ Define a function that will do the process in $g$ for any given list of lists of integers, then call that function with `c` as an input. <br>\n",
        "**1/2pt**"
      ]
    },
    {
      "cell_type": "code",
      "execution_count": 114,
      "metadata": {
        "id": "ekk6H-ai18ZS",
        "colab": {
          "base_uri": "https://localhost:8080/"
        },
        "outputId": "3f2af3ed-3364-4d3d-9287-7ca08d041d0d"
      },
      "outputs": [
        {
          "output_type": "execute_result",
          "data": {
            "text/plain": [
              "[12, 7, 23, 12, 17, 43, 9]"
            ]
          },
          "metadata": {},
          "execution_count": 114
        }
      ],
      "source": [
        "def find_ints(int_lists):\n",
        "  new_list = [num for mini_list in c for num in mini_list if num <45 and num > 5]\n",
        "  return new_list\n",
        "\n",
        "find_ints(c)\n"
      ]
    },
    {
      "cell_type": "markdown",
      "metadata": {
        "id": "prLNoJgc18ZS"
      },
      "source": [
        "$(i)$ Define a function that takes a list of integers and prints the sum of the elements that are greater than or equal to 10. You should be able to use a function you made previously to help if you wish. Call the function using `a` as an input.<br>\n",
        "**1/2pt**"
      ]
    },
    {
      "cell_type": "code",
      "execution_count": 115,
      "metadata": {
        "id": "zmaK70nG18ZT",
        "colab": {
          "base_uri": "https://localhost:8080/"
        },
        "outputId": "2e8a26b8-8a27-462e-8050-7dd4b5298788"
      },
      "outputs": [
        {
          "output_type": "execute_result",
          "data": {
            "text/plain": [
              "212"
            ]
          },
          "metadata": {},
          "execution_count": 115
        }
      ],
      "source": [
        "a = [1,1,2,3,5,8,13,21,34,55,89]\n",
        "\n",
        "def sum_over_10(int_list):\n",
        "  #sum all ints in the list of int_list if i > 10\n",
        "  my_sum = sum([i for i in int_list if i >= 10])\n",
        "  return my_sum\n",
        "\n",
        "sum_over_10(a)"
      ]
    },
    {
      "cell_type": "markdown",
      "metadata": {
        "id": "4h20WDVx18ZT"
      },
      "source": [
        "### 2\n",
        "Based on excercise 12 chapter 4 in ISLR.  \n",
        "$(a)$ write a function called `power` that raises the input to 3rd power. Use the function to calculate $10^3$<br>\n",
        "**1/2pt**"
      ]
    },
    {
      "cell_type": "code",
      "execution_count": 17,
      "metadata": {
        "id": "SEJKVP7518ZT",
        "colab": {
          "base_uri": "https://localhost:8080/"
        },
        "outputId": "a36ea48b-7232-4502-e9eb-9fc4fcab74a3"
      },
      "outputs": [
        {
          "output_type": "execute_result",
          "data": {
            "text/plain": [
              "1000"
            ]
          },
          "metadata": {},
          "execution_count": 17
        }
      ],
      "source": [
        "def power3(num):\n",
        "  num = num **3\n",
        "  return num\n",
        "\n",
        "power3(10)"
      ]
    },
    {
      "cell_type": "markdown",
      "metadata": {
        "id": "MHyW9blN18ZU"
      },
      "source": [
        "$(b)$ write a function called `power2` that takes two inputs and raises the first number to the power of the second number. Use this function to calculate and print $10^3$, $8^{17}$ and $131^3$ <br>\n",
        "**1/2pt**"
      ]
    },
    {
      "cell_type": "code",
      "execution_count": 21,
      "metadata": {
        "id": "5wtZ27Cn18ZU",
        "colab": {
          "base_uri": "https://localhost:8080/"
        },
        "outputId": "6a4b07b8-6304-454b-e538-4f879d9ca128"
      },
      "outputs": [
        {
          "output_type": "stream",
          "name": "stdout",
          "text": [
            "1000\n",
            "2251799813685248\n",
            "2248091\n"
          ]
        }
      ],
      "source": [
        "def power(num1, num2):\n",
        "  num1 = num1**num2\n",
        "  return num1\n",
        "\n",
        "print(power(10,3))\n",
        "print(power(8,17))\n",
        "print(power(131,3))"
      ]
    },
    {
      "cell_type": "markdown",
      "metadata": {
        "id": "s3RP8tS118ZU"
      },
      "source": [
        "$(c)$ Plot the list [1,2,4,8,16,32] on the y axis against [0,1,2,3,4,5] on the x axis. You can use the code below to import a common plotting package.\n",
        "```python\n",
        "from matplotlib import pyplot as plt\n",
        "```\n",
        "`plt.plot` and `plt.legend` will likely come in handy later on.<br>\n"
      ]
    },
    {
      "cell_type": "code",
      "execution_count": 10,
      "metadata": {
        "id": "RGYB4-O718ZU",
        "colab": {
          "base_uri": "https://localhost:8080/",
          "height": 448
        },
        "outputId": "deb96436-993d-43c3-fa8d-1986a8f6b9de"
      },
      "outputs": [
        {
          "output_type": "execute_result",
          "data": {
            "text/plain": [
              "[<matplotlib.lines.Line2D at 0x7c0c6443c400>]"
            ]
          },
          "metadata": {},
          "execution_count": 10
        },
        {
          "output_type": "display_data",
          "data": {
            "text/plain": [
              "<Figure size 640x480 with 1 Axes>"
            ],
            "image/png": "[encoded data removed]"
          },
          "metadata": {}
        }
      ],
      "source": [
        "from matplotlib import pyplot as plt\n",
        "\n",
        "\n",
        "x_axis = np.arange(0,6,1)\n",
        "y_axis = 2**x_axis\n",
        "\n",
        "#fig, ax = plt.subplot()\n",
        "\n",
        "plt.plot(x_axis, y_axis)"
      ]
    },
    {
      "cell_type": "markdown",
      "metadata": {
        "id": "Bs4wlHM_18ZU"
      },
      "source": [
        "$(d)$ Create lists of values of squared and cubed values of integers from 1 to 5 using the function you defined above. You can use loops or list comprehensions to do this. Plot the lists you created. <br>\n",
        "**2pts (lines, correct x-axis)**"
      ]
    },
    {
      "cell_type": "code",
      "execution_count": 27,
      "metadata": {
        "id": "GztKzvSv18ZU",
        "colab": {
          "base_uri": "https://localhost:8080/",
          "height": 448
        },
        "outputId": "b7d142af-9476-44d2-a411-915e8ec3168c"
      },
      "outputs": [
        {
          "output_type": "execute_result",
          "data": {
            "text/plain": [
              "[<matplotlib.lines.Line2D at 0x7c0c63f04040>]"
            ]
          },
          "metadata": {},
          "execution_count": 27
        },
        {
          "output_type": "display_data",
          "data": {
            "text/plain": [
              "<Figure size 640x480 with 1 Axes>"
            ],
            "image/png": "[encoded data removed]"
          },
          "metadata": {}
        }
      ],
      "source": [
        "#Create lists using list comprehension\n",
        "squared_list = [power(x, 2) for x in range(1,6,1)]\n",
        "cubed_list = [power(x, 3) for x in range(1,6,1)]\n",
        "\n",
        "#Create x-axis for plot\n",
        "x_axis = np.arange(1,6,1)\n",
        "\n",
        "#plot both of the lists\n",
        "plt.plot(x_axis, squared_list)\n",
        "plt.plot(x_axis, cubed_list)"
      ]
    },
    {
      "cell_type": "markdown",
      "metadata": {
        "id": "L5_bUzjg18ZV"
      },
      "source": [
        "$(e)$ Add a legend to the plot that shows which color corresponds to the power<br>\n",
        "**1pt**"
      ]
    },
    {
      "cell_type": "code",
      "execution_count": 29,
      "metadata": {
        "id": "qDLMjs4V18ZV",
        "colab": {
          "base_uri": "https://localhost:8080/",
          "height": 448
        },
        "outputId": "c8253f9d-37af-40e0-b330-44129f4648ac"
      },
      "outputs": [
        {
          "output_type": "execute_result",
          "data": {
            "text/plain": [
              "<matplotlib.legend.Legend at 0x7c0c61c92080>"
            ]
          },
          "metadata": {},
          "execution_count": 29
        },
        {
          "output_type": "display_data",
          "data": {
            "text/plain": [
              "<Figure size 640x480 with 1 Axes>"
            ],
            "image/png": "[encoded data removed]"
          },
          "metadata": {}
        }
      ],
      "source": [
        "#Added a label to the plots, and then added a legend\n",
        "plt.plot(x_axis, squared_list, label = 'X Squared')\n",
        "plt.plot(x_axis, cubed_list, label = 'X Cubed')\n",
        "plt.legend()"
      ]
    },
    {
      "cell_type": "markdown",
      "metadata": {
        "id": "3L7XpzXV18ZV"
      },
      "source": [
        "### 3\n",
        "I have read the accompanying file name `python_intro.ipynb` located on *Learning Suite* <br>\n",
        "(yes or no) <br>\n",
        "**1/2pt**\n",
        "\n",
        "YES"
      ]
    },
    {
      "cell_type": "markdown",
      "metadata": {
        "id": "lzerThZv18ZV"
      },
      "source": [
        "### 4\n",
        "\n",
        "Thanks to Karl Diether in the Finance Department for this section\n",
        "\n",
        "**Pandas**\n",
        "\n",
        "Pandas is a data manipulation library in python. Some of the aspects we will use in thsi course are listed below\n",
        "\n",
        "1. *Pandas core data structures*: the `DataFrame` and `Series`. Understanding that dataframes store mixed type data (strings, integers, floating point, etc) in a rectangular array. Understanding how to call methods (functions available to the datframe such as `mean`, `describe`, or `shift`), and access the dataframe's attributes (i.e. the underlying data) <br><br>\n",
        "\n",
        "2. *Getting data into DataFrames*. Getting data into a `Pandas'` dataframe is usually straight forward and easy. Pandas easily reads many different data formats: csv files, Excel files, SAS data files, Stata data files, etc. In this class, we will mainly read data in form csv files. Still, I will cover other methods. In addition, you will learn how to create `dataframes` from more primitive python datatypes: `lists`, `dictonaries`, and numpy arrays.<br><br>\n",
        "\n",
        "3. *Data creation.* How to create new columns in a dataframe based on a existing column (e.g, computing the log of a column and storing the result as a new column).<br><br>\n",
        "\n",
        "4. *Data selection*. You will learn how to select only the rows or columns of a `dataframe` that you need for your analysis. For example, how to remove missing values, or select only observations where the lagged price is greater than \\$5<br><br>\n",
        "\n",
        "5. *Merging data*. You will learn how to merge dataframes together based on a single key or multiple keys. Furthermore, we will explore the set logic if different merge types: 'left', 'right', 'inner', and 'outer' merges.<br><br>\n",
        "\n",
        "\n",
        "**II. Why Python/Pandas?**\n",
        "\n",
        "Why Python/Pandas? Why not Stata, R, or SAS? Certainly, each of those languages are used in empirical finance research. I think there are some important advantages to using `Python/Pandas`. One of the important reasons is that Python is a well designed a popular general purpose programming language. I think this makes Python/Pandas relatively easily to learn. I also think it provide `Pandas` with a more elegant syntax than the other languages (but that's obviously a subjective judgment on my part). Additionally, I think this general purpose base yields a side benefit to you. Specifically, learning a general purpose programming language has potentially large benefits for you even if you don't decide to pursue a PhD in Finance. Python is used in lots of different domains; it's not narrowly confined to the domain of quantitative finance or even scientific computing or data science.\n",
        "\n",
        "The main purpose of this `Jupyter` `notebook` is to introduce the `Pandas` `library` (the most important library for this course) and the `dataframe` (the main data object we rely on do to empirical work in the course). A secondary purpose of this notebook is to briefly show off the high level nature of `Pandas`; by high level, I mean you can get a lot done with a only a few commands.\n",
        "\n",
        "\n",
        "**III. Introducing the Dataframe**\n",
        "\n",
        "What does `Pandas'` provide that helps with data analysis? The core object Pandas' provides is a container for holding rectangular array of mixed type data called a **dataframe**. You can think of a dataframe as the programming equivalent of a spreadsheet. The `dataframe` contains rows and columns of data where each column can be a different fundamental datatype: integers, floats, imaginary numbers, or strings. Analogous to a spreadsheet, Pandas' provides programmers with many ways to create new data, transform and combine data, aggregate data, or display data. For example, Pandas' has a built in operator (it's the standard division symbol, `/`) that allows one to divide one column into the other element by element. It also has much higher level functions that, for example, allow us to easily create graphs or plots of data. Many of these functions are built into the dataframe (these built in functions are typically called `methods` or `member` `functions` in the parlance of object oriented programming). So a dataframe isn't just a container for data; it also holds many functions that allow us to perform data analysis. That's why a dataframe is considering an object; it holds mix type data and it provides functions (methods) that allow us to manipulate, transform, and analyze data. The data an object can store, and the functions that can operate on the data define the object's identity (a dataframe in this case).\n",
        "\n",
        "**II. Accessing the Pandas Library**\n",
        "\n",
        "To use Pandas we have to tell Python that we want access to it. This is accomplished with Python's `import` command. As part of the import command I will also give the `Pandas` `library` a namespace. It's convention to use `pd` as the namespace (you can use a different name than `pd` but `pd` is a really strong convention for Pandas in the Python world ... most people will think you're weird if you use any other namespace convention). Given the `pd` namespace, Pandas' functions that we call will take the following form: `pd.function` (for example, `pd.read_csv`). Using namespaces is a good programming practice (habit) because it keeps your code tidier. It's makes it clearer what library a certain function or command comes from if each library you use has it's own namespace."
      ]
    },
    {
      "cell_type": "markdown",
      "metadata": {
        "id": "4L_vgD0718ZW"
      },
      "source": [
        "**III. Reading in the data and creating a `dataframe`**\n",
        "\n",
        "Let's read in some data, and create a `dataframe` object. The data we wish to read into a `dataframe` are annual balance sheet data from Amazon. The data are in a csv file so we can read in the data using the `read_csv` function. The `read_csv` function will automatically create a `dataframe` object containing the data from the csv file. The `read_csv` function has a lot of options and flexibility (take a look at the [help page for it in Pandas' documentation](https://pandas.pydata.org/pandas-docs/stable/generated/pandas.read_csv.html)), but often you don't use any of them (particularly for well formed or non-messy csv files). Pandas can read many different datafile formats (e.g., Excel, SAS, SQL, and Stata), but in this class we will mainly work with csv files. Note, the csv file is actually stored on a web server. The `read_csv` function in `pandas`, of course, reads files stored on your local machine, but it also has no trouble reading file stored remotely; you just need to provide a URL."
      ]
    },
    {
      "cell_type": "code",
      "execution_count": 56,
      "metadata": {
        "id": "olroo6uG18ZW"
      },
      "outputs": [],
      "source": [
        "df = pd.read_csv('https://raw.githubusercontent.com/brighamfrandsen/econ484/master/01-amazon.csv')"
      ]
    },
    {
      "cell_type": "markdown",
      "metadata": {
        "id": "h6idkgBk18ZW"
      },
      "source": [
        "Note (1): To read in data from non-csv formats you generally invoke a command very similar to `read_csv`. For example, you can read in a `Stata` datafile using the following:\n",
        "```python\n",
        "df = pandas.read_stata('filename.dta')\n",
        "```\n",
        "\n",
        "Note (2): There are many other ways to create dataframes. For example, you can convert core Python data structures (like `lists` or `dictionaries`) into `dataframes`."
      ]
    },
    {
      "cell_type": "markdown",
      "metadata": {
        "id": "Vzls-Jkr18ZW"
      },
      "source": [
        "**a. Displaying the data in a dataframe**\n",
        "\n",
        "The **Colab notebook** is a special environment where if you type the name of a dataframe (or other datatypes), it will display the default view of that object (e.g., if the dataframe is small it will display all the data in the dataframe, and if it's large only a truncated view of the data will be displayed). If you just write a python program and run it, then you need to use the `print` function to see any output. But since we are in a notebook, just type the name of the dataframe and run the cell:<br>\n",
        "**1/2pt**"
      ]
    },
    {
      "cell_type": "code",
      "execution_count": 32,
      "metadata": {
        "id": "_A4f5oAc18ZW",
        "colab": {
          "base_uri": "https://localhost:8080/",
          "height": 739
        },
        "outputId": "b1e9b426-c3c6-4947-c977-099a2b345d0f"
      },
      "outputs": [
        {
          "output_type": "execute_result",
          "data": {
            "text/plain": [
              "    tick  year     revenue       ebit       capx       debt         mktcap\n",
              "0   AMZN  1998     609.996   -104.388     28.333    348.140   16950.113750\n",
              "1   AMZN  1999    1639.839   -597.683    287.055   1466.338   25942.410375\n",
              "2   AMZN  2000    2761.983   -663.569    134.758   2127.464    5557.991250\n",
              "3   AMZN  2001    3122.433   -230.672     50.321   2156.133    4038.218760\n",
              "4   AMZN  2002    3932.936    105.697     39.163   2245.691    7327.544340\n",
              "5   AMZN  2003    5263.699    270.735     45.963   1925.373   21224.487480\n",
              "6   AMZN  2004    6921.124    431.378     89.133   1847.397   18146.100190\n",
              "7   AMZN  2005    8490.000    465.000    204.000   1521.000   19614.400000\n",
              "8   AMZN  2006   10711.000    409.000    216.000   1267.000   16336.440000\n",
              "9   AMZN  2007   14835.000    655.000    224.000   1344.000   38538.240000\n",
              "10  AMZN  2008   19166.000    789.000    333.000    533.000   21947.840000\n",
              "11  AMZN  2009   24509.000   1183.000    373.000    252.000   59726.880000\n",
              "12  AMZN  2010   34204.000   1407.000    979.000    641.000   81180.000000\n",
              "13  AMZN  2011   48077.000    867.000   1811.000   1415.000   78760.504550\n",
              "14  AMZN  2012   61093.000    672.000   3785.000   3830.000  113894.980000\n",
              "15  AMZN  2013   74452.000    691.000   3444.000   5181.000  183044.614590\n",
              "16  AMZN  2014   88988.000    130.000   4893.000  12489.000  144121.579044\n",
              "17  AMZN  2015  107006.000   2176.000   4589.000  14183.000  318344.194710\n",
              "18  AMZN  2016  135987.000   4066.000   6737.000  15213.000  357687.990000\n",
              "19  AMZN  2017  177866.000   3954.000  11955.000  37926.000  563534.833384\n",
              "20  AMZN  2018  232887.000  12242.000  13427.000  39787.000  734416.754261\n",
              "21  AMZN  2019  280522.000  14177.000  16861.000  63205.000  920224.305060"
            ],
            "text/html": [
              "\n",
              "  <div id=\"df-dd13aa3b-6e21-4b11-bfb5-e93fde822d0d\" class=\"colab-df-container\">\n",
              "    <div>\n",
              "<style scoped>\n",
              "    .dataframe tbody tr th:only-of-type {\n",
              "        vertical-align: middle;\n",
              "    }\n",
              "\n",
              "    .dataframe tbody tr th {\n",
              "        vertical-align: top;\n",
              "    }\n",
              "\n",
              "    .dataframe thead th {\n",
              "        text-align: right;\n",
              "    }\n",
              "</style>\n",
              "<table border=\"1\" class=\"dataframe\">\n",
              "  <thead>\n",
              "    <tr style=\"text-align: right;\">\n",
              "      <th></th>\n",
              "      <th>tick</th>\n",
              "      <th>year</th>\n",
              "      <th>revenue</th>\n",
              "      <th>ebit</th>\n",
              "      <th>capx</th>\n",
              "      <th>debt</th>\n",
              "      <th>mktcap</th>\n",
              "    </tr>\n",
              "  </thead>\n",
              "  <tbody>\n",
              "    <tr>\n",
              "      <th>0</th>\n",
              "      <td>AMZN</td>\n",
              "      <td>1998</td>\n",
              "      <td>609.996</td>\n",
              "      <td>-104.388</td>\n",
              "      <td>28.333</td>\n",
              "      <td>348.140</td>\n",
              "      <td>16950.113750</td>\n",
              "    </tr>\n",
              "    <tr>\n",
              "      <th>1</th>\n",
              "      <td>AMZN</td>\n",
              "      <td>1999</td>\n",
              "      <td>1639.839</td>\n",
              "      <td>-597.683</td>\n",
              "      <td>287.055</td>\n",
              "      <td>1466.338</td>\n",
              "      <td>25942.410375</td>\n",
              "    </tr>\n",
              "    <tr>\n",
              "      <th>2</th>\n",
              "      <td>AMZN</td>\n",
              "      <td>2000</td>\n",
              "      <td>2761.983</td>\n",
              "      <td>-663.569</td>\n",
              "      <td>134.758</td>\n",
              "      <td>2127.464</td>\n",
              "      <td>5557.991250</td>\n",
              "    </tr>\n",
              "    <tr>\n",
              "      <th>3</th>\n",
              "      <td>AMZN</td>\n",
              "      <td>2001</td>\n",
              "      <td>3122.433</td>\n",
              "      <td>-230.672</td>\n",
              "      <td>50.321</td>\n",
              "      <td>2156.133</td>\n",
              "      <td>4038.218760</td>\n",
              "    </tr>\n",
              "    <tr>\n",
              "      <th>4</th>\n",
              "      <td>AMZN</td>\n",
              "      <td>2002</td>\n",
              "      <td>3932.936</td>\n",
              "      <td>105.697</td>\n",
              "      <td>39.163</td>\n",
              "      <td>2245.691</td>\n",
              "      <td>7327.544340</td>\n",
              "    </tr>\n",
              "    <tr>\n",
              "      <th>5</th>\n",
              "      <td>AMZN</td>\n",
              "      <td>2003</td>\n",
              "      <td>5263.699</td>\n",
              "      <td>270.735</td>\n",
              "      <td>45.963</td>\n",
              "      <td>1925.373</td>\n",
              "      <td>21224.487480</td>\n",
              "    </tr>\n",
              "    <tr>\n",
              "      <th>6</th>\n",
              "      <td>AMZN</td>\n",
              "      <td>2004</td>\n",
              "      <td>6921.124</td>\n",
              "      <td>431.378</td>\n",
              "      <td>89.133</td>\n",
              "      <td>1847.397</td>\n",
              "      <td>18146.100190</td>\n",
              "    </tr>\n",
              "    <tr>\n",
              "      <th>7</th>\n",
              "      <td>AMZN</td>\n",
              "      <td>2005</td>\n",
              "      <td>8490.000</td>\n",
              "      <td>465.000</td>\n",
              "      <td>204.000</td>\n",
              "      <td>1521.000</td>\n",
              "      <td>19614.400000</td>\n",
              "    </tr>\n",
              "    <tr>\n",
              "      <th>8</th>\n",
              "      <td>AMZN</td>\n",
              "      <td>2006</td>\n",
              "      <td>10711.000</td>\n",
              "      <td>409.000</td>\n",
              "      <td>216.000</td>\n",
              "      <td>1267.000</td>\n",
              "      <td>16336.440000</td>\n",
              "    </tr>\n",
              "    <tr>\n",
              "      <th>9</th>\n",
              "      <td>AMZN</td>\n",
              "      <td>2007</td>\n",
              "      <td>14835.000</td>\n",
              "      <td>655.000</td>\n",
              "      <td>224.000</td>\n",
              "      <td>1344.000</td>\n",
              "      <td>38538.240000</td>\n",
              "    </tr>\n",
              "    <tr>\n",
              "      <th>10</th>\n",
              "      <td>AMZN</td>\n",
              "      <td>2008</td>\n",
              "      <td>19166.000</td>\n",
              "      <td>789.000</td>\n",
              "      <td>333.000</td>\n",
              "      <td>533.000</td>\n",
              "      <td>21947.840000</td>\n",
              "    </tr>\n",
              "    <tr>\n",
              "      <th>11</th>\n",
              "      <td>AMZN</td>\n",
              "      <td>2009</td>\n",
              "      <td>24509.000</td>\n",
              "      <td>1183.000</td>\n",
              "      <td>373.000</td>\n",
              "      <td>252.000</td>\n",
              "      <td>59726.880000</td>\n",
              "    </tr>\n",
              "    <tr>\n",
              "      <th>12</th>\n",
              "      <td>AMZN</td>\n",
              "      <td>2010</td>\n",
              "      <td>34204.000</td>\n",
              "      <td>1407.000</td>\n",
              "      <td>979.000</td>\n",
              "      <td>641.000</td>\n",
              "      <td>81180.000000</td>\n",
              "    </tr>\n",
              "    <tr>\n",
              "      <th>13</th>\n",
              "      <td>AMZN</td>\n",
              "      <td>2011</td>\n",
              "      <td>48077.000</td>\n",
              "      <td>867.000</td>\n",
              "      <td>1811.000</td>\n",
              "      <td>1415.000</td>\n",
              "      <td>78760.504550</td>\n",
              "    </tr>\n",
              "    <tr>\n",
              "      <th>14</th>\n",
              "      <td>AMZN</td>\n",
              "      <td>2012</td>\n",
              "      <td>61093.000</td>\n",
              "      <td>672.000</td>\n",
              "      <td>3785.000</td>\n",
              "      <td>3830.000</td>\n",
              "      <td>113894.980000</td>\n",
              "    </tr>\n",
              "    <tr>\n",
              "      <th>15</th>\n",
              "      <td>AMZN</td>\n",
              "      <td>2013</td>\n",
              "      <td>74452.000</td>\n",
              "      <td>691.000</td>\n",
              "      <td>3444.000</td>\n",
              "      <td>5181.000</td>\n",
              "      <td>183044.614590</td>\n",
              "    </tr>\n",
              "    <tr>\n",
              "      <th>16</th>\n",
              "      <td>AMZN</td>\n",
              "      <td>2014</td>\n",
              "      <td>88988.000</td>\n",
              "      <td>130.000</td>\n",
              "      <td>4893.000</td>\n",
              "      <td>12489.000</td>\n",
              "      <td>144121.579044</td>\n",
              "    </tr>\n",
              "    <tr>\n",
              "      <th>17</th>\n",
              "      <td>AMZN</td>\n",
              "      <td>2015</td>\n",
              "      <td>107006.000</td>\n",
              "      <td>2176.000</td>\n",
              "      <td>4589.000</td>\n",
              "      <td>14183.000</td>\n",
              "      <td>318344.194710</td>\n",
              "    </tr>\n",
              "    <tr>\n",
              "      <th>18</th>\n",
              "      <td>AMZN</td>\n",
              "      <td>2016</td>\n",
              "      <td>135987.000</td>\n",
              "      <td>4066.000</td>\n",
              "      <td>6737.000</td>\n",
              "      <td>15213.000</td>\n",
              "      <td>357687.990000</td>\n",
              "    </tr>\n",
              "    <tr>\n",
              "      <th>19</th>\n",
              "      <td>AMZN</td>\n",
              "      <td>2017</td>\n",
              "      <td>177866.000</td>\n",
              "      <td>3954.000</td>\n",
              "      <td>11955.000</td>\n",
              "      <td>37926.000</td>\n",
              "      <td>563534.833384</td>\n",
              "    </tr>\n",
              "    <tr>\n",
              "      <th>20</th>\n",
              "      <td>AMZN</td>\n",
              "      <td>2018</td>\n",
              "      <td>232887.000</td>\n",
              "      <td>12242.000</td>\n",
              "      <td>13427.000</td>\n",
              "      <td>39787.000</td>\n",
              "      <td>734416.754261</td>\n",
              "    </tr>\n",
              "    <tr>\n",
              "      <th>21</th>\n",
              "      <td>AMZN</td>\n",
              "      <td>2019</td>\n",
              "      <td>280522.000</td>\n",
              "      <td>14177.000</td>\n",
              "      <td>16861.000</td>\n",
              "      <td>63205.000</td>\n",
              "      <td>920224.305060</td>\n",
              "    </tr>\n",
              "  </tbody>\n",
              "</table>\n",
              "</div>\n",
              "    <div class=\"colab-df-buttons\">\n",
              "\n",
              "  <div class=\"colab-df-container\">\n",
              "    <button class=\"colab-df-convert\" onclick=\"convertToInteractive('df-dd13aa3b-6e21-4b11-bfb5-e93fde822d0d')\"\n",
              "            title=\"Convert this dataframe to an interactive table.\"\n",
              "            style=\"display:none;\">\n",
              "\n",
              "  <svg xmlns=\"http://www.w3.org/2000/svg\" height=\"24px\" viewBox=\"0 -960 960 960\">\n",
              "    <path d=\"M120-120v-720h720v720H120Zm60-500h600v-160H180v160Zm220 220h160v-160H400v160Zm0 220h160v-160H400v160ZM180-400h160v-160H180v160Zm440 0h160v-160H620v160ZM180-180h160v-160H180v160Zm440 0h160v-160H620v160Z\"/>\n",
              "  </svg>\n",
              "    </button>\n",
              "\n",
              "  <style>\n",
              "    .colab-df-container {\n",
              "      display:flex;\n",
              "      gap: 12px;\n",
              "    }\n",
              "\n",
              "    .colab-df-convert {\n",
              "      background-color: #E8F0FE;\n",
              "      border: none;\n",
              "      border-radius: 50%;\n",
              "      cursor: pointer;\n",
              "      display: none;\n",
              "      fill: #1967D2;\n",
              "      height: 32px;\n",
              "      padding: 0 0 0 0;\n",
              "      width: 32px;\n",
              "    }\n",
              "\n",
              "    .colab-df-convert:hover {\n",
              "      background-color: #E2EBFA;\n",
              "      box-shadow: 0px 1px 2px rgba(60, 64, 67, 0.3), 0px 1px 3px 1px rgba(60, 64, 67, 0.15);\n",
              "      fill: #174EA6;\n",
              "    }\n",
              "\n",
              "    .colab-df-buttons div {\n",
              "      margin-bottom: 4px;\n",
              "    }\n",
              "\n",
              "    [theme=dark] .colab-df-convert {\n",
              "      background-color: #3B4455;\n",
              "      fill: #D2E3FC;\n",
              "    }\n",
              "\n",
              "    [theme=dark] .colab-df-convert:hover {\n",
              "      background-color: #434B5C;\n",
              "      box-shadow: 0px 1px 3px 1px rgba(0, 0, 0, 0.15);\n",
              "      filter: drop-shadow(0px 1px 2px rgba(0, 0, 0, 0.3));\n",
              "      fill: #FFFFFF;\n",
              "    }\n",
              "  </style>\n",
              "\n",
              "    <script>\n",
              "      const buttonEl =\n",
              "        document.querySelector('#df-dd13aa3b-6e21-4b11-bfb5-e93fde822d0d button.colab-df-convert');\n",
              "      buttonEl.style.display =\n",
              "        google.colab.kernel.accessAllowed ? 'block' : 'none';\n",
              "\n",
              "      async function convertToInteractive(key) {\n",
              "        const element = document.querySelector('#df-dd13aa3b-6e21-4b11-bfb5-e93fde822d0d');\n",
              "        const dataTable =\n",
              "          await google.colab.kernel.invokeFunction('convertToInteractive',\n",
              "                                                    [key], {});\n",
              "        if (!dataTable) return;\n",
              "\n",
              "        const docLinkHtml = 'Like what you see? Visit the ' +\n",
              "          '<a target=\"_blank\" href=https://colab.research.google.com/notebooks/data_table.ipynb>data table notebook</a>'\n",
              "          + ' to learn more about interactive tables.';\n",
              "        element.innerHTML = '';\n",
              "        dataTable['output_type'] = 'display_data';\n",
              "        await google.colab.output.renderOutput(dataTable, element);\n",
              "        const docLink = document.createElement('div');\n",
              "        docLink.innerHTML = docLinkHtml;\n",
              "        element.appendChild(docLink);\n",
              "      }\n",
              "    </script>\n",
              "  </div>\n",
              "\n",
              "\n",
              "<div id=\"df-172a4908-d87b-4c15-98f2-de844e7118c2\">\n",
              "  <button class=\"colab-df-quickchart\" onclick=\"quickchart('df-172a4908-d87b-4c15-98f2-de844e7118c2')\"\n",
              "            title=\"Suggest charts.\"\n",
              "            style=\"display:none;\">\n",
              "\n",
              "<svg xmlns=\"http://www.w3.org/2000/svg\" height=\"24px\"viewBox=\"0 0 24 24\"\n",
              "     width=\"24px\">\n",
              "    <g>\n",
              "        <path d=\"M19 3H5c-1.1 0-2 .9-2 2v14c0 1.1.9 2 2 2h14c1.1 0 2-.9 2-2V5c0-1.1-.9-2-2-2zM9 17H7v-7h2v7zm4 0h-2V7h2v10zm4 0h-2v-4h2v4z\"/>\n",
              "    </g>\n",
              "</svg>\n",
              "  </button>\n",
              "\n",
              "<style>\n",
              "  .colab-df-quickchart {\n",
              "      --bg-color: #E8F0FE;\n",
              "      --fill-color: #1967D2;\n",
              "      --hover-bg-color: #E2EBFA;\n",
              "      --hover-fill-color: #174EA6;\n",
              "      --disabled-fill-color: #AAA;\n",
              "      --disabled-bg-color: #DDD;\n",
              "  }\n",
              "\n",
              "  [theme=dark] .colab-df-quickchart {\n",
              "      --bg-color: #3B4455;\n",
              "      --fill-color: #D2E3FC;\n",
              "      --hover-bg-color: #434B5C;\n",
              "      --hover-fill-color: #FFFFFF;\n",
              "      --disabled-bg-color: #3B4455;\n",
              "      --disabled-fill-color: #666;\n",
              "  }\n",
              "\n",
              "  .colab-df-quickchart {\n",
              "    background-color: var(--bg-color);\n",
              "    border: none;\n",
              "    border-radius: 50%;\n",
              "    cursor: pointer;\n",
              "    display: none;\n",
              "    fill: var(--fill-color);\n",
              "    height: 32px;\n",
              "    padding: 0;\n",
              "    width: 32px;\n",
              "  }\n",
              "\n",
              "  .colab-df-quickchart:hover {\n",
              "    background-color: var(--hover-bg-color);\n",
              "    box-shadow: 0 1px 2px rgba(60, 64, 67, 0.3), 0 1px 3px 1px rgba(60, 64, 67, 0.15);\n",
              "    fill: var(--button-hover-fill-color);\n",
              "  }\n",
              "\n",
              "  .colab-df-quickchart-complete:disabled,\n",
              "  .colab-df-quickchart-complete:disabled:hover {\n",
              "    background-color: var(--disabled-bg-color);\n",
              "    fill: var(--disabled-fill-color);\n",
              "    box-shadow: none;\n",
              "  }\n",
              "\n",
              "  .colab-df-spinner {\n",
              "    border: 2px solid var(--fill-color);\n",
              "    border-color: transparent;\n",
              "    border-bottom-color: var(--fill-color);\n",
              "    animation:\n",
              "      spin 1s steps(1) infinite;\n",
              "  }\n",
              "\n",
              "  @keyframes spin {\n",
              "    0% {\n",
              "      border-color: transparent;\n",
              "      border-bottom-color: var(--fill-color);\n",
              "      border-left-color: var(--fill-color);\n",
              "    }\n",
              "    20% {\n",
              "      border-color: transparent;\n",
              "      border-left-color: var(--fill-color);\n",
              "      border-top-color: var(--fill-color);\n",
              "    }\n",
              "    30% {\n",
              "      border-color: transparent;\n",
              "      border-left-color: var(--fill-color);\n",
              "      border-top-color: var(--fill-color);\n",
              "      border-right-color: var(--fill-color);\n",
              "    }\n",
              "    40% {\n",
              "      border-color: transparent;\n",
              "      border-right-color: var(--fill-color);\n",
              "      border-top-color: var(--fill-color);\n",
              "    }\n",
              "    60% {\n",
              "      border-color: transparent;\n",
              "      border-right-color: var(--fill-color);\n",
              "    }\n",
              "    80% {\n",
              "      border-color: transparent;\n",
              "      border-right-color: var(--fill-color);\n",
              "      border-bottom-color: var(--fill-color);\n",
              "    }\n",
              "    90% {\n",
              "      border-color: transparent;\n",
              "      border-bottom-color: var(--fill-color);\n",
              "    }\n",
              "  }\n",
              "</style>\n",
              "\n",
              "  <script>\n",
              "    async function quickchart(key) {\n",
              "      const quickchartButtonEl =\n",
              "        document.querySelector('#' + key + ' button');\n",
              "      quickchartButtonEl.disabled = true;  // To prevent multiple clicks.\n",
              "      quickchartButtonEl.classList.add('colab-df-spinner');\n",
              "      try {\n",
              "        const charts = await google.colab.kernel.invokeFunction(\n",
              "            'suggestCharts', [key], {});\n",
              "      } catch (error) {\n",
              "        console.error('Error during call to suggestCharts:', error);\n",
              "      }\n",
              "      quickchartButtonEl.classList.remove('colab-df-spinner');\n",
              "      quickchartButtonEl.classList.add('colab-df-quickchart-complete');\n",
              "    }\n",
              "    (() => {\n",
              "      let quickchartButtonEl =\n",
              "        document.querySelector('#df-172a4908-d87b-4c15-98f2-de844e7118c2 button');\n",
              "      quickchartButtonEl.style.display =\n",
              "        google.colab.kernel.accessAllowed ? 'block' : 'none';\n",
              "    })();\n",
              "  </script>\n",
              "</div>\n",
              "    </div>\n",
              "  </div>\n"
            ]
          },
          "metadata": {},
          "execution_count": 32
        }
      ],
      "source": [
        "df"
      ]
    },
    {
      "cell_type": "markdown",
      "metadata": {
        "id": "poTovDjk18ZX"
      },
      "source": [
        "Or we can use an explicit print command:"
      ]
    },
    {
      "cell_type": "code",
      "execution_count": 117,
      "metadata": {
        "id": "mndFZwza18ZX",
        "colab": {
          "base_uri": "https://localhost:8080/"
        },
        "outputId": "d996e415-a381-4246-9b03-cebed15b23b8"
      },
      "outputs": [
        {
          "output_type": "stream",
          "name": "stdout",
          "text": [
            "    tick  year     revenue       ebit       capx       debt         mktcap\n",
            "0   AMZN  1998     609.996   -104.388     28.333    348.140   16950.113750\n",
            "1   AMZN  1999    1639.839   -597.683    287.055   1466.338   25942.410375\n",
            "2   AMZN  2000    2761.983   -663.569    134.758   2127.464    5557.991250\n",
            "3   AMZN  2001    3122.433   -230.672     50.321   2156.133    4038.218760\n",
            "4   AMZN  2002    3932.936    105.697     39.163   2245.691    7327.544340\n",
            "5   AMZN  2003    5263.699    270.735     45.963   1925.373   21224.487480\n",
            "6   AMZN  2004    6921.124    431.378     89.133   1847.397   18146.100190\n",
            "7   AMZN  2005    8490.000    465.000    204.000   1521.000   19614.400000\n",
            "8   AMZN  2006   10711.000    409.000    216.000   1267.000   16336.440000\n",
            "9   AMZN  2007   14835.000    655.000    224.000   1344.000   38538.240000\n",
            "10  AMZN  2008   19166.000    789.000    333.000    533.000   21947.840000\n",
            "11  AMZN  2009   24509.000   1183.000    373.000    252.000   59726.880000\n",
            "12  AMZN  2010   34204.000   1407.000    979.000    641.000   81180.000000\n",
            "13  AMZN  2011   48077.000    867.000   1811.000   1415.000   78760.504550\n",
            "14  AMZN  2012   61093.000    672.000   3785.000   3830.000  113894.980000\n",
            "15  AMZN  2013   74452.000    691.000   3444.000   5181.000  183044.614590\n",
            "16  AMZN  2014   88988.000    130.000   4893.000  12489.000  144121.579044\n",
            "17  AMZN  2015  107006.000   2176.000   4589.000  14183.000  318344.194710\n",
            "18  AMZN  2016  135987.000   4066.000   6737.000  15213.000  357687.990000\n",
            "19  AMZN  2017  177866.000   3954.000  11955.000  37926.000  563534.833384\n",
            "20  AMZN  2018  232887.000  12242.000  13427.000  39787.000  734416.754261\n",
            "21  AMZN  2019  280522.000  14177.000  16861.000  63205.000  920224.305060\n"
          ]
        }
      ],
      "source": [
        "print(df)"
      ]
    },
    {
      "cell_type": "markdown",
      "metadata": {
        "id": "D3i894M418ZY"
      },
      "source": [
        "**b. Dataframes and Series**\n",
        "\n",
        "Our `dataframe` is called `df`, but if we select a column from the `dataframe` it will be of type `Series`. `Dataframes` and `Series` behave very similarly; for our purposes, it will mostly just be a technical distinction between a one dimensional and two dimensional array.\n",
        "\n",
        "Note (1): we can select a column of a dataframe (a Series) by wrapping the column's name in quotes. For example,\n",
        "```python\n",
        "df['sales']\n",
        "```\n",
        "\n",
        "Note (2): you typically must wrap the column's name in ' ' because most column names are stored as strings. You will need to reference columns this way as long as the variable names you use aren't entirely numeric (e.g., an integer). In Python (and nearly every other general purpose programming language) strings are always delimited by either single or double quotes. In `Python` you can use either single (' ') or double (\" \") quotes.  \n",
        "\n",
        "Note (3):  In Python, there is a `type` function that returns the type of a variable or object.<br>\n",
        "**1pt (1/4pt for each: columns, select 1, select 2, display types)**"
      ]
    },
    {
      "cell_type": "code",
      "execution_count": 37,
      "metadata": {
        "id": "KFQ6bz0k18ZY",
        "colab": {
          "base_uri": "https://localhost:8080/"
        },
        "outputId": "8963caf6-b8ba-4937-815f-25a149c82e46"
      },
      "outputs": [
        {
          "output_type": "execute_result",
          "data": {
            "text/plain": [
              "Index(['tick', 'year', 'revenue', 'ebit', 'capx', 'debt', 'mktcap'], dtype='object')"
            ]
          },
          "metadata": {},
          "execution_count": 37
        }
      ],
      "source": [
        "# display the columns attribute of the dataframe, which has has all of the column names\n",
        "df.columns"
      ]
    },
    {
      "cell_type": "code",
      "execution_count": 35,
      "metadata": {
        "id": "EgGd5f2f18ZY",
        "colab": {
          "base_uri": "https://localhost:8080/",
          "height": 739
        },
        "outputId": "24ca678b-f32b-428e-ecb7-0692e236ba18"
      },
      "outputs": [
        {
          "output_type": "execute_result",
          "data": {
            "text/plain": [
              "    year\n",
              "0   1998\n",
              "1   1999\n",
              "2   2000\n",
              "3   2001\n",
              "4   2002\n",
              "5   2003\n",
              "6   2004\n",
              "7   2005\n",
              "8   2006\n",
              "9   2007\n",
              "10  2008\n",
              "11  2009\n",
              "12  2010\n",
              "13  2011\n",
              "14  2012\n",
              "15  2013\n",
              "16  2014\n",
              "17  2015\n",
              "18  2016\n",
              "19  2017\n",
              "20  2018\n",
              "21  2019"
            ],
            "text/html": [
              "\n",
              "  <div id=\"df-e7a3ff22-0513-4d88-895d-58697fb7b79e\" class=\"colab-df-container\">\n",
              "    <div>\n",
              "<style scoped>\n",
              "    .dataframe tbody tr th:only-of-type {\n",
              "        vertical-align: middle;\n",
              "    }\n",
              "\n",
              "    .dataframe tbody tr th {\n",
              "        vertical-align: top;\n",
              "    }\n",
              "\n",
              "    .dataframe thead th {\n",
              "        text-align: right;\n",
              "    }\n",
              "</style>\n",
              "<table border=\"1\" class=\"dataframe\">\n",
              "  <thead>\n",
              "    <tr style=\"text-align: right;\">\n",
              "      <th></th>\n",
              "      <th>year</th>\n",
              "    </tr>\n",
              "  </thead>\n",
              "  <tbody>\n",
              "    <tr>\n",
              "      <th>0</th>\n",
              "      <td>1998</td>\n",
              "    </tr>\n",
              "    <tr>\n",
              "      <th>1</th>\n",
              "      <td>1999</td>\n",
              "    </tr>\n",
              "    <tr>\n",
              "      <th>2</th>\n",
              "      <td>2000</td>\n",
              "    </tr>\n",
              "    <tr>\n",
              "      <th>3</th>\n",
              "      <td>2001</td>\n",
              "    </tr>\n",
              "    <tr>\n",
              "      <th>4</th>\n",
              "      <td>2002</td>\n",
              "    </tr>\n",
              "    <tr>\n",
              "      <th>5</th>\n",
              "      <td>2003</td>\n",
              "    </tr>\n",
              "    <tr>\n",
              "      <th>6</th>\n",
              "      <td>2004</td>\n",
              "    </tr>\n",
              "    <tr>\n",
              "      <th>7</th>\n",
              "      <td>2005</td>\n",
              "    </tr>\n",
              "    <tr>\n",
              "      <th>8</th>\n",
              "      <td>2006</td>\n",
              "    </tr>\n",
              "    <tr>\n",
              "      <th>9</th>\n",
              "      <td>2007</td>\n",
              "    </tr>\n",
              "    <tr>\n",
              "      <th>10</th>\n",
              "      <td>2008</td>\n",
              "    </tr>\n",
              "    <tr>\n",
              "      <th>11</th>\n",
              "      <td>2009</td>\n",
              "    </tr>\n",
              "    <tr>\n",
              "      <th>12</th>\n",
              "      <td>2010</td>\n",
              "    </tr>\n",
              "    <tr>\n",
              "      <th>13</th>\n",
              "      <td>2011</td>\n",
              "    </tr>\n",
              "    <tr>\n",
              "      <th>14</th>\n",
              "      <td>2012</td>\n",
              "    </tr>\n",
              "    <tr>\n",
              "      <th>15</th>\n",
              "      <td>2013</td>\n",
              "    </tr>\n",
              "    <tr>\n",
              "      <th>16</th>\n",
              "      <td>2014</td>\n",
              "    </tr>\n",
              "    <tr>\n",
              "      <th>17</th>\n",
              "      <td>2015</td>\n",
              "    </tr>\n",
              "    <tr>\n",
              "      <th>18</th>\n",
              "      <td>2016</td>\n",
              "    </tr>\n",
              "    <tr>\n",
              "      <th>19</th>\n",
              "      <td>2017</td>\n",
              "    </tr>\n",
              "    <tr>\n",
              "      <th>20</th>\n",
              "      <td>2018</td>\n",
              "    </tr>\n",
              "    <tr>\n",
              "      <th>21</th>\n",
              "      <td>2019</td>\n",
              "    </tr>\n",
              "  </tbody>\n",
              "</table>\n",
              "</div>\n",
              "    <div class=\"colab-df-buttons\">\n",
              "\n",
              "  <div class=\"colab-df-container\">\n",
              "    <button class=\"colab-df-convert\" onclick=\"convertToInteractive('df-e7a3ff22-0513-4d88-895d-58697fb7b79e')\"\n",
              "            title=\"Convert this dataframe to an interactive table.\"\n",
              "            style=\"display:none;\">\n",
              "\n",
              "  <svg xmlns=\"http://www.w3.org/2000/svg\" height=\"24px\" viewBox=\"0 -960 960 960\">\n",
              "    <path d=\"M120-120v-720h720v720H120Zm60-500h600v-160H180v160Zm220 220h160v-160H400v160Zm0 220h160v-160H400v160ZM180-400h160v-160H180v160Zm440 0h160v-160H620v160ZM180-180h160v-160H180v160Zm440 0h160v-160H620v160Z\"/>\n",
              "  </svg>\n",
              "    </button>\n",
              "\n",
              "  <style>\n",
              "    .colab-df-container {\n",
              "      display:flex;\n",
              "      gap: 12px;\n",
              "    }\n",
              "\n",
              "    .colab-df-convert {\n",
              "      background-color: #E8F0FE;\n",
              "      border: none;\n",
              "      border-radius: 50%;\n",
              "      cursor: pointer;\n",
              "      display: none;\n",
              "      fill: #1967D2;\n",
              "      height: 32px;\n",
              "      padding: 0 0 0 0;\n",
              "      width: 32px;\n",
              "    }\n",
              "\n",
              "    .colab-df-convert:hover {\n",
              "      background-color: #E2EBFA;\n",
              "      box-shadow: 0px 1px 2px rgba(60, 64, 67, 0.3), 0px 1px 3px 1px rgba(60, 64, 67, 0.15);\n",
              "      fill: #174EA6;\n",
              "    }\n",
              "\n",
              "    .colab-df-buttons div {\n",
              "      margin-bottom: 4px;\n",
              "    }\n",
              "\n",
              "    [theme=dark] .colab-df-convert {\n",
              "      background-color: #3B4455;\n",
              "      fill: #D2E3FC;\n",
              "    }\n",
              "\n",
              "    [theme=dark] .colab-df-convert:hover {\n",
              "      background-color: #434B5C;\n",
              "      box-shadow: 0px 1px 3px 1px rgba(0, 0, 0, 0.15);\n",
              "      filter: drop-shadow(0px 1px 2px rgba(0, 0, 0, 0.3));\n",
              "      fill: #FFFFFF;\n",
              "    }\n",
              "  </style>\n",
              "\n",
              "    <script>\n",
              "      const buttonEl =\n",
              "        document.querySelector('#df-e7a3ff22-0513-4d88-895d-58697fb7b79e button.colab-df-convert');\n",
              "      buttonEl.style.display =\n",
              "        google.colab.kernel.accessAllowed ? 'block' : 'none';\n",
              "\n",
              "      async function convertToInteractive(key) {\n",
              "        const element = document.querySelector('#df-e7a3ff22-0513-4d88-895d-58697fb7b79e');\n",
              "        const dataTable =\n",
              "          await google.colab.kernel.invokeFunction('convertToInteractive',\n",
              "                                                    [key], {});\n",
              "        if (!dataTable) return;\n",
              "\n",
              "        const docLinkHtml = 'Like what you see? Visit the ' +\n",
              "          '<a target=\"_blank\" href=https://colab.research.google.com/notebooks/data_table.ipynb>data table notebook</a>'\n",
              "          + ' to learn more about interactive tables.';\n",
              "        element.innerHTML = '';\n",
              "        dataTable['output_type'] = 'display_data';\n",
              "        await google.colab.output.renderOutput(dataTable, element);\n",
              "        const docLink = document.createElement('div');\n",
              "        docLink.innerHTML = docLinkHtml;\n",
              "        element.appendChild(docLink);\n",
              "      }\n",
              "    </script>\n",
              "  </div>\n",
              "\n",
              "\n",
              "<div id=\"df-96213191-8314-41ed-9029-aa49edffa13e\">\n",
              "  <button class=\"colab-df-quickchart\" onclick=\"quickchart('df-96213191-8314-41ed-9029-aa49edffa13e')\"\n",
              "            title=\"Suggest charts.\"\n",
              "            style=\"display:none;\">\n",
              "\n",
              "<svg xmlns=\"http://www.w3.org/2000/svg\" height=\"24px\"viewBox=\"0 0 24 24\"\n",
              "     width=\"24px\">\n",
              "    <g>\n",
              "        <path d=\"M19 3H5c-1.1 0-2 .9-2 2v14c0 1.1.9 2 2 2h14c1.1 0 2-.9 2-2V5c0-1.1-.9-2-2-2zM9 17H7v-7h2v7zm4 0h-2V7h2v10zm4 0h-2v-4h2v4z\"/>\n",
              "    </g>\n",
              "</svg>\n",
              "  </button>\n",
              "\n",
              "<style>\n",
              "  .colab-df-quickchart {\n",
              "      --bg-color: #E8F0FE;\n",
              "      --fill-color: #1967D2;\n",
              "      --hover-bg-color: #E2EBFA;\n",
              "      --hover-fill-color: #174EA6;\n",
              "      --disabled-fill-color: #AAA;\n",
              "      --disabled-bg-color: #DDD;\n",
              "  }\n",
              "\n",
              "  [theme=dark] .colab-df-quickchart {\n",
              "      --bg-color: #3B4455;\n",
              "      --fill-color: #D2E3FC;\n",
              "      --hover-bg-color: #434B5C;\n",
              "      --hover-fill-color: #FFFFFF;\n",
              "      --disabled-bg-color: #3B4455;\n",
              "      --disabled-fill-color: #666;\n",
              "  }\n",
              "\n",
              "  .colab-df-quickchart {\n",
              "    background-color: var(--bg-color);\n",
              "    border: none;\n",
              "    border-radius: 50%;\n",
              "    cursor: pointer;\n",
              "    display: none;\n",
              "    fill: var(--fill-color);\n",
              "    height: 32px;\n",
              "    padding: 0;\n",
              "    width: 32px;\n",
              "  }\n",
              "\n",
              "  .colab-df-quickchart:hover {\n",
              "    background-color: var(--hover-bg-color);\n",
              "    box-shadow: 0 1px 2px rgba(60, 64, 67, 0.3), 0 1px 3px 1px rgba(60, 64, 67, 0.15);\n",
              "    fill: var(--button-hover-fill-color);\n",
              "  }\n",
              "\n",
              "  .colab-df-quickchart-complete:disabled,\n",
              "  .colab-df-quickchart-complete:disabled:hover {\n",
              "    background-color: var(--disabled-bg-color);\n",
              "    fill: var(--disabled-fill-color);\n",
              "    box-shadow: none;\n",
              "  }\n",
              "\n",
              "  .colab-df-spinner {\n",
              "    border: 2px solid var(--fill-color);\n",
              "    border-color: transparent;\n",
              "    border-bottom-color: var(--fill-color);\n",
              "    animation:\n",
              "      spin 1s steps(1) infinite;\n",
              "  }\n",
              "\n",
              "  @keyframes spin {\n",
              "    0% {\n",
              "      border-color: transparent;\n",
              "      border-bottom-color: var(--fill-color);\n",
              "      border-left-color: var(--fill-color);\n",
              "    }\n",
              "    20% {\n",
              "      border-color: transparent;\n",
              "      border-left-color: var(--fill-color);\n",
              "      border-top-color: var(--fill-color);\n",
              "    }\n",
              "    30% {\n",
              "      border-color: transparent;\n",
              "      border-left-color: var(--fill-color);\n",
              "      border-top-color: var(--fill-color);\n",
              "      border-right-color: var(--fill-color);\n",
              "    }\n",
              "    40% {\n",
              "      border-color: transparent;\n",
              "      border-right-color: var(--fill-color);\n",
              "      border-top-color: var(--fill-color);\n",
              "    }\n",
              "    60% {\n",
              "      border-color: transparent;\n",
              "      border-right-color: var(--fill-color);\n",
              "    }\n",
              "    80% {\n",
              "      border-color: transparent;\n",
              "      border-right-color: var(--fill-color);\n",
              "      border-bottom-color: var(--fill-color);\n",
              "    }\n",
              "    90% {\n",
              "      border-color: transparent;\n",
              "      border-bottom-color: var(--fill-color);\n",
              "    }\n",
              "  }\n",
              "</style>\n",
              "\n",
              "  <script>\n",
              "    async function quickchart(key) {\n",
              "      const quickchartButtonEl =\n",
              "        document.querySelector('#' + key + ' button');\n",
              "      quickchartButtonEl.disabled = true;  // To prevent multiple clicks.\n",
              "      quickchartButtonEl.classList.add('colab-df-spinner');\n",
              "      try {\n",
              "        const charts = await google.colab.kernel.invokeFunction(\n",
              "            'suggestCharts', [key], {});\n",
              "      } catch (error) {\n",
              "        console.error('Error during call to suggestCharts:', error);\n",
              "      }\n",
              "      quickchartButtonEl.classList.remove('colab-df-spinner');\n",
              "      quickchartButtonEl.classList.add('colab-df-quickchart-complete');\n",
              "    }\n",
              "    (() => {\n",
              "      let quickchartButtonEl =\n",
              "        document.querySelector('#df-96213191-8314-41ed-9029-aa49edffa13e button');\n",
              "      quickchartButtonEl.style.display =\n",
              "        google.colab.kernel.accessAllowed ? 'block' : 'none';\n",
              "    })();\n",
              "  </script>\n",
              "</div>\n",
              "    </div>\n",
              "  </div>\n"
            ]
          },
          "metadata": {},
          "execution_count": 35
        }
      ],
      "source": [
        "# try displaying one column:\n",
        "df[['year']]"
      ]
    },
    {
      "cell_type": "code",
      "execution_count": 38,
      "metadata": {
        "id": "lnsC3ene18ZY",
        "colab": {
          "base_uri": "https://localhost:8080/",
          "height": 739
        },
        "outputId": "9c2ff352-3f0a-4e78-db6b-1241f69d043d"
      },
      "outputs": [
        {
          "output_type": "execute_result",
          "data": {
            "text/plain": [
              "       revenue       ebit       debt\n",
              "0      609.996   -104.388    348.140\n",
              "1     1639.839   -597.683   1466.338\n",
              "2     2761.983   -663.569   2127.464\n",
              "3     3122.433   -230.672   2156.133\n",
              "4     3932.936    105.697   2245.691\n",
              "5     5263.699    270.735   1925.373\n",
              "6     6921.124    431.378   1847.397\n",
              "7     8490.000    465.000   1521.000\n",
              "8    10711.000    409.000   1267.000\n",
              "9    14835.000    655.000   1344.000\n",
              "10   19166.000    789.000    533.000\n",
              "11   24509.000   1183.000    252.000\n",
              "12   34204.000   1407.000    641.000\n",
              "13   48077.000    867.000   1415.000\n",
              "14   61093.000    672.000   3830.000\n",
              "15   74452.000    691.000   5181.000\n",
              "16   88988.000    130.000  12489.000\n",
              "17  107006.000   2176.000  14183.000\n",
              "18  135987.000   4066.000  15213.000\n",
              "19  177866.000   3954.000  37926.000\n",
              "20  232887.000  12242.000  39787.000\n",
              "21  280522.000  14177.000  63205.000"
            ],
            "text/html": [
              "\n",
              "  <div id=\"df-c7dc08a7-7165-4960-8ddd-4a0000962d4c\" class=\"colab-df-container\">\n",
              "    <div>\n",
              "<style scoped>\n",
              "    .dataframe tbody tr th:only-of-type {\n",
              "        vertical-align: middle;\n",
              "    }\n",
              "\n",
              "    .dataframe tbody tr th {\n",
              "        vertical-align: top;\n",
              "    }\n",
              "\n",
              "    .dataframe thead th {\n",
              "        text-align: right;\n",
              "    }\n",
              "</style>\n",
              "<table border=\"1\" class=\"dataframe\">\n",
              "  <thead>\n",
              "    <tr style=\"text-align: right;\">\n",
              "      <th></th>\n",
              "      <th>revenue</th>\n",
              "      <th>ebit</th>\n",
              "      <th>debt</th>\n",
              "    </tr>\n",
              "  </thead>\n",
              "  <tbody>\n",
              "    <tr>\n",
              "      <th>0</th>\n",
              "      <td>609.996</td>\n",
              "      <td>-104.388</td>\n",
              "      <td>348.140</td>\n",
              "    </tr>\n",
              "    <tr>\n",
              "      <th>1</th>\n",
              "      <td>1639.839</td>\n",
              "      <td>-597.683</td>\n",
              "      <td>1466.338</td>\n",
              "    </tr>\n",
              "    <tr>\n",
              "      <th>2</th>\n",
              "      <td>2761.983</td>\n",
              "      <td>-663.569</td>\n",
              "      <td>2127.464</td>\n",
              "    </tr>\n",
              "    <tr>\n",
              "      <th>3</th>\n",
              "      <td>3122.433</td>\n",
              "      <td>-230.672</td>\n",
              "      <td>2156.133</td>\n",
              "    </tr>\n",
              "    <tr>\n",
              "      <th>4</th>\n",
              "      <td>3932.936</td>\n",
              "      <td>105.697</td>\n",
              "      <td>2245.691</td>\n",
              "    </tr>\n",
              "    <tr>\n",
              "      <th>5</th>\n",
              "      <td>5263.699</td>\n",
              "      <td>270.735</td>\n",
              "      <td>1925.373</td>\n",
              "    </tr>\n",
              "    <tr>\n",
              "      <th>6</th>\n",
              "      <td>6921.124</td>\n",
              "      <td>431.378</td>\n",
              "      <td>1847.397</td>\n",
              "    </tr>\n",
              "    <tr>\n",
              "      <th>7</th>\n",
              "      <td>8490.000</td>\n",
              "      <td>465.000</td>\n",
              "      <td>1521.000</td>\n",
              "    </tr>\n",
              "    <tr>\n",
              "      <th>8</th>\n",
              "      <td>10711.000</td>\n",
              "      <td>409.000</td>\n",
              "      <td>1267.000</td>\n",
              "    </tr>\n",
              "    <tr>\n",
              "      <th>9</th>\n",
              "      <td>14835.000</td>\n",
              "      <td>655.000</td>\n",
              "      <td>1344.000</td>\n",
              "    </tr>\n",
              "    <tr>\n",
              "      <th>10</th>\n",
              "      <td>19166.000</td>\n",
              "      <td>789.000</td>\n",
              "      <td>533.000</td>\n",
              "    </tr>\n",
              "    <tr>\n",
              "      <th>11</th>\n",
              "      <td>24509.000</td>\n",
              "      <td>1183.000</td>\n",
              "      <td>252.000</td>\n",
              "    </tr>\n",
              "    <tr>\n",
              "      <th>12</th>\n",
              "      <td>34204.000</td>\n",
              "      <td>1407.000</td>\n",
              "      <td>641.000</td>\n",
              "    </tr>\n",
              "    <tr>\n",
              "      <th>13</th>\n",
              "      <td>48077.000</td>\n",
              "      <td>867.000</td>\n",
              "      <td>1415.000</td>\n",
              "    </tr>\n",
              "    <tr>\n",
              "      <th>14</th>\n",
              "      <td>61093.000</td>\n",
              "      <td>672.000</td>\n",
              "      <td>3830.000</td>\n",
              "    </tr>\n",
              "    <tr>\n",
              "      <th>15</th>\n",
              "      <td>74452.000</td>\n",
              "      <td>691.000</td>\n",
              "      <td>5181.000</td>\n",
              "    </tr>\n",
              "    <tr>\n",
              "      <th>16</th>\n",
              "      <td>88988.000</td>\n",
              "      <td>130.000</td>\n",
              "      <td>12489.000</td>\n",
              "    </tr>\n",
              "    <tr>\n",
              "      <th>17</th>\n",
              "      <td>107006.000</td>\n",
              "      <td>2176.000</td>\n",
              "      <td>14183.000</td>\n",
              "    </tr>\n",
              "    <tr>\n",
              "      <th>18</th>\n",
              "      <td>135987.000</td>\n",
              "      <td>4066.000</td>\n",
              "      <td>15213.000</td>\n",
              "    </tr>\n",
              "    <tr>\n",
              "      <th>19</th>\n",
              "      <td>177866.000</td>\n",
              "      <td>3954.000</td>\n",
              "      <td>37926.000</td>\n",
              "    </tr>\n",
              "    <tr>\n",
              "      <th>20</th>\n",
              "      <td>232887.000</td>\n",
              "      <td>12242.000</td>\n",
              "      <td>39787.000</td>\n",
              "    </tr>\n",
              "    <tr>\n",
              "      <th>21</th>\n",
              "      <td>280522.000</td>\n",
              "      <td>14177.000</td>\n",
              "      <td>63205.000</td>\n",
              "    </tr>\n",
              "  </tbody>\n",
              "</table>\n",
              "</div>\n",
              "    <div class=\"colab-df-buttons\">\n",
              "\n",
              "  <div class=\"colab-df-container\">\n",
              "    <button class=\"colab-df-convert\" onclick=\"convertToInteractive('df-c7dc08a7-7165-4960-8ddd-4a0000962d4c')\"\n",
              "            title=\"Convert this dataframe to an interactive table.\"\n",
              "            style=\"display:none;\">\n",
              "\n",
              "  <svg xmlns=\"http://www.w3.org/2000/svg\" height=\"24px\" viewBox=\"0 -960 960 960\">\n",
              "    <path d=\"M120-120v-720h720v720H120Zm60-500h600v-160H180v160Zm220 220h160v-160H400v160Zm0 220h160v-160H400v160ZM180-400h160v-160H180v160Zm440 0h160v-160H620v160ZM180-180h160v-160H180v160Zm440 0h160v-160H620v160Z\"/>\n",
              "  </svg>\n",
              "    </button>\n",
              "\n",
              "  <style>\n",
              "    .colab-df-container {\n",
              "      display:flex;\n",
              "      gap: 12px;\n",
              "    }\n",
              "\n",
              "    .colab-df-convert {\n",
              "      background-color: #E8F0FE;\n",
              "      border: none;\n",
              "      border-radius: 50%;\n",
              "      cursor: pointer;\n",
              "      display: none;\n",
              "      fill: #1967D2;\n",
              "      height: 32px;\n",
              "      padding: 0 0 0 0;\n",
              "      width: 32px;\n",
              "    }\n",
              "\n",
              "    .colab-df-convert:hover {\n",
              "      background-color: #E2EBFA;\n",
              "      box-shadow: 0px 1px 2px rgba(60, 64, 67, 0.3), 0px 1px 3px 1px rgba(60, 64, 67, 0.15);\n",
              "      fill: #174EA6;\n",
              "    }\n",
              "\n",
              "    .colab-df-buttons div {\n",
              "      margin-bottom: 4px;\n",
              "    }\n",
              "\n",
              "    [theme=dark] .colab-df-convert {\n",
              "      background-color: #3B4455;\n",
              "      fill: #D2E3FC;\n",
              "    }\n",
              "\n",
              "    [theme=dark] .colab-df-convert:hover {\n",
              "      background-color: #434B5C;\n",
              "      box-shadow: 0px 1px 3px 1px rgba(0, 0, 0, 0.15);\n",
              "      filter: drop-shadow(0px 1px 2px rgba(0, 0, 0, 0.3));\n",
              "      fill: #FFFFFF;\n",
              "    }\n",
              "  </style>\n",
              "\n",
              "    <script>\n",
              "      const buttonEl =\n",
              "        document.querySelector('#df-c7dc08a7-7165-4960-8ddd-4a0000962d4c button.colab-df-convert');\n",
              "      buttonEl.style.display =\n",
              "        google.colab.kernel.accessAllowed ? 'block' : 'none';\n",
              "\n",
              "      async function convertToInteractive(key) {\n",
              "        const element = document.querySelector('#df-c7dc08a7-7165-4960-8ddd-4a0000962d4c');\n",
              "        const dataTable =\n",
              "          await google.colab.kernel.invokeFunction('convertToInteractive',\n",
              "                                                    [key], {});\n",
              "        if (!dataTable) return;\n",
              "\n",
              "        const docLinkHtml = 'Like what you see? Visit the ' +\n",
              "          '<a target=\"_blank\" href=https://colab.research.google.com/notebooks/data_table.ipynb>data table notebook</a>'\n",
              "          + ' to learn more about interactive tables.';\n",
              "        element.innerHTML = '';\n",
              "        dataTable['output_type'] = 'display_data';\n",
              "        await google.colab.output.renderOutput(dataTable, element);\n",
              "        const docLink = document.createElement('div');\n",
              "        docLink.innerHTML = docLinkHtml;\n",
              "        element.appendChild(docLink);\n",
              "      }\n",
              "    </script>\n",
              "  </div>\n",
              "\n",
              "\n",
              "<div id=\"df-d1be7e4b-eba1-41d4-b706-be0aca435398\">\n",
              "  <button class=\"colab-df-quickchart\" onclick=\"quickchart('df-d1be7e4b-eba1-41d4-b706-be0aca435398')\"\n",
              "            title=\"Suggest charts.\"\n",
              "            style=\"display:none;\">\n",
              "\n",
              "<svg xmlns=\"http://www.w3.org/2000/svg\" height=\"24px\"viewBox=\"0 0 24 24\"\n",
              "     width=\"24px\">\n",
              "    <g>\n",
              "        <path d=\"M19 3H5c-1.1 0-2 .9-2 2v14c0 1.1.9 2 2 2h14c1.1 0 2-.9 2-2V5c0-1.1-.9-2-2-2zM9 17H7v-7h2v7zm4 0h-2V7h2v10zm4 0h-2v-4h2v4z\"/>\n",
              "    </g>\n",
              "</svg>\n",
              "  </button>\n",
              "\n",
              "<style>\n",
              "  .colab-df-quickchart {\n",
              "      --bg-color: #E8F0FE;\n",
              "      --fill-color: #1967D2;\n",
              "      --hover-bg-color: #E2EBFA;\n",
              "      --hover-fill-color: #174EA6;\n",
              "      --disabled-fill-color: #AAA;\n",
              "      --disabled-bg-color: #DDD;\n",
              "  }\n",
              "\n",
              "  [theme=dark] .colab-df-quickchart {\n",
              "      --bg-color: #3B4455;\n",
              "      --fill-color: #D2E3FC;\n",
              "      --hover-bg-color: #434B5C;\n",
              "      --hover-fill-color: #FFFFFF;\n",
              "      --disabled-bg-color: #3B4455;\n",
              "      --disabled-fill-color: #666;\n",
              "  }\n",
              "\n",
              "  .colab-df-quickchart {\n",
              "    background-color: var(--bg-color);\n",
              "    border: none;\n",
              "    border-radius: 50%;\n",
              "    cursor: pointer;\n",
              "    display: none;\n",
              "    fill: var(--fill-color);\n",
              "    height: 32px;\n",
              "    padding: 0;\n",
              "    width: 32px;\n",
              "  }\n",
              "\n",
              "  .colab-df-quickchart:hover {\n",
              "    background-color: var(--hover-bg-color);\n",
              "    box-shadow: 0 1px 2px rgba(60, 64, 67, 0.3), 0 1px 3px 1px rgba(60, 64, 67, 0.15);\n",
              "    fill: var(--button-hover-fill-color);\n",
              "  }\n",
              "\n",
              "  .colab-df-quickchart-complete:disabled,\n",
              "  .colab-df-quickchart-complete:disabled:hover {\n",
              "    background-color: var(--disabled-bg-color);\n",
              "    fill: var(--disabled-fill-color);\n",
              "    box-shadow: none;\n",
              "  }\n",
              "\n",
              "  .colab-df-spinner {\n",
              "    border: 2px solid var(--fill-color);\n",
              "    border-color: transparent;\n",
              "    border-bottom-color: var(--fill-color);\n",
              "    animation:\n",
              "      spin 1s steps(1) infinite;\n",
              "  }\n",
              "\n",
              "  @keyframes spin {\n",
              "    0% {\n",
              "      border-color: transparent;\n",
              "      border-bottom-color: var(--fill-color);\n",
              "      border-left-color: var(--fill-color);\n",
              "    }\n",
              "    20% {\n",
              "      border-color: transparent;\n",
              "      border-left-color: var(--fill-color);\n",
              "      border-top-color: var(--fill-color);\n",
              "    }\n",
              "    30% {\n",
              "      border-color: transparent;\n",
              "      border-left-color: var(--fill-color);\n",
              "      border-top-color: var(--fill-color);\n",
              "      border-right-color: var(--fill-color);\n",
              "    }\n",
              "    40% {\n",
              "      border-color: transparent;\n",
              "      border-right-color: var(--fill-color);\n",
              "      border-top-color: var(--fill-color);\n",
              "    }\n",
              "    60% {\n",
              "      border-color: transparent;\n",
              "      border-right-color: var(--fill-color);\n",
              "    }\n",
              "    80% {\n",
              "      border-color: transparent;\n",
              "      border-right-color: var(--fill-color);\n",
              "      border-bottom-color: var(--fill-color);\n",
              "    }\n",
              "    90% {\n",
              "      border-color: transparent;\n",
              "      border-bottom-color: var(--fill-color);\n",
              "    }\n",
              "  }\n",
              "</style>\n",
              "\n",
              "  <script>\n",
              "    async function quickchart(key) {\n",
              "      const quickchartButtonEl =\n",
              "        document.querySelector('#' + key + ' button');\n",
              "      quickchartButtonEl.disabled = true;  // To prevent multiple clicks.\n",
              "      quickchartButtonEl.classList.add('colab-df-spinner');\n",
              "      try {\n",
              "        const charts = await google.colab.kernel.invokeFunction(\n",
              "            'suggestCharts', [key], {});\n",
              "      } catch (error) {\n",
              "        console.error('Error during call to suggestCharts:', error);\n",
              "      }\n",
              "      quickchartButtonEl.classList.remove('colab-df-spinner');\n",
              "      quickchartButtonEl.classList.add('colab-df-quickchart-complete');\n",
              "    }\n",
              "    (() => {\n",
              "      let quickchartButtonEl =\n",
              "        document.querySelector('#df-d1be7e4b-eba1-41d4-b706-be0aca435398 button');\n",
              "      quickchartButtonEl.style.display =\n",
              "        google.colab.kernel.accessAllowed ? 'block' : 'none';\n",
              "    })();\n",
              "  </script>\n",
              "</div>\n",
              "    </div>\n",
              "  </div>\n"
            ]
          },
          "metadata": {},
          "execution_count": 38
        }
      ],
      "source": [
        "# select multiple columns to display by putting in a list of column names\n",
        "df[['revenue', 'ebit', 'debt']]"
      ]
    },
    {
      "cell_type": "code",
      "execution_count": 47,
      "metadata": {
        "id": "ZZ346K6618ZY",
        "colab": {
          "base_uri": "https://localhost:8080/"
        },
        "outputId": "18910b1b-ed1a-4b5b-ec11-71dfd3fdd266"
      },
      "outputs": [
        {
          "output_type": "execute_result",
          "data": {
            "text/plain": [
              "revenue    float64\n",
              "ebit       float64\n",
              "debt       float64\n",
              "dtype: object"
            ]
          },
          "metadata": {},
          "execution_count": 47
        }
      ],
      "source": [
        "# display the type of the columns you selected\n",
        "df[['revenue', 'ebit', 'debt']].dtypes"
      ]
    },
    {
      "cell_type": "markdown",
      "metadata": {
        "id": "Q_beJD_l18ZZ"
      },
      "source": [
        "**IV. Creating a New Column of Data**\n",
        "\n",
        "We can create a new column in a dataframe using the assignment operator. Like most programming languages, the assignment operator is just the equal sign: `=`. For example, we might be interested in how Amazon's capital structure changes over time. Therefore, let's create a debt to assets (measured by `mktcap`) ratio. This ratio is called leverage\n",
        "\n",
        "Note (1): mathematical operations such as addition (+), subtraction (-), multiplication (*), or division (/) are all element by element operations between the dataframe columns that are referenced.\n",
        "\n",
        "**1pt (1/2 for each: new column, half for drop column)**"
      ]
    },
    {
      "cell_type": "code",
      "execution_count": 57,
      "metadata": {
        "id": "prBoD5Ry18ZZ"
      },
      "outputs": [],
      "source": [
        "# create a new column called leverage that is the ratio of debt to assets (mktcap)\n",
        "df['leverage'] = df['debt'] / df['mktcap']"
      ]
    },
    {
      "cell_type": "markdown",
      "metadata": {
        "id": "YPRgCA_518ZZ"
      },
      "source": [
        "Note (2): mathematical operations between scalars and columns operate analogously. For example,\n",
        "```python\n",
        "df['leverage']*100\n",
        "```\n",
        "would multiply every element in the leverage column by 100."
      ]
    },
    {
      "cell_type": "markdown",
      "metadata": {
        "id": "0oG8vkOM18ZZ"
      },
      "source": [
        "**Deleting a Variable/Column of Data**"
      ]
    },
    {
      "cell_type": "code",
      "execution_count": 58,
      "metadata": {
        "id": "0FyG26Uz18ZZ",
        "colab": {
          "base_uri": "https://localhost:8080/",
          "height": 739
        },
        "outputId": "e4e09bcd-56bf-4dbe-c4e7-27da0c8634ee"
      },
      "outputs": [
        {
          "output_type": "execute_result",
          "data": {
            "text/plain": [
              "    year     revenue       ebit       capx       debt         mktcap  leverage\n",
              "0   1998     609.996   -104.388     28.333    348.140   16950.113750  0.020539\n",
              "1   1999    1639.839   -597.683    287.055   1466.338   25942.410375  0.056523\n",
              "2   2000    2761.983   -663.569    134.758   2127.464    5557.991250  0.382776\n",
              "3   2001    3122.433   -230.672     50.321   2156.133    4038.218760  0.533932\n",
              "4   2002    3932.936    105.697     39.163   2245.691    7327.544340  0.306473\n",
              "5   2003    5263.699    270.735     45.963   1925.373   21224.487480  0.090715\n",
              "6   2004    6921.124    431.378     89.133   1847.397   18146.100190  0.101807\n",
              "7   2005    8490.000    465.000    204.000   1521.000   19614.400000  0.077545\n",
              "8   2006   10711.000    409.000    216.000   1267.000   16336.440000  0.077557\n",
              "9   2007   14835.000    655.000    224.000   1344.000   38538.240000  0.034874\n",
              "10  2008   19166.000    789.000    333.000    533.000   21947.840000  0.024285\n",
              "11  2009   24509.000   1183.000    373.000    252.000   59726.880000  0.004219\n",
              "12  2010   34204.000   1407.000    979.000    641.000   81180.000000  0.007896\n",
              "13  2011   48077.000    867.000   1811.000   1415.000   78760.504550  0.017966\n",
              "14  2012   61093.000    672.000   3785.000   3830.000  113894.980000  0.033627\n",
              "15  2013   74452.000    691.000   3444.000   5181.000  183044.614590  0.028305\n",
              "16  2014   88988.000    130.000   4893.000  12489.000  144121.579044  0.086656\n",
              "17  2015  107006.000   2176.000   4589.000  14183.000  318344.194710  0.044552\n",
              "18  2016  135987.000   4066.000   6737.000  15213.000  357687.990000  0.042531\n",
              "19  2017  177866.000   3954.000  11955.000  37926.000  563534.833384  0.067300\n",
              "20  2018  232887.000  12242.000  13427.000  39787.000  734416.754261  0.054175\n",
              "21  2019  280522.000  14177.000  16861.000  63205.000  920224.305060  0.068684"
            ],
            "text/html": [
              "\n",
              "  <div id=\"df-172e7d7b-d1e2-4858-bb6b-3dfcd7457183\" class=\"colab-df-container\">\n",
              "    <div>\n",
              "<style scoped>\n",
              "    .dataframe tbody tr th:only-of-type {\n",
              "        vertical-align: middle;\n",
              "    }\n",
              "\n",
              "    .dataframe tbody tr th {\n",
              "        vertical-align: top;\n",
              "    }\n",
              "\n",
              "    .dataframe thead th {\n",
              "        text-align: right;\n",
              "    }\n",
              "</style>\n",
              "<table border=\"1\" class=\"dataframe\">\n",
              "  <thead>\n",
              "    <tr style=\"text-align: right;\">\n",
              "      <th></th>\n",
              "      <th>year</th>\n",
              "      <th>revenue</th>\n",
              "      <th>ebit</th>\n",
              "      <th>capx</th>\n",
              "      <th>debt</th>\n",
              "      <th>mktcap</th>\n",
              "      <th>leverage</th>\n",
              "    </tr>\n",
              "  </thead>\n",
              "  <tbody>\n",
              "    <tr>\n",
              "      <th>0</th>\n",
              "      <td>1998</td>\n",
              "      <td>609.996</td>\n",
              "      <td>-104.388</td>\n",
              "      <td>28.333</td>\n",
              "      <td>348.140</td>\n",
              "      <td>16950.113750</td>\n",
              "      <td>0.020539</td>\n",
              "    </tr>\n",
              "    <tr>\n",
              "      <th>1</th>\n",
              "      <td>1999</td>\n",
              "      <td>1639.839</td>\n",
              "      <td>-597.683</td>\n",
              "      <td>287.055</td>\n",
              "      <td>1466.338</td>\n",
              "      <td>25942.410375</td>\n",
              "      <td>0.056523</td>\n",
              "    </tr>\n",
              "    <tr>\n",
              "      <th>2</th>\n",
              "      <td>2000</td>\n",
              "      <td>2761.983</td>\n",
              "      <td>-663.569</td>\n",
              "      <td>134.758</td>\n",
              "      <td>2127.464</td>\n",
              "      <td>5557.991250</td>\n",
              "      <td>0.382776</td>\n",
              "    </tr>\n",
              "    <tr>\n",
              "      <th>3</th>\n",
              "      <td>2001</td>\n",
              "      <td>3122.433</td>\n",
              "      <td>-230.672</td>\n",
              "      <td>50.321</td>\n",
              "      <td>2156.133</td>\n",
              "      <td>4038.218760</td>\n",
              "      <td>0.533932</td>\n",
              "    </tr>\n",
              "    <tr>\n",
              "      <th>4</th>\n",
              "      <td>2002</td>\n",
              "      <td>3932.936</td>\n",
              "      <td>105.697</td>\n",
              "      <td>39.163</td>\n",
              "      <td>2245.691</td>\n",
              "      <td>7327.544340</td>\n",
              "      <td>0.306473</td>\n",
              "    </tr>\n",
              "    <tr>\n",
              "      <th>5</th>\n",
              "      <td>2003</td>\n",
              "      <td>5263.699</td>\n",
              "      <td>270.735</td>\n",
              "      <td>45.963</td>\n",
              "      <td>1925.373</td>\n",
              "      <td>21224.487480</td>\n",
              "      <td>0.090715</td>\n",
              "    </tr>\n",
              "    <tr>\n",
              "      <th>6</th>\n",
              "      <td>2004</td>\n",
              "      <td>6921.124</td>\n",
              "      <td>431.378</td>\n",
              "      <td>89.133</td>\n",
              "      <td>1847.397</td>\n",
              "      <td>18146.100190</td>\n",
              "      <td>0.101807</td>\n",
              "    </tr>\n",
              "    <tr>\n",
              "      <th>7</th>\n",
              "      <td>2005</td>\n",
              "      <td>8490.000</td>\n",
              "      <td>465.000</td>\n",
              "      <td>204.000</td>\n",
              "      <td>1521.000</td>\n",
              "      <td>19614.400000</td>\n",
              "      <td>0.077545</td>\n",
              "    </tr>\n",
              "    <tr>\n",
              "      <th>8</th>\n",
              "      <td>2006</td>\n",
              "      <td>10711.000</td>\n",
              "      <td>409.000</td>\n",
              "      <td>216.000</td>\n",
              "      <td>1267.000</td>\n",
              "      <td>16336.440000</td>\n",
              "      <td>0.077557</td>\n",
              "    </tr>\n",
              "    <tr>\n",
              "      <th>9</th>\n",
              "      <td>2007</td>\n",
              "      <td>14835.000</td>\n",
              "      <td>655.000</td>\n",
              "      <td>224.000</td>\n",
              "      <td>1344.000</td>\n",
              "      <td>38538.240000</td>\n",
              "      <td>0.034874</td>\n",
              "    </tr>\n",
              "    <tr>\n",
              "      <th>10</th>\n",
              "      <td>2008</td>\n",
              "      <td>19166.000</td>\n",
              "      <td>789.000</td>\n",
              "      <td>333.000</td>\n",
              "      <td>533.000</td>\n",
              "      <td>21947.840000</td>\n",
              "      <td>0.024285</td>\n",
              "    </tr>\n",
              "    <tr>\n",
              "      <th>11</th>\n",
              "      <td>2009</td>\n",
              "      <td>24509.000</td>\n",
              "      <td>1183.000</td>\n",
              "      <td>373.000</td>\n",
              "      <td>252.000</td>\n",
              "      <td>59726.880000</td>\n",
              "      <td>0.004219</td>\n",
              "    </tr>\n",
              "    <tr>\n",
              "      <th>12</th>\n",
              "      <td>2010</td>\n",
              "      <td>34204.000</td>\n",
              "      <td>1407.000</td>\n",
              "      <td>979.000</td>\n",
              "      <td>641.000</td>\n",
              "      <td>81180.000000</td>\n",
              "      <td>0.007896</td>\n",
              "    </tr>\n",
              "    <tr>\n",
              "      <th>13</th>\n",
              "      <td>2011</td>\n",
              "      <td>48077.000</td>\n",
              "      <td>867.000</td>\n",
              "      <td>1811.000</td>\n",
              "      <td>1415.000</td>\n",
              "      <td>78760.504550</td>\n",
              "      <td>0.017966</td>\n",
              "    </tr>\n",
              "    <tr>\n",
              "      <th>14</th>\n",
              "      <td>2012</td>\n",
              "      <td>61093.000</td>\n",
              "      <td>672.000</td>\n",
              "      <td>3785.000</td>\n",
              "      <td>3830.000</td>\n",
              "      <td>113894.980000</td>\n",
              "      <td>0.033627</td>\n",
              "    </tr>\n",
              "    <tr>\n",
              "      <th>15</th>\n",
              "      <td>2013</td>\n",
              "      <td>74452.000</td>\n",
              "      <td>691.000</td>\n",
              "      <td>3444.000</td>\n",
              "      <td>5181.000</td>\n",
              "      <td>183044.614590</td>\n",
              "      <td>0.028305</td>\n",
              "    </tr>\n",
              "    <tr>\n",
              "      <th>16</th>\n",
              "      <td>2014</td>\n",
              "      <td>88988.000</td>\n",
              "      <td>130.000</td>\n",
              "      <td>4893.000</td>\n",
              "      <td>12489.000</td>\n",
              "      <td>144121.579044</td>\n",
              "      <td>0.086656</td>\n",
              "    </tr>\n",
              "    <tr>\n",
              "      <th>17</th>\n",
              "      <td>2015</td>\n",
              "      <td>107006.000</td>\n",
              "      <td>2176.000</td>\n",
              "      <td>4589.000</td>\n",
              "      <td>14183.000</td>\n",
              "      <td>318344.194710</td>\n",
              "      <td>0.044552</td>\n",
              "    </tr>\n",
              "    <tr>\n",
              "      <th>18</th>\n",
              "      <td>2016</td>\n",
              "      <td>135987.000</td>\n",
              "      <td>4066.000</td>\n",
              "      <td>6737.000</td>\n",
              "      <td>15213.000</td>\n",
              "      <td>357687.990000</td>\n",
              "      <td>0.042531</td>\n",
              "    </tr>\n",
              "    <tr>\n",
              "      <th>19</th>\n",
              "      <td>2017</td>\n",
              "      <td>177866.000</td>\n",
              "      <td>3954.000</td>\n",
              "      <td>11955.000</td>\n",
              "      <td>37926.000</td>\n",
              "      <td>563534.833384</td>\n",
              "      <td>0.067300</td>\n",
              "    </tr>\n",
              "    <tr>\n",
              "      <th>20</th>\n",
              "      <td>2018</td>\n",
              "      <td>232887.000</td>\n",
              "      <td>12242.000</td>\n",
              "      <td>13427.000</td>\n",
              "      <td>39787.000</td>\n",
              "      <td>734416.754261</td>\n",
              "      <td>0.054175</td>\n",
              "    </tr>\n",
              "    <tr>\n",
              "      <th>21</th>\n",
              "      <td>2019</td>\n",
              "      <td>280522.000</td>\n",
              "      <td>14177.000</td>\n",
              "      <td>16861.000</td>\n",
              "      <td>63205.000</td>\n",
              "      <td>920224.305060</td>\n",
              "      <td>0.068684</td>\n",
              "    </tr>\n",
              "  </tbody>\n",
              "</table>\n",
              "</div>\n",
              "    <div class=\"colab-df-buttons\">\n",
              "\n",
              "  <div class=\"colab-df-container\">\n",
              "    <button class=\"colab-df-convert\" onclick=\"convertToInteractive('df-172e7d7b-d1e2-4858-bb6b-3dfcd7457183')\"\n",
              "            title=\"Convert this dataframe to an interactive table.\"\n",
              "            style=\"display:none;\">\n",
              "\n",
              "  <svg xmlns=\"http://www.w3.org/2000/svg\" height=\"24px\" viewBox=\"0 -960 960 960\">\n",
              "    <path d=\"M120-120v-720h720v720H120Zm60-500h600v-160H180v160Zm220 220h160v-160H400v160Zm0 220h160v-160H400v160ZM180-400h160v-160H180v160Zm440 0h160v-160H620v160ZM180-180h160v-160H180v160Zm440 0h160v-160H620v160Z\"/>\n",
              "  </svg>\n",
              "    </button>\n",
              "\n",
              "  <style>\n",
              "    .colab-df-container {\n",
              "      display:flex;\n",
              "      gap: 12px;\n",
              "    }\n",
              "\n",
              "    .colab-df-convert {\n",
              "      background-color: #E8F0FE;\n",
              "      border: none;\n",
              "      border-radius: 50%;\n",
              "      cursor: pointer;\n",
              "      display: none;\n",
              "      fill: #1967D2;\n",
              "      height: 32px;\n",
              "      padding: 0 0 0 0;\n",
              "      width: 32px;\n",
              "    }\n",
              "\n",
              "    .colab-df-convert:hover {\n",
              "      background-color: #E2EBFA;\n",
              "      box-shadow: 0px 1px 2px rgba(60, 64, 67, 0.3), 0px 1px 3px 1px rgba(60, 64, 67, 0.15);\n",
              "      fill: #174EA6;\n",
              "    }\n",
              "\n",
              "    .colab-df-buttons div {\n",
              "      margin-bottom: 4px;\n",
              "    }\n",
              "\n",
              "    [theme=dark] .colab-df-convert {\n",
              "      background-color: #3B4455;\n",
              "      fill: #D2E3FC;\n",
              "    }\n",
              "\n",
              "    [theme=dark] .colab-df-convert:hover {\n",
              "      background-color: #434B5C;\n",
              "      box-shadow: 0px 1px 3px 1px rgba(0, 0, 0, 0.15);\n",
              "      filter: drop-shadow(0px 1px 2px rgba(0, 0, 0, 0.3));\n",
              "      fill: #FFFFFF;\n",
              "    }\n",
              "  </style>\n",
              "\n",
              "    <script>\n",
              "      const buttonEl =\n",
              "        document.querySelector('#df-172e7d7b-d1e2-4858-bb6b-3dfcd7457183 button.colab-df-convert');\n",
              "      buttonEl.style.display =\n",
              "        google.colab.kernel.accessAllowed ? 'block' : 'none';\n",
              "\n",
              "      async function convertToInteractive(key) {\n",
              "        const element = document.querySelector('#df-172e7d7b-d1e2-4858-bb6b-3dfcd7457183');\n",
              "        const dataTable =\n",
              "          await google.colab.kernel.invokeFunction('convertToInteractive',\n",
              "                                                    [key], {});\n",
              "        if (!dataTable) return;\n",
              "\n",
              "        const docLinkHtml = 'Like what you see? Visit the ' +\n",
              "          '<a target=\"_blank\" href=https://colab.research.google.com/notebooks/data_table.ipynb>data table notebook</a>'\n",
              "          + ' to learn more about interactive tables.';\n",
              "        element.innerHTML = '';\n",
              "        dataTable['output_type'] = 'display_data';\n",
              "        await google.colab.output.renderOutput(dataTable, element);\n",
              "        const docLink = document.createElement('div');\n",
              "        docLink.innerHTML = docLinkHtml;\n",
              "        element.appendChild(docLink);\n",
              "      }\n",
              "    </script>\n",
              "  </div>\n",
              "\n",
              "\n",
              "<div id=\"df-305249c4-e843-472b-818c-0e73bc20dfef\">\n",
              "  <button class=\"colab-df-quickchart\" onclick=\"quickchart('df-305249c4-e843-472b-818c-0e73bc20dfef')\"\n",
              "            title=\"Suggest charts.\"\n",
              "            style=\"display:none;\">\n",
              "\n",
              "<svg xmlns=\"http://www.w3.org/2000/svg\" height=\"24px\"viewBox=\"0 0 24 24\"\n",
              "     width=\"24px\">\n",
              "    <g>\n",
              "        <path d=\"M19 3H5c-1.1 0-2 .9-2 2v14c0 1.1.9 2 2 2h14c1.1 0 2-.9 2-2V5c0-1.1-.9-2-2-2zM9 17H7v-7h2v7zm4 0h-2V7h2v10zm4 0h-2v-4h2v4z\"/>\n",
              "    </g>\n",
              "</svg>\n",
              "  </button>\n",
              "\n",
              "<style>\n",
              "  .colab-df-quickchart {\n",
              "      --bg-color: #E8F0FE;\n",
              "      --fill-color: #1967D2;\n",
              "      --hover-bg-color: #E2EBFA;\n",
              "      --hover-fill-color: #174EA6;\n",
              "      --disabled-fill-color: #AAA;\n",
              "      --disabled-bg-color: #DDD;\n",
              "  }\n",
              "\n",
              "  [theme=dark] .colab-df-quickchart {\n",
              "      --bg-color: #3B4455;\n",
              "      --fill-color: #D2E3FC;\n",
              "      --hover-bg-color: #434B5C;\n",
              "      --hover-fill-color: #FFFFFF;\n",
              "      --disabled-bg-color: #3B4455;\n",
              "      --disabled-fill-color: #666;\n",
              "  }\n",
              "\n",
              "  .colab-df-quickchart {\n",
              "    background-color: var(--bg-color);\n",
              "    border: none;\n",
              "    border-radius: 50%;\n",
              "    cursor: pointer;\n",
              "    display: none;\n",
              "    fill: var(--fill-color);\n",
              "    height: 32px;\n",
              "    padding: 0;\n",
              "    width: 32px;\n",
              "  }\n",
              "\n",
              "  .colab-df-quickchart:hover {\n",
              "    background-color: var(--hover-bg-color);\n",
              "    box-shadow: 0 1px 2px rgba(60, 64, 67, 0.3), 0 1px 3px 1px rgba(60, 64, 67, 0.15);\n",
              "    fill: var(--button-hover-fill-color);\n",
              "  }\n",
              "\n",
              "  .colab-df-quickchart-complete:disabled,\n",
              "  .colab-df-quickchart-complete:disabled:hover {\n",
              "    background-color: var(--disabled-bg-color);\n",
              "    fill: var(--disabled-fill-color);\n",
              "    box-shadow: none;\n",
              "  }\n",
              "\n",
              "  .colab-df-spinner {\n",
              "    border: 2px solid var(--fill-color);\n",
              "    border-color: transparent;\n",
              "    border-bottom-color: var(--fill-color);\n",
              "    animation:\n",
              "      spin 1s steps(1) infinite;\n",
              "  }\n",
              "\n",
              "  @keyframes spin {\n",
              "    0% {\n",
              "      border-color: transparent;\n",
              "      border-bottom-color: var(--fill-color);\n",
              "      border-left-color: var(--fill-color);\n",
              "    }\n",
              "    20% {\n",
              "      border-color: transparent;\n",
              "      border-left-color: var(--fill-color);\n",
              "      border-top-color: var(--fill-color);\n",
              "    }\n",
              "    30% {\n",
              "      border-color: transparent;\n",
              "      border-left-color: var(--fill-color);\n",
              "      border-top-color: var(--fill-color);\n",
              "      border-right-color: var(--fill-color);\n",
              "    }\n",
              "    40% {\n",
              "      border-color: transparent;\n",
              "      border-right-color: var(--fill-color);\n",
              "      border-top-color: var(--fill-color);\n",
              "    }\n",
              "    60% {\n",
              "      border-color: transparent;\n",
              "      border-right-color: var(--fill-color);\n",
              "    }\n",
              "    80% {\n",
              "      border-color: transparent;\n",
              "      border-right-color: var(--fill-color);\n",
              "      border-bottom-color: var(--fill-color);\n",
              "    }\n",
              "    90% {\n",
              "      border-color: transparent;\n",
              "      border-bottom-color: var(--fill-color);\n",
              "    }\n",
              "  }\n",
              "</style>\n",
              "\n",
              "  <script>\n",
              "    async function quickchart(key) {\n",
              "      const quickchartButtonEl =\n",
              "        document.querySelector('#' + key + ' button');\n",
              "      quickchartButtonEl.disabled = true;  // To prevent multiple clicks.\n",
              "      quickchartButtonEl.classList.add('colab-df-spinner');\n",
              "      try {\n",
              "        const charts = await google.colab.kernel.invokeFunction(\n",
              "            'suggestCharts', [key], {});\n",
              "      } catch (error) {\n",
              "        console.error('Error during call to suggestCharts:', error);\n",
              "      }\n",
              "      quickchartButtonEl.classList.remove('colab-df-spinner');\n",
              "      quickchartButtonEl.classList.add('colab-df-quickchart-complete');\n",
              "    }\n",
              "    (() => {\n",
              "      let quickchartButtonEl =\n",
              "        document.querySelector('#df-305249c4-e843-472b-818c-0e73bc20dfef button');\n",
              "      quickchartButtonEl.style.display =\n",
              "        google.colab.kernel.accessAllowed ? 'block' : 'none';\n",
              "    })();\n",
              "  </script>\n",
              "</div>\n",
              "    </div>\n",
              "  </div>\n"
            ]
          },
          "metadata": {},
          "execution_count": 58
        }
      ],
      "source": [
        "# delete the tick column with the drop method\n",
        "df.drop(columns = 'tick')"
      ]
    },
    {
      "cell_type": "markdown",
      "metadata": {
        "id": "Jqi5jtAJ18Za"
      },
      "source": [
        "Not the above command (`drop`), created a new `dataframe` with the `tick` column removed. Most `pandas` commands with operate this way. To modify the original `dataframe` df we have to assign the `dataframe` created by the drop command to `df`. Many dataframe methods have the argument inplace that you can set to `True` to overwrite the old dataframe with the new one:"
      ]
    },
    {
      "cell_type": "code",
      "execution_count": 59,
      "metadata": {
        "id": "XJtOf1jy18Za"
      },
      "outputs": [],
      "source": [
        "# save the new dataframe with the dropped column using one of the methods described above\n",
        "df.drop(columns = 'tick', inplace = True)"
      ]
    },
    {
      "cell_type": "markdown",
      "metadata": {
        "id": "yP1BJwnI18Za"
      },
      "source": [
        "**V. Power of Pandas**\n",
        "\n",
        "To show off how the high level nature of `Pandas` (how much you can accomplish with a few commands), let's create some plots.<br>\n",
        "**2pts**\n",
        "\n",
        "a) First, a simple plot of sales/revenue as a function of year"
      ]
    },
    {
      "cell_type": "code",
      "execution_count": 61,
      "metadata": {
        "id": "A6XKB7zc18Za",
        "colab": {
          "base_uri": "https://localhost:8080/",
          "height": 467
        },
        "outputId": "ea5327d2-a53a-4853-9c54-5d0293d64ff1"
      },
      "outputs": [
        {
          "output_type": "execute_result",
          "data": {
            "text/plain": [
              "<Axes: xlabel='year'>"
            ]
          },
          "metadata": {},
          "execution_count": 61
        },
        {
          "output_type": "display_data",
          "data": {
            "text/plain": [
              "<Figure size 640x480 with 1 Axes>"
            ],
            "image/png": "[encoded data removed]"
          },
          "metadata": {}
        }
      ],
      "source": [
        "%matplotlib inline\n",
        "\n",
        "df.plot(y = 'revenue', x = 'year')"
      ]
    },
    {
      "cell_type": "markdown",
      "metadata": {
        "id": "Jjsnjj8x18Za"
      },
      "source": [
        "Note, how the plotting function is called; we call it using the `.` operator:\n",
        "```\n",
        "df.plot(y='revenue',x='year')\n",
        "```\n",
        "The `.plot()` function is part of any dataframe; plotting is one of the dataframe object's attributes or to talk like a programmer, it's one of the object's methods.\n",
        "\n",
        "Back to plotting\n",
        "\n",
        "b) Let's still do revenue as a function of year but as a bar barplot."
      ]
    },
    {
      "cell_type": "code",
      "execution_count": 62,
      "metadata": {
        "id": "A8zD_z7y18Za",
        "colab": {
          "base_uri": "https://localhost:8080/",
          "height": 489
        },
        "outputId": "1d8f2adf-5d53-4554-a9e2-8ad5ad256eef"
      },
      "outputs": [
        {
          "output_type": "execute_result",
          "data": {
            "text/plain": [
              "<Axes: xlabel='year'>"
            ]
          },
          "metadata": {},
          "execution_count": 62
        },
        {
          "output_type": "display_data",
          "data": {
            "text/plain": [
              "<Figure size 640x480 with 1 Axes>"
            ],
            "image/png": "[encoded data removed]"
          },
          "metadata": {}
        }
      ],
      "source": [
        "# create a barplot of revenue on year\n",
        "df.plot.bar(x = 'year', y = 'revenue')"
      ]
    },
    {
      "cell_type": "markdown",
      "metadata": {
        "id": "GTv8bDTR18Za"
      },
      "source": [
        "c) Next, a plot of EBIT as a function of year as a barplot with a title"
      ]
    },
    {
      "cell_type": "code",
      "execution_count": 63,
      "metadata": {
        "id": "L5Aj3Nc818Za",
        "colab": {
          "base_uri": "https://localhost:8080/",
          "height": 511
        },
        "outputId": "e57fec0d-9549-44db-b047-be005076e38d"
      },
      "outputs": [
        {
          "output_type": "execute_result",
          "data": {
            "text/plain": [
              "<Axes: title={'center': \"Amazon's Earnings\"}, xlabel='year'>"
            ]
          },
          "metadata": {},
          "execution_count": 63
        },
        {
          "output_type": "display_data",
          "data": {
            "text/plain": [
              "<Figure size 640x480 with 1 Axes>"
            ],
            "image/png": "[encoded data removed]"
          },
          "metadata": {}
        }
      ],
      "source": [
        "# these are just some examples of things you can do\n",
        "df.plot.bar(y='ebit',x='year',title=\"Amazon's Earnings\",color='darkblue')"
      ]
    },
    {
      "cell_type": "markdown",
      "metadata": {
        "id": "s9CeiPF918Za"
      },
      "source": [
        "d) Finally, let's look at Amazon's leverage over time"
      ]
    },
    {
      "cell_type": "code",
      "execution_count": 64,
      "metadata": {
        "id": "kGnZH0rF18Za",
        "colab": {
          "base_uri": "https://localhost:8080/",
          "height": 511
        },
        "outputId": "31f98073-e805-4631-eba3-8b194c244434"
      },
      "outputs": [
        {
          "output_type": "execute_result",
          "data": {
            "text/plain": [
              "<Axes: title={'center': 'Leverage Over Time'}, xlabel='year'>"
            ]
          },
          "metadata": {},
          "execution_count": 64
        },
        {
          "output_type": "display_data",
          "data": {
            "text/plain": [
              "<Figure size 640x480 with 1 Axes>"
            ],
            "image/png": "[encoded data removed]"
          },
          "metadata": {}
        }
      ],
      "source": [
        "df.plot.bar(x = 'year', y = 'leverage', color = 'purple', title = 'Leverage Over Time')"
      ]
    },
    {
      "cell_type": "markdown",
      "metadata": {
        "id": "MmPu3c_k18Zb"
      },
      "source": []
    }
  ],
  "metadata": {
    "kernelspec": {
      "display_name": "Python 3",
      "language": "python",
      "name": "python3"
    },
    "language_info": {
      "codemirror_mode": {
        "name": "ipython",
        "version": 3
      },
      "file_extension": ".py",
      "mimetype": "text/x-python",
      "name": "python",
      "nbconvert_exporter": "python",
      "pygments_lexer": "ipython3",
      "version": "3.7.4"
    },
    "colab": {
      "provenance": [],
      "include_colab_link": true
    }
  },
  "nbformat": 4,
  "nbformat_minor": 0
}