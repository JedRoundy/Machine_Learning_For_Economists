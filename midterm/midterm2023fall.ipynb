{
  "nbformat": 4,
  "nbformat_minor": 0,
  "metadata": {
    "colab": {
      "provenance": [],
      "include_colab_link": true
    },
    "kernelspec": {
      "name": "python3",
      "display_name": "Python 3"
    }
  },
  "cells": [
    {
      "cell_type": "markdown",
      "metadata": {
        "id": "view-in-github",
        "colab_type": "text"
      },
      "source": [
        "<a href=\"https://colab.research.google.com/github/JedRoundy/Machine_Learning_For_Economists/blob/main/midterm/midterm2023fall.ipynb\" target=\"_parent\"><img src=\"https://colab.research.google.com/assets/colab-badge.svg\" alt=\"Open In Colab\"/></a>"
      ]
    },
    {
      "cell_type": "code",
      "metadata": {
        "id": "TzFDXTTnWM9c"
      },
      "source": [
        "import numpy as np\n",
        "np.random.seed(seed=484)\n",
        "import warnings\n",
        "warnings.filterwarnings('ignore')"
      ],
      "execution_count": 1,
      "outputs": []
    },
    {
      "cell_type": "markdown",
      "metadata": {
        "id": "-JYG5qnnWM9f"
      },
      "source": [
        "# Midterm Exam"
      ]
    },
    {
      "cell_type": "markdown",
      "metadata": {
        "id": "-YiFzYF2WM9g"
      },
      "source": [
        "Exam is open book, open note, and open Google. You are not allowed outside\n",
        "help from another person, however. All work, including coding, must be yours alone. Remember to turn in both the written portion and this coding portion. The coding portion can be turned in by submitting a shared link to your Colab notebook. To complete this coding portion, make sure to save a copy of this notebook in your own Google drive, supply the python code in the empty cells below, and execute the notebook. To get full credit, the completed notebook should be able to run top to bottom, producing the results asked for in the prompts below."
      ]
    },
    {
      "cell_type": "markdown",
      "metadata": {
        "id": "MkCjCsX9WM9g"
      },
      "source": [
        "This portion of the exam will take you through the steps of the supervised machine learning process."
      ]
    },
    {
      "cell_type": "markdown",
      "metadata": {
        "id": "UamL0RdiWM9h"
      },
      "source": [
        "## 1. Figure out your question"
      ]
    },
    {
      "cell_type": "markdown",
      "metadata": {
        "id": "LQ7P55DJWM9h"
      },
      "source": [
        "The question you want to answer is: How does childbearing impact labor market outcomes for women? We can use machine learning to help answer this question by building a model that predicts how many children a woman gives birth to on the basis of her characteristics."
      ]
    },
    {
      "cell_type": "markdown",
      "metadata": {
        "id": "A6zoctZZWM9h"
      },
      "source": [
        "## 2. Obtain a labeled dataset"
      ]
    },
    {
      "cell_type": "markdown",
      "metadata": {
        "id": "SdgfGHzYWM9i"
      },
      "source": [
        "Import the python library that is good for manipulating datasets:"
      ]
    },
    {
      "cell_type": "code",
      "metadata": {
        "id": "y3wmGngUWM9i"
      },
      "source": [
        "import pandas as pd"
      ],
      "execution_count": 2,
      "outputs": []
    },
    {
      "cell_type": "markdown",
      "metadata": {
        "id": "AwWVnmc_WM9k"
      },
      "source": [
        "Accompanying the exam materials are a spreadsheet of female survey respondents, 'femalelaborsupply.csv' and a text file, 'femalelaborsupplydefs.txt' that explains each variable in the spreadsheet. Read in the data in the spreadsheet 'femalelaborsupply.csv', print out the first few rows of data with the variable names, and print out the number of observations and variables in the dataset:"
      ]
    },
    {
      "cell_type": "code",
      "metadata": {
        "id": "Fer02-GdWM9k",
        "colab": {
          "base_uri": "https://localhost:8080/"
        },
        "outputId": "70607d93-bbe3-403b-fd66-a1669b6a6481"
      },
      "source": [
        "fls = pd.read_csv('https://www.dropbox.com/s/r5ahpsb6kt63fw3/femalelaborsupply.csv?dl=1')\n",
        "\n",
        "print(fls.head())\n",
        "print('\\n')\n",
        "print(f'Number of observations: {len(fls)}')\n",
        "print(f'Number of variables in dataset: {len(fls.columns)}')\n"
      ],
      "execution_count": 3,
      "outputs": [
        {
          "output_type": "stream",
          "name": "stdout",
          "text": [
            "   asex  aage  aqtrbrth  ageqk  asex2nd  aage2nd  ageq2nd  ageq3rd  kidcount  \\\n",
            "0     0     0         0     36        0        0       30      NaN         2   \n",
            "1     0     0         0     23        0        0        9      NaN         2   \n",
            "2     0     0         0     44        0        0       22      NaN         2   \n",
            "3     0     0         0     24        0        0       12      NaN         2   \n",
            "4     0     0         0     28        0        0       14      NaN         2   \n",
            "\n",
            "   agem  ...  hourswm    incomed    incomem    faminc1    famincl     nonmomi  \\\n",
            "0    27  ...        0  33597.273      0.000  33597.273  10.422200  33597.2730   \n",
            "1    25  ...       38        NaN  18273.307  21642.479   9.982413   3369.1726   \n",
            "2    30  ...       40  20834.297  18903.059  43326.941  10.676530  24423.8830   \n",
            "3    27  ...        0  30658.430      0.000  30658.430  10.330663  30658.4300   \n",
            "4    35  ...        0  44450.000      0.000  44450.000  10.702120  44450.0000   \n",
            "\n",
            "    nonmomil  qobm  const  msample  \n",
            "0  10.422200     2      1        1  \n",
            "1   8.122422     3      1        0  \n",
            "2  10.103316     4      1        1  \n",
            "3  10.330663     3      1        1  \n",
            "4  10.702120     1      1        1  \n",
            "\n",
            "[5 rows x 49 columns]\n",
            "\n",
            "\n",
            "Number of observations: 394840\n",
            "Number of variables in dataset: 49\n"
          ]
        }
      ]
    },
    {
      "cell_type": "markdown",
      "metadata": {
        "id": "SQnjWhASWM9m"
      },
      "source": [
        "Define a label (outcome) vector, $y_1$, to be how many children the woman has, another outcome vector, $y_2$ to be an indicator for having three or more children, and define a feature (regressor) matrix, $X$, to contain the mother's age, marital status, race, ethnicity, and education:"
      ]
    },
    {
      "cell_type": "code",
      "metadata": {
        "id": "GMpxIqiHWM9m"
      },
      "source": [
        "y1 = fls['kidcount']\n",
        "y2 = fls['morekids']\n",
        "X = fls[['agem1', 'marital', 'blackm', 'hispm', 'othracem', 'educm', 'hsgrad', 'hsormore', 'moreths']]\n",
        "\n",
        "#create variables for regression style\n",
        "X['Married w/ Spouse'] = [1 if x == 0 else 0 for x in X['marital']]\n",
        "X['Married w/o Spouse'] = [1 if x == 1 else 0 for x in X['marital']]\n",
        "X['Separated'] = [1 if x == 2 else 0 for x in X['marital']]\n",
        "X['Divorced'] = [1 if x == 3 else 0 for x in X['marital']]\n",
        "X['Widowed'] = [1 if x == 4 else 0 for x in X['marital']]\n",
        "\n",
        "#Remove marital to avoid perfect collinearity\n",
        "X.drop('marital', axis = 1, inplace = True)\n"
      ],
      "execution_count": 4,
      "outputs": []
    },
    {
      "cell_type": "markdown",
      "metadata": {
        "id": "4OEvMdp-Xj6m"
      },
      "source": [
        "\"Pre-process\" your features, $X$, by standardizing them to have zero mean and unit variance. Hint: you may import a useful package to do this."
      ]
    },
    {
      "cell_type": "code",
      "metadata": {
        "id": "rNiZolJcXv6C"
      },
      "source": [
        "#preproccess features\n",
        "\n",
        "from sklearn.preprocessing import StandardScaler\n",
        "\n",
        "scaler = StandardScaler()\n",
        "scaler.fit(X)\n",
        "X = scaler.transform(X)\n"
      ],
      "execution_count": 5,
      "outputs": []
    },
    {
      "cell_type": "markdown",
      "metadata": {
        "id": "cSuEbRMKWM9o"
      },
      "source": [
        "## 3. Divide into training and set sets"
      ]
    },
    {
      "cell_type": "markdown",
      "metadata": {
        "id": "mi-dbFQyWM9o"
      },
      "source": [
        "Import the python library that is good for randomly splitting datasets into training and test sets:"
      ]
    },
    {
      "cell_type": "code",
      "metadata": {
        "id": "cpTtWuWsWM9p"
      },
      "source": [
        "from sklearn.model_selection import train_test_split\n",
        "\n"
      ],
      "execution_count": 6,
      "outputs": []
    },
    {
      "cell_type": "markdown",
      "metadata": {
        "id": "Qw5tGzFUWM9r"
      },
      "source": [
        "Now make a training and test feature matrix and a training and test label vectors $y_1$ and $y_2$:"
      ]
    },
    {
      "cell_type": "code",
      "metadata": {
        "id": "im4z_YPAWM9r"
      },
      "source": [
        "#create training and testing sets\n",
        "X_train, X_test, y1_train, y1_test, y2_train, y2_test = train_test_split(X, y1, y2, random_state = 0)"
      ],
      "execution_count": 7,
      "outputs": []
    },
    {
      "cell_type": "markdown",
      "metadata": {
        "id": "FzVMOGgrWM9t"
      },
      "source": [
        "## 4. Pick an appropriate method"
      ]
    },
    {
      "cell_type": "markdown",
      "metadata": {
        "id": "VbrMr8KFWM9t"
      },
      "source": [
        "Choose a method appropriate for classification and import its library:"
      ]
    },
    {
      "cell_type": "code",
      "metadata": {
        "id": "g0rbHexoWM9u"
      },
      "source": [
        "from sklearn.ensemble import RandomForestClassifier"
      ],
      "execution_count": 8,
      "outputs": []
    },
    {
      "cell_type": "markdown",
      "metadata": {
        "id": "tI0muOgJWM9y"
      },
      "source": [
        "## 5 and 6. Choose regularization parameters via cross-validation on the training set and fit model on the whole training set using the cross-validated parameters\n",
        "\n",
        "The outcome you should use in this part is $y_2$, the indicator for having at least three kids"
      ]
    },
    {
      "cell_type": "markdown",
      "metadata": {
        "id": "JT5ASK5pWM9y"
      },
      "source": [
        "Search over a grid of values of the regularization parameters for the parameters that perform the best on the left-out folds:"
      ]
    },
    {
      "cell_type": "code",
      "metadata": {
        "id": "N2Cm_rNVWM9y",
        "outputId": "c336d477-53f2-4f0a-ea4c-e922ba8dfe0f",
        "colab": {
          "base_uri": "https://localhost:8080/",
          "height": 412
        }
      },
      "source": [
        "#I spent a lot of time waiting for this to run when I included n_estimators as a param.\n",
        "#For your convenience, I've eliminated it from the grid search after determining it doesn't make much of a difference after 100.\n",
        "#Actually, nothing made much of a difference. It can reliably predict 63% of the observations.\n",
        "\n",
        "from sklearn.model_selection import GridSearchCV\n",
        "params_class = {'min_samples_split': [100, 200, 300, 400, 500]}\n",
        "\n",
        "rfc = RandomForestClassifier()\n",
        "\n",
        "model_class = GridSearchCV(estimator = rfc, param_grid = params_class, cv = 3, verbose = 2)\n",
        "\n",
        "model_class.fit(X_train, y2_train)\n",
        "\n"
      ],
      "execution_count": 9,
      "outputs": [
        {
          "output_type": "stream",
          "name": "stdout",
          "text": [
            "Fitting 3 folds for each of 5 candidates, totalling 15 fits\n",
            "[CV] END ..............................min_samples_split=100; total time=  17.9s\n",
            "[CV] END ..............................min_samples_split=100; total time=  12.1s\n",
            "[CV] END ..............................min_samples_split=100; total time=  12.1s\n",
            "[CV] END ..............................min_samples_split=200; total time=  12.2s\n",
            "[CV] END ..............................min_samples_split=200; total time=  13.7s\n",
            "[CV] END ..............................min_samples_split=200; total time=  23.7s\n",
            "[CV] END ..............................min_samples_split=300; total time=  21.5s\n",
            "[CV] END ..............................min_samples_split=300; total time=  12.5s\n",
            "[CV] END ..............................min_samples_split=300; total time=  12.3s\n",
            "[CV] END ..............................min_samples_split=400; total time=  11.4s\n",
            "[CV] END ..............................min_samples_split=400; total time=  11.3s\n",
            "[CV] END ..............................min_samples_split=400; total time=  11.6s\n",
            "[CV] END ..............................min_samples_split=500; total time=  11.5s\n",
            "[CV] END ..............................min_samples_split=500; total time=  11.3s\n",
            "[CV] END ..............................min_samples_split=500; total time=  12.7s\n"
          ]
        },
        {
          "output_type": "execute_result",
          "data": {
            "text/plain": [
              "GridSearchCV(cv=3, estimator=RandomForestClassifier(),\n",
              "             param_grid={'min_samples_split': [100, 200, 300, 400, 500]},\n",
              "             verbose=2)"
            ],
            "text/html": [
              "<style>#sk-container-id-1 {color: black;background-color: white;}#sk-container-id-1 pre{padding: 0;}#sk-container-id-1 div.sk-toggleable {background-color: white;}#sk-container-id-1 label.sk-toggleable__label {cursor: pointer;display: block;width: 100%;margin-bottom: 0;padding: 0.3em;box-sizing: border-box;text-align: center;}#sk-container-id-1 label.sk-toggleable__label-arrow:before {content: \"▸\";float: left;margin-right: 0.25em;color: #696969;}#sk-container-id-1 label.sk-toggleable__label-arrow:hover:before {color: black;}#sk-container-id-1 div.sk-estimator:hover label.sk-toggleable__label-arrow:before {color: black;}#sk-container-id-1 div.sk-toggleable__content {max-height: 0;max-width: 0;overflow: hidden;text-align: left;background-color: #f0f8ff;}#sk-container-id-1 div.sk-toggleable__content pre {margin: 0.2em;color: black;border-radius: 0.25em;background-color: #f0f8ff;}#sk-container-id-1 input.sk-toggleable__control:checked~div.sk-toggleable__content {max-height: 200px;max-width: 100%;overflow: auto;}#sk-container-id-1 input.sk-toggleable__control:checked~label.sk-toggleable__label-arrow:before {content: \"▾\";}#sk-container-id-1 div.sk-estimator input.sk-toggleable__control:checked~label.sk-toggleable__label {background-color: #d4ebff;}#sk-container-id-1 div.sk-label input.sk-toggleable__control:checked~label.sk-toggleable__label {background-color: #d4ebff;}#sk-container-id-1 input.sk-hidden--visually {border: 0;clip: rect(1px 1px 1px 1px);clip: rect(1px, 1px, 1px, 1px);height: 1px;margin: -1px;overflow: hidden;padding: 0;position: absolute;width: 1px;}#sk-container-id-1 div.sk-estimator {font-family: monospace;background-color: #f0f8ff;border: 1px dotted black;border-radius: 0.25em;box-sizing: border-box;margin-bottom: 0.5em;}#sk-container-id-1 div.sk-estimator:hover {background-color: #d4ebff;}#sk-container-id-1 div.sk-parallel-item::after {content: \"\";width: 100%;border-bottom: 1px solid gray;flex-grow: 1;}#sk-container-id-1 div.sk-label:hover label.sk-toggleable__label {background-color: #d4ebff;}#sk-container-id-1 div.sk-serial::before {content: \"\";position: absolute;border-left: 1px solid gray;box-sizing: border-box;top: 0;bottom: 0;left: 50%;z-index: 0;}#sk-container-id-1 div.sk-serial {display: flex;flex-direction: column;align-items: center;background-color: white;padding-right: 0.2em;padding-left: 0.2em;position: relative;}#sk-container-id-1 div.sk-item {position: relative;z-index: 1;}#sk-container-id-1 div.sk-parallel {display: flex;align-items: stretch;justify-content: center;background-color: white;position: relative;}#sk-container-id-1 div.sk-item::before, #sk-container-id-1 div.sk-parallel-item::before {content: \"\";position: absolute;border-left: 1px solid gray;box-sizing: border-box;top: 0;bottom: 0;left: 50%;z-index: -1;}#sk-container-id-1 div.sk-parallel-item {display: flex;flex-direction: column;z-index: 1;position: relative;background-color: white;}#sk-container-id-1 div.sk-parallel-item:first-child::after {align-self: flex-end;width: 50%;}#sk-container-id-1 div.sk-parallel-item:last-child::after {align-self: flex-start;width: 50%;}#sk-container-id-1 div.sk-parallel-item:only-child::after {width: 0;}#sk-container-id-1 div.sk-dashed-wrapped {border: 1px dashed gray;margin: 0 0.4em 0.5em 0.4em;box-sizing: border-box;padding-bottom: 0.4em;background-color: white;}#sk-container-id-1 div.sk-label label {font-family: monospace;font-weight: bold;display: inline-block;line-height: 1.2em;}#sk-container-id-1 div.sk-label-container {text-align: center;}#sk-container-id-1 div.sk-container {/* jupyter's `normalize.less` sets `[hidden] { display: none; }` but bootstrap.min.css set `[hidden] { display: none !important; }` so we also need the `!important` here to be able to override the default hidden behavior on the sphinx rendered scikit-learn.org. See: https://github.com/scikit-learn/scikit-learn/issues/21755 */display: inline-block !important;position: relative;}#sk-container-id-1 div.sk-text-repr-fallback {display: none;}</style><div id=\"sk-container-id-1\" class=\"sk-top-container\"><div class=\"sk-text-repr-fallback\"><pre>GridSearchCV(cv=3, estimator=RandomForestClassifier(),\n",
              "             param_grid={&#x27;min_samples_split&#x27;: [100, 200, 300, 400, 500]},\n",
              "             verbose=2)</pre><b>In a Jupyter environment, please rerun this cell to show the HTML representation or trust the notebook. <br />On GitHub, the HTML representation is unable to render, please try loading this page with nbviewer.org.</b></div><div class=\"sk-container\" hidden><div class=\"sk-item sk-dashed-wrapped\"><div class=\"sk-label-container\"><div class=\"sk-label sk-toggleable\"><input class=\"sk-toggleable__control sk-hidden--visually\" id=\"sk-estimator-id-1\" type=\"checkbox\" ><label for=\"sk-estimator-id-1\" class=\"sk-toggleable__label sk-toggleable__label-arrow\">GridSearchCV</label><div class=\"sk-toggleable__content\"><pre>GridSearchCV(cv=3, estimator=RandomForestClassifier(),\n",
              "             param_grid={&#x27;min_samples_split&#x27;: [100, 200, 300, 400, 500]},\n",
              "             verbose=2)</pre></div></div></div><div class=\"sk-parallel\"><div class=\"sk-parallel-item\"><div class=\"sk-item\"><div class=\"sk-label-container\"><div class=\"sk-label sk-toggleable\"><input class=\"sk-toggleable__control sk-hidden--visually\" id=\"sk-estimator-id-2\" type=\"checkbox\" ><label for=\"sk-estimator-id-2\" class=\"sk-toggleable__label sk-toggleable__label-arrow\">estimator: RandomForestClassifier</label><div class=\"sk-toggleable__content\"><pre>RandomForestClassifier()</pre></div></div></div><div class=\"sk-serial\"><div class=\"sk-item\"><div class=\"sk-estimator sk-toggleable\"><input class=\"sk-toggleable__control sk-hidden--visually\" id=\"sk-estimator-id-3\" type=\"checkbox\" ><label for=\"sk-estimator-id-3\" class=\"sk-toggleable__label sk-toggleable__label-arrow\">RandomForestClassifier</label><div class=\"sk-toggleable__content\"><pre>RandomForestClassifier()</pre></div></div></div></div></div></div></div></div></div></div>"
            ]
          },
          "metadata": {},
          "execution_count": 9
        }
      ]
    },
    {
      "cell_type": "markdown",
      "metadata": {
        "id": "0Qg1nZnpWM92"
      },
      "source": [
        "## 7. Evaluate model by applying it to test set"
      ]
    },
    {
      "cell_type": "markdown",
      "metadata": {
        "id": "OA7l42zLWM92"
      },
      "source": [
        "Compute and print out the \"score\" of the model applied to the test set:"
      ]
    },
    {
      "cell_type": "code",
      "metadata": {
        "id": "I-LocbNpWM92",
        "outputId": "2e03b3fb-7c13-4e2b-d295-5434a8ccc90e",
        "colab": {
          "base_uri": "https://localhost:8080/"
        }
      },
      "source": [
        "score = model_class.score(X_test, y2_test)\n",
        "\n",
        "print(f'Best Random Forest Estimate: {score}')"
      ],
      "execution_count": 10,
      "outputs": [
        {
          "output_type": "stream",
          "name": "stdout",
          "text": [
            "Best Random Forest Estimate: 0.6330868199777125\n"
          ]
        }
      ]
    },
    {
      "cell_type": "markdown",
      "metadata": {
        "id": "U2fXVbgRWM94"
      },
      "source": [
        "## 8. Repeat 4-7 for $y_1$\n",
        "using a method appropriate for regression-style prediction to predict number of children, not the probability of having at least three children"
      ]
    },
    {
      "cell_type": "markdown",
      "metadata": {
        "id": "-yHi6UvEWM95"
      },
      "source": [
        "Import the method's library, do cross validation to find tuning parameters, fit the model on the training data using the cross-validated tuning parameters, and compute (and report) the model's score on the test set:"
      ]
    },
    {
      "cell_type": "code",
      "metadata": {
        "id": "sQbfbPeqWM95",
        "outputId": "3ad873e4-eeab-4bd3-a918-7a1b9ff013e5",
        "colab": {
          "base_uri": "https://localhost:8080/"
        }
      },
      "source": [
        "from sklearn.linear_model import Lasso, Ridge\n",
        "\n",
        "#set up parameters for grid search\n",
        "params_regress = {'alpha': [.01, .05, .1, .3, .5, .7, .9, 1]}\n",
        "\n",
        "#create lasso object\n",
        "lasso = Lasso()\n",
        "\n",
        "#run grid search with 5 fold cv\n",
        "model_regress = GridSearchCV(estimator = lasso, param_grid = params_regress, cv = 5, verbose = 1)\n",
        "\n",
        "#fit the model to the data\n",
        "model_regress.fit(X_train, y1_train)\n",
        "\n",
        "#print regression score\n",
        "print(f'Lasso score: {model_regress.score(X_test, y1_test)}')\n",
        "\n",
        "this_dict = {'Test Vals': y1_test, 'Predicted Vals': model_regress.predict(X_test)}\n",
        "\n",
        "prediction = pd.DataFrame(this_dict)\n"
      ],
      "execution_count": 12,
      "outputs": [
        {
          "output_type": "stream",
          "name": "stdout",
          "text": [
            "Fitting 5 folds for each of 8 candidates, totalling 40 fits\n",
            "Lasso score: 0.08648737719923594\n"
          ]
        }
      ]
    },
    {
      "cell_type": "markdown",
      "metadata": {
        "id": "rhyyawznWM96"
      },
      "source": [
        "## 9. Apply the prediction  models to new observations for which we have no labels"
      ]
    },
    {
      "cell_type": "markdown",
      "metadata": {
        "id": "wzPB_fH7WM99"
      },
      "source": [
        "The spreadsheet 'newfemales.csv' contains information on two new females, with identical characteristics, except one is a high school graduate, and the other has a bachelor's degree."
      ]
    },
    {
      "cell_type": "markdown",
      "metadata": {
        "id": "fvZIvvAbWM99"
      },
      "source": [
        "Read in the new observations' information and apply the models to predict the probability of each applicant having at least three kids, and the predicted number of kids each applicant will have, and print out the predictions. Hint: don't forget to apply the same pre-processing steps to the new observations as you did to your training and test observations. This means standardizing the new observations using the means and variances of your labeled dataset, not the means and variances of these two new observations."
      ]
    },
    {
      "cell_type": "code",
      "metadata": {
        "hide_input": false,
        "id": "6EV3sNlRWM99",
        "outputId": "31a23d4e-cb7b-4d46-b02b-e8f789c4b0db",
        "colab": {
          "base_uri": "https://localhost:8080/"
        }
      },
      "source": [
        "new = pd.read_csv('https://raw.githubusercontent.com/JedRoundy/Machine_Learning_For_Economists/main/data/midterm/newfemales.csv')\n",
        "\n",
        "X_new = new[['agem1', 'marital', 'blackm', 'hispm', 'othracem', 'educm', 'hsgrad', 'hsormore', 'moreths']]\n",
        "\n",
        "\n",
        "X_new['Married w/ Spouse'] = [1 if x == 0 else 0 for x in X_new['marital']]\n",
        "X_new['Married w/o Spouse'] = [1 if x == 1 else 0 for x in X_new['marital']]\n",
        "X_new['Separated'] = [1 if x == 2 else 0 for x in X_new['marital']]\n",
        "X_new['Divorced'] = [1 if x == 3 else 0 for x in X_new['marital']]\n",
        "X_new['Widowed'] = [1 if x == 4 else 0 for x in X_new['marital']]\n",
        "\n",
        "#Remove marital to avoid perfect collinearity\n",
        "X_new.drop('marital', axis = 1, inplace = True)\n",
        "\n",
        "X_new = scaler.transform(X_new)\n",
        "\n",
        "print(f'Classification prediction: {model_class.predict(X_new)}')\n",
        "\n",
        "print(f'Regression prediction: {model_regress.predict(X_new)}')\n",
        "\n"
      ],
      "execution_count": 14,
      "outputs": [
        {
          "output_type": "stream",
          "name": "stdout",
          "text": [
            "Classification prediction: [0 0]\n",
            "Regression prediction: [2.36362757 2.18377464]\n"
          ]
        }
      ]
    }
  ]
}